{
 "cells": [
  {
   "cell_type": "code",
   "execution_count": 1,
   "metadata": {},
   "outputs": [
    {
     "data": {
      "text/plain": [
       "vodka             88\n",
       "gin               85\n",
       "sugar             70\n",
       "orange juice      64\n",
       "lemon juice       57\n",
       "ice               45\n",
       "lemon             44\n",
       "light rum         43\n",
       "triple sec        39\n",
       "amaretto          39\n",
       "grenadine         38\n",
       "water             38\n",
       "milk              35\n",
       "powdered sugar    29\n",
       "lemon peel        29\n",
       "kahlua            28\n",
       "lime              28\n",
       "brandy            28\n",
       "lime juice        26\n",
       "coffee            26\n",
       "Name: count, dtype: int64"
      ]
     },
     "execution_count": 1,
     "metadata": {},
     "output_type": "execute_result"
    }
   ],
   "source": [
    "import json\n",
    "import pandas as pd\n",
    "\n",
    "# Load JSON files\n",
    "with open('train_data.json', 'r') as file:\n",
    "    train_data = json.load(file)\n",
    "\n",
    "with open('category.json', 'r') as file:\n",
    "    category_data = json.load(file)\n",
    "\n",
    "with open('flavor.json', 'r') as file:\n",
    "    flavor_data = json.load(file)\n",
    "\n",
    "# Convert train data into DataFrame\n",
    "train_df = pd.DataFrame(train_data['cocktail_info'])\n",
    "\n",
    "# Extract all ingredients from the recipes\n",
    "ingredients = []\n",
    "for recipe in train_df['recipe']:\n",
    "    ingredients.extend(recipe.keys())\n",
    "\n",
    "# Count the frequency of each ingredient\n",
    "ingredient_counts = pd.Series(ingredients).value_counts()\n",
    "\n",
    "# Display the top 20 most common ingredients\n",
    "top_ingredients = ingredient_counts.head(20)\n",
    "top_ingredients"
   ]
  }
 ],
 "metadata": {
  "kernelspec": {
   "display_name": "de2024",
   "language": "python",
   "name": "python3"
  },
  "language_info": {
   "codemirror_mode": {
    "name": "ipython",
    "version": 3
   },
   "file_extension": ".py",
   "mimetype": "text/x-python",
   "name": "python",
   "nbconvert_exporter": "python",
   "pygments_lexer": "ipython3",
   "version": "3.11.8"
  }
 },
 "nbformat": 4,
 "nbformat_minor": 2
}
