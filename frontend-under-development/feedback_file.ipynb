{
 "cells": [
  {
   "cell_type": "code",
   "execution_count": 1,
   "metadata": {},
   "outputs": [],
   "source": [
    "import json\n",
    "import numpy as np\n",
    "import pandas as pd"
   ]
  },
  {
   "cell_type": "code",
   "execution_count": 14,
   "metadata": {},
   "outputs": [],
   "source": [
    "# 한번만 돌려야 합니다. 다시 돌리면 저장된 정보가 다 날아갑니다.\n",
    "#dictionary = {}\n",
    "#dictionary['feedback_info'] = []\n",
    "#with open('./feedback/feedback.json', 'w') as fw:\n",
    "#   json.dump(dictionary, fw)"
   ]
  },
  {
   "cell_type": "code",
   "execution_count": 21,
   "metadata": {},
   "outputs": [],
   "source": [
    "with open('./feedback/feedback.json', 'r') as f:\n",
    "    feedback = json.load(f)"
   ]
  },
  {
   "cell_type": "code",
   "execution_count": 22,
   "metadata": {},
   "outputs": [
    {
     "data": {
      "text/plain": [
       "{'feedback_info': [{'input_features': {'ABV': 41.0,\n",
       "    'boozy': 36.9,\n",
       "    'sweet': 100.0,\n",
       "    'sour': 45.0,\n",
       "    'bitter': 60.0,\n",
       "    'umami': 55.0,\n",
       "    'salty': 70.0,\n",
       "    'astringent': 54.0,\n",
       "    'perceived_t': 46.9069782200146,\n",
       "    'spicy': 95.0,\n",
       "    'herbal': 55.0,\n",
       "    'floral': 50.0,\n",
       "    'fruity': 35.0,\n",
       "    'nutty': 40.0,\n",
       "    'creamy': 75.0,\n",
       "    'smoky': 5.0,\n",
       "    'seed': 'hot chocolate'},\n",
       "   'output_ingredients': ['hot chocolate',\n",
       "    'milk',\n",
       "    'light rum',\n",
       "    'bourbon',\n",
       "    'vanilla extract'],\n",
       "   'output_amounts': [5.714285714285677,\n",
       "    5.714285714285677,\n",
       "    62.85714285714232,\n",
       "    62.85714285714232,\n",
       "    62.85714285714232],\n",
       "   'feedback_rating': 4},\n",
       "  {'input_features': {'ABV': 51.6,\n",
       "    'boozy': 46.440000000000005,\n",
       "    'sweet': 100.0,\n",
       "    'sour': 60.0,\n",
       "    'bitter': 55.0,\n",
       "    'umami': 45.0,\n",
       "    'salty': 65.0,\n",
       "    'astringent': 49.5,\n",
       "    'perceived_t': 46.87150518464567,\n",
       "    'spicy': 75.0,\n",
       "    'herbal': 45.0,\n",
       "    'floral': 45.0,\n",
       "    'fruity': 15.0,\n",
       "    'nutty': 55.0,\n",
       "    'creamy': 40.0,\n",
       "    'smoky': 60.0,\n",
       "    'seed': 'tabasco sauce'},\n",
       "   'output_ingredients': ['tabasco sauce', 'gin', 'bitters', 'orange peel'],\n",
       "   'output_amounts': [8.657999698193699,\n",
       "    95.2379966801305,\n",
       "    95.2379966801305,\n",
       "    0.00022996858355233538],\n",
       "   'feedback_rating': 4},\n",
       "  {'input_features': {'ABV': 47.0,\n",
       "    'boozy': 42.300000000000004,\n",
       "    'sweet': 55.0,\n",
       "    'sour': 70.0,\n",
       "    'bitter': 70.0,\n",
       "    'umami': 70.0,\n",
       "    'salty': 65.0,\n",
       "    'astringent': 63.0,\n",
       "    'perceived_t': 41.423826432957384,\n",
       "    'spicy': 55.0,\n",
       "    'herbal': 100.0,\n",
       "    'floral': 90.0,\n",
       "    'fruity': 55.0,\n",
       "    'nutty': 35.0,\n",
       "    'creamy': 70.0,\n",
       "    'smoky': 55.0,\n",
       "    'seed': 'cointreau'},\n",
       "   'output_ingredients': ['cointreau', 'lemon juice', 'ice'],\n",
       "   'output_amounts': [196.42773291860183,\n",
       "    0.00047430866969413673,\n",
       "    0.00047430866969413673],\n",
       "   'feedback_rating': 1}]}"
      ]
     },
     "execution_count": 22,
     "metadata": {},
     "output_type": "execute_result"
    }
   ],
   "source": [
    "feedback"
   ]
  },
  {
   "cell_type": "markdown",
   "metadata": {},
   "source": [
    "##### Monitor feedback database"
   ]
  },
  {
   "cell_type": "code",
   "execution_count": null,
   "metadata": {},
   "outputs": [],
   "source": []
  }
 ],
 "metadata": {
  "kernelspec": {
   "display_name": "Python 3",
   "language": "python",
   "name": "python3"
  },
  "language_info": {
   "codemirror_mode": {
    "name": "ipython",
    "version": 3
   },
   "file_extension": ".py",
   "mimetype": "text/x-python",
   "name": "python",
   "nbconvert_exporter": "python",
   "pygments_lexer": "ipython3",
   "version": "3.10.12"
  }
 },
 "nbformat": 4,
 "nbformat_minor": 2
}
