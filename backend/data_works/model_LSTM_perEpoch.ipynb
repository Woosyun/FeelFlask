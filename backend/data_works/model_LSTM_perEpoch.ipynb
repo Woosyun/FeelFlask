{
 "cells": [
  {
   "cell_type": "code",
   "execution_count": 1,
   "metadata": {},
   "outputs": [
    {
     "name": "stderr",
     "output_type": "stream",
     "text": [
      "Failed to detect the name of this notebook, you can set it manually with the WANDB_NOTEBOOK_NAME environment variable to enable code saving.\n",
      "\u001b[34m\u001b[1mwandb\u001b[0m: Currently logged in as: \u001b[33mann4622-sin\u001b[0m (\u001b[33mjennyshin_gist_2024\u001b[0m). Use \u001b[1m`wandb login --relogin`\u001b[0m to force relogin\n"
     ]
    },
    {
     "data": {
      "application/vnd.jupyter.widget-view+json": {
       "model_id": "23da6a2b2459470b82cea7f1682b3666",
       "version_major": 2,
       "version_minor": 0
      },
      "text/plain": [
       "VBox(children=(Label(value='Waiting for wandb.init()...\\r'), FloatProgress(value=0.011288888886984852, max=1.0…"
      ]
     },
     "metadata": {},
     "output_type": "display_data"
    },
    {
     "data": {
      "text/html": [
       "Tracking run with wandb version 0.17.0"
      ],
      "text/plain": [
       "<IPython.core.display.HTML object>"
      ]
     },
     "metadata": {},
     "output_type": "display_data"
    },
    {
     "data": {
      "text/html": [
       "Run data is saved locally in <code>d:\\CODE\\feelflask_master\\backend\\data_works\\wandb\\run-20240605_213659-6w8omx2s</code>"
      ],
      "text/plain": [
       "<IPython.core.display.HTML object>"
      ]
     },
     "metadata": {},
     "output_type": "display_data"
    },
    {
     "data": {
      "text/html": [
       "Syncing run <strong><a href='https://wandb.ai/jennyshin_gist_2024/cocktail_recipe_generation_v3_random_seed/runs/6w8omx2s' target=\"_blank\">summer-haze-772</a></strong> to <a href='https://wandb.ai/jennyshin_gist_2024/cocktail_recipe_generation_v3_random_seed' target=\"_blank\">Weights & Biases</a> (<a href='https://wandb.me/run' target=\"_blank\">docs</a>)<br/>"
      ],
      "text/plain": [
       "<IPython.core.display.HTML object>"
      ]
     },
     "metadata": {},
     "output_type": "display_data"
    },
    {
     "data": {
      "text/html": [
       " View project at <a href='https://wandb.ai/jennyshin_gist_2024/cocktail_recipe_generation_v3_random_seed' target=\"_blank\">https://wandb.ai/jennyshin_gist_2024/cocktail_recipe_generation_v3_random_seed</a>"
      ],
      "text/plain": [
       "<IPython.core.display.HTML object>"
      ]
     },
     "metadata": {},
     "output_type": "display_data"
    },
    {
     "data": {
      "text/html": [
       " View run at <a href='https://wandb.ai/jennyshin_gist_2024/cocktail_recipe_generation_v3_random_seed/runs/6w8omx2s' target=\"_blank\">https://wandb.ai/jennyshin_gist_2024/cocktail_recipe_generation_v3_random_seed/runs/6w8omx2s</a>"
      ],
      "text/plain": [
       "<IPython.core.display.HTML object>"
      ]
     },
     "metadata": {},
     "output_type": "display_data"
    },
    {
     "name": "stderr",
     "output_type": "stream",
     "text": [
      "c:\\Users\\user\\anaconda3\\Lib\\site-packages\\keras\\src\\layers\\core\\embedding.py:90: UserWarning: Argument `input_length` is deprecated. Just remove it.\n",
      "  warnings.warn(\n"
     ]
    },
    {
     "name": "stdout",
     "output_type": "stream",
     "text": [
      "user_seed : cider\n",
      "cider\n",
      "seed_ingredient : cider\n",
      "\u001b[1m1/1\u001b[0m \u001b[32m━━━━━━━━━━━━━━━━━━━━\u001b[0m\u001b[37m\u001b[0m \u001b[1m0s\u001b[0m 286ms/step\n",
      "next_ingredient : lager, total_prob : 0 , normalized_prob[next_ingredient_id] : 0.8413283375229815\n",
      "\u001b[1m1/1\u001b[0m \u001b[32m━━━━━━━━━━━━━━━━━━━━\u001b[0m\u001b[37m\u001b[0m \u001b[1m0s\u001b[0m 16ms/step\n",
      "next_ingredient : blue curacao, total_prob : 0.8413283375229815 , normalized_prob[next_ingredient_id] : 0.850941121381776\n",
      "(['cider', 'lager', 'blue curacao'], [0.33333333333333337, 0.33333333333333337, 0.33333333333333337])\n",
      "{\n",
      "    \"user_id\": 0,\n",
      "    \"ABV\": 7,\n",
      "    \"sweet\": 36,\n",
      "    \"sour\": 70,\n",
      "    \"bitter\": 6,\n",
      "    \"umami\": 38,\n",
      "    \"salty\": 50,\n",
      "    \"astringent\": 65,\n",
      "    \"Perceived_temperature\": 13,\n",
      "    \"spicy\": 22,\n",
      "    \"herbal\": 24,\n",
      "    \"floral\": 27,\n",
      "    \"fruity\": 35,\n",
      "    \"nutty\": 13,\n",
      "    \"creamy\": 70,\n",
      "    \"smoky\": 19\n",
      "}\n",
      "s : 0.8848034964231679, d : 0.8008746280906945, a : 0, t : 0.7214285714285714\n",
      "user_seed : port\n",
      "port\n",
      "seed_ingredient : port\n",
      "\u001b[1m1/1\u001b[0m \u001b[32m━━━━━━━━━━━━━━━━━━━━\u001b[0m\u001b[37m\u001b[0m \u001b[1m0s\u001b[0m 15ms/step\n",
      "next_ingredient : brandy, total_prob : 0 , normalized_prob[next_ingredient_id] : 0.4438185238317305\n",
      "\u001b[1m1/1\u001b[0m \u001b[32m━━━━━━━━━━━━━━━━━━━━\u001b[0m\u001b[37m\u001b[0m \u001b[1m0s\u001b[0m 24ms/step\n",
      "next_ingredient : egg yolk, total_prob : 0.4438185238317305 , normalized_prob[next_ingredient_id] : 0.9040502983885023\n",
      "(['port', 'brandy', 'egg yolk'], [0.22642614700250552, 0.5974965276105104, 0.1760773253869842])\n",
      "{\n",
      "    \"user_id\": 1,\n",
      "    \"ABV\": 21,\n",
      "    \"sweet\": 18,\n",
      "    \"sour\": 46,\n",
      "    \"bitter\": 16,\n",
      "    \"umami\": 41,\n",
      "    \"salty\": 80,\n",
      "    \"astringent\": 5,\n",
      "    \"Perceived_temperature\": 6,\n",
      "    \"spicy\": 20,\n",
      "    \"herbal\": 6,\n",
      "    \"floral\": 46,\n",
      "    \"fruity\": 62,\n",
      "    \"nutty\": 2,\n",
      "    \"creamy\": 99,\n",
      "    \"smoky\": 42\n",
      "}\n",
      "s : 0.8736855669042497, d : 0.8008754296193701, a : 0.45702579585097924, t : 0.7168497673193671\n",
      "user_seed : southern comfort\n",
      "southern comfort\n",
      "seed_ingredient : southern comfort\n",
      "\u001b[1m1/1\u001b[0m \u001b[32m━━━━━━━━━━━━━━━━━━━━\u001b[0m\u001b[37m\u001b[0m \u001b[1m0s\u001b[0m 15ms/step\n",
      "next_ingredient : grand marnier, total_prob : 0 , normalized_prob[next_ingredient_id] : 0.2305073832499568\n",
      "\u001b[1m1/1\u001b[0m \u001b[32m━━━━━━━━━━━━━━━━━━━━\u001b[0m\u001b[37m\u001b[0m \u001b[1m0s\u001b[0m 16ms/step\n",
      "next_ingredient : amaretto, total_prob : 0.2305073832499568 , normalized_prob[next_ingredient_id] : 0.6671121101694136\n",
      "\u001b[1m1/1\u001b[0m \u001b[32m━━━━━━━━━━━━━━━━━━━━\u001b[0m\u001b[37m\u001b[0m \u001b[1m0s\u001b[0m 12ms/step\n",
      "next_ingredient : orange juice, total_prob : 0.8976194934193704 , normalized_prob[next_ingredient_id] : 0.23928989451125457\n",
      "(['southern comfort', 'grand marnier', 'amaretto', 'orange juice'], [0.3440116490717146, 0.3931561703676738, 0.25555151073898796, 0.007280669821623589])\n",
      "{\n",
      "    \"user_id\": 2,\n",
      "    \"ABV\": 58,\n",
      "    \"sweet\": 54,\n",
      "    \"sour\": 62,\n",
      "    \"bitter\": 29,\n",
      "    \"umami\": 45,\n",
      "    \"salty\": 58,\n",
      "    \"astringent\": 94,\n",
      "    \"Perceived_temperature\": 65,\n",
      "    \"spicy\": 41,\n",
      "    \"herbal\": 94,\n",
      "    \"floral\": 60,\n",
      "    \"fruity\": 96,\n",
      "    \"nutty\": 75,\n",
      "    \"creamy\": 70,\n",
      "    \"smoky\": 74\n",
      "}\n",
      "s : 0.9854410764353256, d : 0.8011659617290083, a : 0.593993008802593, t : 0.49692937750273025\n",
      "user_seed : beer\n",
      "beer\n",
      "seed_ingredient : beer\n",
      "\u001b[1m1/1\u001b[0m \u001b[32m━━━━━━━━━━━━━━━━━━━━\u001b[0m\u001b[37m\u001b[0m \u001b[1m0s\u001b[0m 15ms/step\n",
      "next_ingredient : 7-up, total_prob : 0 , normalized_prob[next_ingredient_id] : 0.7620917976551406\n",
      "\u001b[1m1/1\u001b[0m \u001b[32m━━━━━━━━━━━━━━━━━━━━\u001b[0m\u001b[37m\u001b[0m \u001b[1m0s\u001b[0m 9ms/step\n",
      "next_ingredient : cream, total_prob : 0.7620917976551406 , normalized_prob[next_ingredient_id] : 0.9397084992797513\n",
      "(['beer', '7-up', 'cream'], [0.33333333333333337, 0.33333333333333337, 0.33333333333333337])\n",
      "{\n",
      "    \"user_id\": 3,\n",
      "    \"ABV\": 2,\n",
      "    \"sweet\": 30,\n",
      "    \"sour\": 8,\n",
      "    \"bitter\": 71,\n",
      "    \"umami\": 78,\n",
      "    \"salty\": 5,\n",
      "    \"astringent\": 76,\n",
      "    \"Perceived_temperature\": 6,\n",
      "    \"spicy\": 89,\n",
      "    \"herbal\": 91,\n",
      "    \"floral\": 2,\n",
      "    \"fruity\": 25,\n",
      "    \"nutty\": 86,\n",
      "    \"creamy\": 60,\n",
      "    \"smoky\": 81\n",
      "}\n",
      "s : 0.816496580927726, d : 0.8008746280906945, a : 1.0, t : 0.5595238095238095\n",
      "user_seed : ricard\n",
      "ricard\n",
      "seed_ingredient : ricard\n",
      "\u001b[1m1/1\u001b[0m \u001b[32m━━━━━━━━━━━━━━━━━━━━\u001b[0m\u001b[37m\u001b[0m \u001b[1m0s\u001b[0m 18ms/step\n",
      "next_ingredient : vodka, total_prob : 0 , normalized_prob[next_ingredient_id] : 0.4392131685353212\n",
      "\u001b[1m1/1\u001b[0m \u001b[32m━━━━━━━━━━━━━━━━━━━━\u001b[0m\u001b[37m\u001b[0m \u001b[1m0s\u001b[0m 16ms/step\n",
      "next_ingredient : grand marnier, total_prob : 0.4392131685353212 , normalized_prob[next_ingredient_id] : 0.344803925075513\n",
      "\u001b[1m1/1\u001b[0m \u001b[32m━━━━━━━━━━━━━━━━━━━━\u001b[0m\u001b[37m\u001b[0m \u001b[1m0s\u001b[0m 16ms/step\n",
      "next_ingredient : blue curacao, total_prob : 0.7840170936108342 , normalized_prob[next_ingredient_id] : 0.1846606435848322\n",
      "\u001b[1m1/1\u001b[0m \u001b[32m━━━━━━━━━━━━━━━━━━━━\u001b[0m\u001b[37m\u001b[0m \u001b[1m0s\u001b[0m 15ms/step\n",
      "next_ingredient : sweet and sour, total_prob : 0.9686777371956663 , normalized_prob[next_ingredient_id] : 0.4438868607030265\n",
      "(['ricard', 'vodka', 'grand marnier', 'blue curacao', 'sweet and sour'], [0.28428927680798, 0.25270157938487114, 0.25270157938487114, 0.20532003325020778, 0.0049875311720698244])\n",
      "{\n",
      "    \"user_id\": 4,\n",
      "    \"ABV\": 45,\n",
      "    \"sweet\": 22,\n",
      "    \"sour\": 54,\n",
      "    \"bitter\": 99,\n",
      "    \"umami\": 21,\n",
      "    \"salty\": 10,\n",
      "    \"astringent\": 20,\n",
      "    \"Perceived_temperature\": 3,\n",
      "    \"spicy\": 31,\n",
      "    \"herbal\": 47,\n",
      "    \"floral\": 66,\n",
      "    \"fruity\": 82,\n",
      "    \"nutty\": 18,\n",
      "    \"creamy\": 91,\n",
      "    \"smoky\": 97\n",
      "}\n",
      "s : 0.5023435111596963, d : 0.8014555916671107, a : 0.8820852525006774, t : 0.5806893480584253\n",
      "Model does not meet the threshold criteria.\n"
     ]
    },
    {
     "data": {
      "application/vnd.jupyter.widget-view+json": {
       "model_id": "1c7a9d479ddd4d50a239ad6a992f38bd",
       "version_major": 2,
       "version_minor": 0
      },
      "text/plain": [
       "VBox(children=(Label(value='0.001 MB of 0.001 MB uploaded\\r'), FloatProgress(value=1.0, max=1.0)))"
      ]
     },
     "metadata": {},
     "output_type": "display_data"
    },
    {
     "data": {
      "text/html": [
       "<style>\n",
       "    table.wandb td:nth-child(1) { padding: 0 10px; text-align: left ; width: auto;} td:nth-child(2) {text-align: left ; width: 100%}\n",
       "    .wandb-row { display: flex; flex-direction: row; flex-wrap: wrap; justify-content: flex-start; width: 100% }\n",
       "    .wandb-col { display: flex; flex-direction: column; flex-basis: 100%; flex: 1; padding: 10px; }\n",
       "    </style>\n",
       "<div class=\"wandb-row\"><div class=\"wandb-col\"><h3>Run history:</h3><br/><table class=\"wandb\"><tr><td>ABV</td><td>▃▇▇▁█</td></tr><tr><td>Perceived_temperature</td><td>▁▇█▁▇</td></tr><tr><td>abv_match</td><td>▁</td></tr><tr><td>accuracy</td><td>▁▃▅▇█</td></tr><tr><td>astringent</td><td>█▁▁█▁</td></tr><tr><td>avg_ingredient_count</td><td>▁</td></tr><tr><td>bitter</td><td>▁▄▆▁█</td></tr><tr><td>boozy</td><td>▃▆▇▁█</td></tr><tr><td>creamy</td><td>▂▃▂█▁</td></tr><tr><td>diversity</td><td>▁</td></tr><tr><td>epoch</td><td>▁▁▁▁▁</td></tr><tr><td>floral</td><td>▁▂█▁▃</td></tr><tr><td>fruity</td><td>█▅▇▁▄</td></tr><tr><td>herbal</td><td>▂▁▅▂█</td></tr><tr><td>ingredient_count_0</td><td>▁</td></tr><tr><td>ingredient_count_1</td><td>▁</td></tr><tr><td>ingredient_count_2</td><td>▁</td></tr><tr><td>ingredient_count_3</td><td>▁</td></tr><tr><td>ingredient_count_4</td><td>▁</td></tr><tr><td>loss</td><td>█▅▃▂▁</td></tr><tr><td>nutty</td><td>▁▃█▁▁</td></tr><tr><td>performance</td><td>▁</td></tr><tr><td>salty</td><td>▄█▁▄▁</td></tr><tr><td>similarity</td><td>▁</td></tr><tr><td>smoky</td><td>▁█▃▃▁</td></tr><tr><td>sour</td><td>▄▁▃█▁</td></tr><tr><td>spicy</td><td>▁▁▁▁▁</td></tr><tr><td>sweet</td><td>▃▁█▃▂</td></tr><tr><td>taste_match</td><td>▁</td></tr><tr><td>umami</td><td>▃█▇▃▁</td></tr></table><br/></div><div class=\"wandb-col\"><h3>Run summary:</h3><br/><table class=\"wandb\"><tr><td>ABV</td><td>39.68204</td></tr><tr><td>Perceived_temperature</td><td>27.89692</td></tr><tr><td>abv_match</td><td>0.58662</td></tr><tr><td>accuracy</td><td>0.62076</td></tr><tr><td>astringent</td><td>0.0</td></tr><tr><td>avg_ingredient_count</td><td>3.6</td></tr><tr><td>bitter</td><td>16.4256</td></tr><tr><td>boozy</td><td>68.07149</td></tr><tr><td>creamy</td><td>0.0</td></tr><tr><td>diversity</td><td>0.80105</td></tr><tr><td>epoch</td><td>50</td></tr><tr><td>floral</td><td>7.58105</td></tr><tr><td>fruity</td><td>24.58022</td></tr><tr><td>herbal</td><td>24.95428</td></tr><tr><td>ingredient_count_0</td><td>3</td></tr><tr><td>ingredient_count_1</td><td>3</td></tr><tr><td>ingredient_count_2</td><td>4</td></tr><tr><td>ingredient_count_3</td><td>3</td></tr><tr><td>ingredient_count_4</td><td>5</td></tr><tr><td>loss</td><td>1.37292</td></tr><tr><td>nutty</td><td>0.0</td></tr><tr><td>performance</td><td>2.00275</td></tr><tr><td>salty</td><td>0.0</td></tr><tr><td>similarity</td><td>0.81255</td></tr><tr><td>smoky</td><td>0.0</td></tr><tr><td>sour</td><td>5.20366</td></tr><tr><td>spicy</td><td>0.0</td></tr><tr><td>sweet</td><td>26.88279</td></tr><tr><td>taste_match</td><td>0.61508</td></tr><tr><td>umami</td><td>0.0</td></tr></table><br/></div></div>"
      ],
      "text/plain": [
       "<IPython.core.display.HTML object>"
      ]
     },
     "metadata": {},
     "output_type": "display_data"
    },
    {
     "data": {
      "text/html": [
       " View run <strong style=\"color:#cdcd00\">summer-haze-772</strong> at: <a href='https://wandb.ai/jennyshin_gist_2024/cocktail_recipe_generation_v3_random_seed/runs/6w8omx2s' target=\"_blank\">https://wandb.ai/jennyshin_gist_2024/cocktail_recipe_generation_v3_random_seed/runs/6w8omx2s</a><br/> View project at: <a href='https://wandb.ai/jennyshin_gist_2024/cocktail_recipe_generation_v3_random_seed' target=\"_blank\">https://wandb.ai/jennyshin_gist_2024/cocktail_recipe_generation_v3_random_seed</a><br/>Synced 6 W&B file(s), 0 media file(s), 0 artifact file(s) and 0 other file(s)"
      ],
      "text/plain": [
       "<IPython.core.display.HTML object>"
      ]
     },
     "metadata": {},
     "output_type": "display_data"
    },
    {
     "data": {
      "text/html": [
       "Find logs at: <code>.\\wandb\\run-20240605_213659-6w8omx2s\\logs</code>"
      ],
      "text/plain": [
       "<IPython.core.display.HTML object>"
      ]
     },
     "metadata": {},
     "output_type": "display_data"
    },
    {
     "name": "stderr",
     "output_type": "stream",
     "text": [
      "\u001b[34m\u001b[1mwandb\u001b[0m: \u001b[33mWARNING\u001b[0m Malformed sweep config detected! This may cause your sweep to behave in unexpected ways.\n",
      "\u001b[34m\u001b[1mwandb\u001b[0m: \u001b[33mWARNING\u001b[0m To avoid this, please fix the sweep config schema violations below:\n",
      "\u001b[34m\u001b[1mwandb\u001b[0m: \u001b[33mWARNING\u001b[0m   Violation 1. lr uses log_uniform, where min/max specify base-e exponents. Use log_uniform_values to specify limit values.\n"
     ]
    },
    {
     "name": "stdout",
     "output_type": "stream",
     "text": [
      "Create sweep with ID: eeqk6rdo\n",
      "Sweep URL: https://wandb.ai/jennyshin_gist_2024/cocktail_recipe_generation_v3_random_seed/sweeps/eeqk6rdo\n"
     ]
    },
    {
     "name": "stderr",
     "output_type": "stream",
     "text": [
      "\u001b[34m\u001b[1mwandb\u001b[0m: Agent Starting Run: o29vw6gu with config:\n",
      "\u001b[34m\u001b[1mwandb\u001b[0m: \tbatch_size: 16\n",
      "\u001b[34m\u001b[1mwandb\u001b[0m: \tepochs: 100\n",
      "\u001b[34m\u001b[1mwandb\u001b[0m: \thidden_units: 64\n",
      "\u001b[34m\u001b[1mwandb\u001b[0m: \tlr: 1.089070137424308\n",
      "\u001b[34m\u001b[1mwandb\u001b[0m: \toptimizer: adam\n",
      "Failed to detect the name of this notebook, you can set it manually with the WANDB_NOTEBOOK_NAME environment variable to enable code saving.\n",
      "\u001b[34m\u001b[1mwandb\u001b[0m: \u001b[33mWARNING\u001b[0m Ignored wandb.init() arg project when running a sweep.\n"
     ]
    },
    {
     "data": {
      "application/vnd.jupyter.widget-view+json": {
       "model_id": "f23e124566c54f59ae7422e1b13485ad",
       "version_major": 2,
       "version_minor": 0
      },
      "text/plain": [
       "VBox(children=(Label(value='Waiting for wandb.init()...\\r'), FloatProgress(value=0.01128888888957186, max=1.0)…"
      ]
     },
     "metadata": {},
     "output_type": "display_data"
    },
    {
     "data": {
      "text/html": [
       "Tracking run with wandb version 0.17.0"
      ],
      "text/plain": [
       "<IPython.core.display.HTML object>"
      ]
     },
     "metadata": {},
     "output_type": "display_data"
    },
    {
     "data": {
      "text/html": [
       "Run data is saved locally in <code>d:\\CODE\\feelflask_master\\backend\\data_works\\wandb\\run-20240605_213815-o29vw6gu</code>"
      ],
      "text/plain": [
       "<IPython.core.display.HTML object>"
      ]
     },
     "metadata": {},
     "output_type": "display_data"
    },
    {
     "data": {
      "text/html": [
       "Syncing run <strong><a href='https://wandb.ai/jennyshin_gist_2024/cocktail_recipe_generation_v3_random_seed/runs/o29vw6gu' target=\"_blank\">true-sweep-1</a></strong> to <a href='https://wandb.ai/jennyshin_gist_2024/cocktail_recipe_generation_v3_random_seed' target=\"_blank\">Weights & Biases</a> (<a href='https://wandb.me/run' target=\"_blank\">docs</a>)<br/>Sweep page: <a href='https://wandb.ai/jennyshin_gist_2024/cocktail_recipe_generation_v3_random_seed/sweeps/eeqk6rdo' target=\"_blank\">https://wandb.ai/jennyshin_gist_2024/cocktail_recipe_generation_v3_random_seed/sweeps/eeqk6rdo</a>"
      ],
      "text/plain": [
       "<IPython.core.display.HTML object>"
      ]
     },
     "metadata": {},
     "output_type": "display_data"
    },
    {
     "data": {
      "text/html": [
       " View project at <a href='https://wandb.ai/jennyshin_gist_2024/cocktail_recipe_generation_v3_random_seed' target=\"_blank\">https://wandb.ai/jennyshin_gist_2024/cocktail_recipe_generation_v3_random_seed</a>"
      ],
      "text/plain": [
       "<IPython.core.display.HTML object>"
      ]
     },
     "metadata": {},
     "output_type": "display_data"
    },
    {
     "data": {
      "text/html": [
       " View sweep at <a href='https://wandb.ai/jennyshin_gist_2024/cocktail_recipe_generation_v3_random_seed/sweeps/eeqk6rdo' target=\"_blank\">https://wandb.ai/jennyshin_gist_2024/cocktail_recipe_generation_v3_random_seed/sweeps/eeqk6rdo</a>"
      ],
      "text/plain": [
       "<IPython.core.display.HTML object>"
      ]
     },
     "metadata": {},
     "output_type": "display_data"
    },
    {
     "data": {
      "text/html": [
       " View run at <a href='https://wandb.ai/jennyshin_gist_2024/cocktail_recipe_generation_v3_random_seed/runs/o29vw6gu' target=\"_blank\">https://wandb.ai/jennyshin_gist_2024/cocktail_recipe_generation_v3_random_seed/runs/o29vw6gu</a>"
      ],
      "text/plain": [
       "<IPython.core.display.HTML object>"
      ]
     },
     "metadata": {},
     "output_type": "display_data"
    },
    {
     "name": "stdout",
     "output_type": "stream",
     "text": [
      "user_seed : champagne\n",
      "champagne\n",
      "seed_ingredient : champagne\n",
      "\u001b[1m1/1\u001b[0m \u001b[32m━━━━━━━━━━━━━━━━━━━━\u001b[0m\u001b[37m\u001b[0m \u001b[1m0s\u001b[0m 286ms/step\n",
      "next_ingredient : creme de cassis, total_prob : 0 , normalized_prob[next_ingredient_id] : 0.3075281370676728\n",
      "\u001b[1m1/1\u001b[0m \u001b[32m━━━━━━━━━━━━━━━━━━━━\u001b[0m\u001b[37m\u001b[0m \u001b[1m0s\u001b[0m 15ms/step\n",
      "next_ingredient : orange juice, total_prob : 0.3075281370676728 , normalized_prob[next_ingredient_id] : 0.8532149422819763\n",
      "(['champagne', 'creme de cassis', 'orange juice'], [0.1801800176384644, 0.2688064389978466, 0.5510135433636889])\n",
      "{\n",
      "    \"user_id\": 0,\n",
      "    \"ABV\": 7,\n",
      "    \"sweet\": 36,\n",
      "    \"sour\": 70,\n",
      "    \"bitter\": 6,\n",
      "    \"umami\": 38,\n",
      "    \"salty\": 50,\n",
      "    \"astringent\": 65,\n",
      "    \"Perceived_temperature\": 13,\n",
      "    \"spicy\": 22,\n",
      "    \"herbal\": 24,\n",
      "    \"floral\": 27,\n",
      "    \"fruity\": 35,\n",
      "    \"nutty\": 13,\n",
      "    \"creamy\": 70,\n",
      "    \"smoky\": 19\n",
      "}\n",
      "s : 0.8590333393108945, d : 0.8008754296193701, a : 0.9999047727291813, t : 0.6987009144048024\n",
      "user_seed : blackberry brandy\n",
      "blackberry brandy\n",
      "seed_ingredient : blackberry brandy\n",
      "\u001b[1m1/1\u001b[0m \u001b[32m━━━━━━━━━━━━━━━━━━━━\u001b[0m\u001b[37m\u001b[0m \u001b[1m0s\u001b[0m 15ms/step\n",
      "next_ingredient : malibu rum, total_prob : 0 , normalized_prob[next_ingredient_id] : 0.8765022329579596\n",
      "\u001b[1m1/1\u001b[0m \u001b[32m━━━━━━━━━━━━━━━━━━━━\u001b[0m\u001b[37m\u001b[0m \u001b[1m0s\u001b[0m 22ms/step\n",
      "next_ingredient : cranberry juice, total_prob : 0.8765022329579596 , normalized_prob[next_ingredient_id] : 0.5466790556207243\n",
      "(['blackberry brandy', 'malibu rum', 'cranberry juice'], [0.5124942515784849, 0.44843247013117493, 0.03907327829034002])\n",
      "{\n",
      "    \"user_id\": 1,\n",
      "    \"ABV\": 21,\n",
      "    \"sweet\": 18,\n",
      "    \"sour\": 46,\n",
      "    \"bitter\": 16,\n",
      "    \"umami\": 41,\n",
      "    \"salty\": 80,\n",
      "    \"astringent\": 5,\n",
      "    \"Perceived_temperature\": 6,\n",
      "    \"spicy\": 20,\n",
      "    \"herbal\": 6,\n",
      "    \"floral\": 46,\n",
      "    \"fruity\": 62,\n",
      "    \"nutty\": 2,\n",
      "    \"creamy\": 99,\n",
      "    \"smoky\": 42\n",
      "}\n",
      "s : 0.5312782716154847, d : 0.8008754296193701, a : 0.9660216156095585, t : 0.7083822353430884\n",
      "user_seed : drambuie\n",
      "drambuie\n",
      "seed_ingredient : drambuie\n",
      "\u001b[1m1/1\u001b[0m \u001b[32m━━━━━━━━━━━━━━━━━━━━\u001b[0m\u001b[37m\u001b[0m \u001b[1m0s\u001b[0m 16ms/step\n",
      "next_ingredient : scotch, total_prob : 0 , normalized_prob[next_ingredient_id] : 0.9655538081659787\n",
      "\u001b[1m1/1\u001b[0m \u001b[32m━━━━━━━━━━━━━━━━━━━━\u001b[0m\u001b[37m\u001b[0m \u001b[1m0s\u001b[0m 9ms/step\n",
      "next_ingredient : lemon peel, total_prob : 0.9655538081659787 , normalized_prob[next_ingredient_id] : 0.8393481901289975\n",
      "(['drambuie', 'scotch', 'lemon peel'], [0.4955752212389381, 0.4955752212389381, 0.008849557522123894])\n",
      "{\n",
      "    \"user_id\": 2,\n",
      "    \"ABV\": 58,\n",
      "    \"sweet\": 54,\n",
      "    \"sour\": 62,\n",
      "    \"bitter\": 29,\n",
      "    \"umami\": 45,\n",
      "    \"salty\": 58,\n",
      "    \"astringent\": 94,\n",
      "    \"Perceived_temperature\": 65,\n",
      "    \"spicy\": 41,\n",
      "    \"herbal\": 94,\n",
      "    \"floral\": 60,\n",
      "    \"fruity\": 96,\n",
      "    \"nutty\": 75,\n",
      "    \"creamy\": 70,\n",
      "    \"smoky\": 74\n",
      "}\n",
      "s : 0.869422779285168, d : 0.8008751624431449, a : 0.6840966901740972, t : 0.4545701643489254\n",
      "user_seed : beer\n",
      "beer\n",
      "seed_ingredient : beer\n",
      "\u001b[1m1/1\u001b[0m \u001b[32m━━━━━━━━━━━━━━━━━━━━\u001b[0m\u001b[37m\u001b[0m \u001b[1m0s\u001b[0m 16ms/step\n",
      "next_ingredient : orange juice, total_prob : 0 , normalized_prob[next_ingredient_id] : 0.4066432476901538\n",
      "\u001b[1m1/1\u001b[0m \u001b[32m━━━━━━━━━━━━━━━━━━━━\u001b[0m\u001b[37m\u001b[0m \u001b[1m0s\u001b[0m 23ms/step\n",
      "next_ingredient : amaretto, total_prob : 0.4066432476901538 , normalized_prob[next_ingredient_id] : 0.6947433608509465\n",
      "(['beer', 'orange juice', 'amaretto'], [0.06237703385750764, 0.8752459322849848, 0.06237703385750764])\n",
      "{\n",
      "    \"user_id\": 3,\n",
      "    \"ABV\": 2,\n",
      "    \"sweet\": 30,\n",
      "    \"sour\": 8,\n",
      "    \"bitter\": 71,\n",
      "    \"umami\": 78,\n",
      "    \"salty\": 5,\n",
      "    \"astringent\": 76,\n",
      "    \"Perceived_temperature\": 6,\n",
      "    \"spicy\": 89,\n",
      "    \"herbal\": 91,\n",
      "    \"floral\": 2,\n",
      "    \"fruity\": 25,\n",
      "    \"nutty\": 86,\n",
      "    \"creamy\": 60,\n",
      "    \"smoky\": 81\n",
      "}\n",
      "s : 0.9971749952688601, d : 0.8008751624431449, a : 0.9981262302096402, t : 0.487913930376627\n",
      "user_seed : cointreau\n",
      "cointreau\n",
      "seed_ingredient : cointreau\n",
      "\u001b[1m1/1\u001b[0m \u001b[32m━━━━━━━━━━━━━━━━━━━━\u001b[0m\u001b[37m\u001b[0m \u001b[1m0s\u001b[0m 16ms/step\n",
      "next_ingredient : absolut vodka, total_prob : 0 , normalized_prob[next_ingredient_id] : 0.2956265451891105\n",
      "\u001b[1m1/1\u001b[0m \u001b[32m━━━━━━━━━━━━━━━━━━━━\u001b[0m\u001b[37m\u001b[0m \u001b[1m0s\u001b[0m 15ms/step\n",
      "next_ingredient : lemon, total_prob : 0.2956265451891105 , normalized_prob[next_ingredient_id] : 0.8558293295934388\n",
      "(['cointreau', 'absolut vodka', 'lemon'], [0.4955752212389381, 0.4955752212389381, 0.008849557522123894])\n",
      "{\n",
      "    \"user_id\": 4,\n",
      "    \"ABV\": 45,\n",
      "    \"sweet\": 22,\n",
      "    \"sour\": 54,\n",
      "    \"bitter\": 99,\n",
      "    \"umami\": 21,\n",
      "    \"salty\": 10,\n",
      "    \"astringent\": 20,\n",
      "    \"Perceived_temperature\": 3,\n",
      "    \"spicy\": 31,\n",
      "    \"herbal\": 47,\n",
      "    \"floral\": 66,\n",
      "    \"fruity\": 82,\n",
      "    \"nutty\": 18,\n",
      "    \"creamy\": 91,\n",
      "    \"smoky\": 97\n",
      "}\n",
      "s : 0.9240524121304822, d : 0.8008751624431449, a : 0.881286423483704, t : 0.5861883691529709\n",
      "Model does not meet the threshold criteria.\n"
     ]
    },
    {
     "data": {
      "application/vnd.jupyter.widget-view+json": {
       "model_id": "c6c08fcc384f4d95afc643d1fdba66fb",
       "version_major": 2,
       "version_minor": 0
      },
      "text/plain": [
       "VBox(children=(Label(value='0.001 MB of 0.034 MB uploaded\\r'), FloatProgress(value=0.0385084015754725, max=1.0…"
      ]
     },
     "metadata": {},
     "output_type": "display_data"
    },
    {
     "data": {
      "text/html": [
       "<style>\n",
       "    table.wandb td:nth-child(1) { padding: 0 10px; text-align: left ; width: auto;} td:nth-child(2) {text-align: left ; width: 100%}\n",
       "    .wandb-row { display: flex; flex-direction: row; flex-wrap: wrap; justify-content: flex-start; width: 100% }\n",
       "    .wandb-col { display: flex; flex-direction: column; flex-basis: 100%; flex: 1; padding: 10px; }\n",
       "    </style>\n",
       "<div class=\"wandb-row\"><div class=\"wandb-col\"><h3>Run history:</h3><br/><table class=\"wandb\"><tr><td>ABV</td><td>▂▅█▁█</td></tr><tr><td>Perceived_temperature</td><td>▁▅█▁█</td></tr><tr><td>abv_match</td><td>▁</td></tr><tr><td>accuracy</td><td>▁▂▄▅▆▇████</td></tr><tr><td>astringent</td><td>▆▅▁█▁</td></tr><tr><td>avg_ingredient_count</td><td>▁</td></tr><tr><td>bitter</td><td>▂▁█▃▂</td></tr><tr><td>boozy</td><td>▂▅█▁█</td></tr><tr><td>creamy</td><td>▅█▃▆▁</td></tr><tr><td>diversity</td><td>▁</td></tr><tr><td>epoch</td><td>▁▁▁▁▁▁▁▁▁▁</td></tr><tr><td>floral</td><td>▁▂▃▁█</td></tr><tr><td>fruity</td><td>▇▆▁█▃</td></tr><tr><td>herbal</td><td>▁▁▇▁█</td></tr><tr><td>ingredient_count_0</td><td>▁</td></tr><tr><td>ingredient_count_1</td><td>▁</td></tr><tr><td>ingredient_count_2</td><td>▁</td></tr><tr><td>ingredient_count_3</td><td>▁</td></tr><tr><td>ingredient_count_4</td><td>▁</td></tr><tr><td>loss</td><td>█▅▄▃▂▂▁▁▁▁</td></tr><tr><td>nutty</td><td>▁▁▁█▁</td></tr><tr><td>performance</td><td>▁</td></tr><tr><td>salty</td><td>▁█▁▂▁</td></tr><tr><td>similarity</td><td>▁</td></tr><tr><td>smoky</td><td>▁▁█▁▁</td></tr><tr><td>sour</td><td>▇▄▁█▆</td></tr><tr><td>spicy</td><td>▁▁▁▁▁</td></tr><tr><td>sweet</td><td>▇▆▃█▁</td></tr><tr><td>taste_match</td><td>▁</td></tr><tr><td>umami</td><td>▁▁█▂▁</td></tr></table><br/></div><div class=\"wandb-col\"><h3>Run summary:</h3><br/><table class=\"wandb\"><tr><td>ABV</td><td>39.64602</td></tr><tr><td>Perceived_temperature</td><td>29.9115</td></tr><tr><td>abv_match</td><td>0.90589</td></tr><tr><td>accuracy</td><td>0.64687</td></tr><tr><td>astringent</td><td>0.0885</td></tr><tr><td>avg_ingredient_count</td><td>3.0</td></tr><tr><td>bitter</td><td>5.04425</td></tr><tr><td>boozy</td><td>74.33628</td></tr><tr><td>creamy</td><td>0.0</td></tr><tr><td>diversity</td><td>0.80088</td></tr><tr><td>epoch</td><td>100</td></tr><tr><td>floral</td><td>19.9115</td></tr><tr><td>fruity</td><td>20.17699</td></tr><tr><td>herbal</td><td>24.77876</td></tr><tr><td>ingredient_count_0</td><td>3</td></tr><tr><td>ingredient_count_1</td><td>3</td></tr><tr><td>ingredient_count_2</td><td>3</td></tr><tr><td>ingredient_count_3</td><td>3</td></tr><tr><td>ingredient_count_4</td><td>3</td></tr><tr><td>loss</td><td>1.14502</td></tr><tr><td>nutty</td><td>0.0</td></tr><tr><td>performance</td><td>2.29391</td></tr><tr><td>salty</td><td>0.0</td></tr><tr><td>similarity</td><td>0.83619</td></tr><tr><td>smoky</td><td>0.0</td></tr><tr><td>sour</td><td>20.61947</td></tr><tr><td>spicy</td><td>0.0</td></tr><tr><td>sweet</td><td>14.95575</td></tr><tr><td>taste_match</td><td>0.58715</td></tr><tr><td>umami</td><td>0.0</td></tr></table><br/></div></div>"
      ],
      "text/plain": [
       "<IPython.core.display.HTML object>"
      ]
     },
     "metadata": {},
     "output_type": "display_data"
    },
    {
     "data": {
      "text/html": [
       " View run <strong style=\"color:#cdcd00\">true-sweep-1</strong> at: <a href='https://wandb.ai/jennyshin_gist_2024/cocktail_recipe_generation_v3_random_seed/runs/o29vw6gu' target=\"_blank\">https://wandb.ai/jennyshin_gist_2024/cocktail_recipe_generation_v3_random_seed/runs/o29vw6gu</a><br/> View project at: <a href='https://wandb.ai/jennyshin_gist_2024/cocktail_recipe_generation_v3_random_seed' target=\"_blank\">https://wandb.ai/jennyshin_gist_2024/cocktail_recipe_generation_v3_random_seed</a><br/>Synced 6 W&B file(s), 0 media file(s), 0 artifact file(s) and 0 other file(s)"
      ],
      "text/plain": [
       "<IPython.core.display.HTML object>"
      ]
     },
     "metadata": {},
     "output_type": "display_data"
    },
    {
     "data": {
      "text/html": [
       "Find logs at: <code>.\\wandb\\run-20240605_213815-o29vw6gu\\logs</code>"
      ],
      "text/plain": [
       "<IPython.core.display.HTML object>"
      ]
     },
     "metadata": {},
     "output_type": "display_data"
    },
    {
     "name": "stderr",
     "output_type": "stream",
     "text": [
      "\u001b[34m\u001b[1mwandb\u001b[0m: Agent Starting Run: 0l9a19ip with config:\n",
      "\u001b[34m\u001b[1mwandb\u001b[0m: \tbatch_size: 32\n",
      "\u001b[34m\u001b[1mwandb\u001b[0m: \tepochs: 200\n",
      "\u001b[34m\u001b[1mwandb\u001b[0m: \thidden_units: 128\n",
      "\u001b[34m\u001b[1mwandb\u001b[0m: \tlr: 1.062412241827705\n",
      "\u001b[34m\u001b[1mwandb\u001b[0m: \toptimizer: sgd\n",
      "Failed to detect the name of this notebook, you can set it manually with the WANDB_NOTEBOOK_NAME environment variable to enable code saving.\n",
      "\u001b[34m\u001b[1mwandb\u001b[0m: \u001b[33mWARNING\u001b[0m Ignored wandb.init() arg project when running a sweep.\n"
     ]
    },
    {
     "data": {
      "application/vnd.jupyter.widget-view+json": {
       "model_id": "e08c6642e33b475ca0b4435d6e5d31ad",
       "version_major": 2,
       "version_minor": 0
      },
      "text/plain": [
       "VBox(children=(Label(value='Waiting for wandb.init()...\\r'), FloatProgress(value=0.01145555555768725, max=1.0)…"
      ]
     },
     "metadata": {},
     "output_type": "display_data"
    },
    {
     "data": {
      "text/html": [
       "Tracking run with wandb version 0.17.0"
      ],
      "text/plain": [
       "<IPython.core.display.HTML object>"
      ]
     },
     "metadata": {},
     "output_type": "display_data"
    },
    {
     "data": {
      "text/html": [
       "Run data is saved locally in <code>d:\\CODE\\feelflask_master\\backend\\data_works\\wandb\\run-20240605_214032-0l9a19ip</code>"
      ],
      "text/plain": [
       "<IPython.core.display.HTML object>"
      ]
     },
     "metadata": {},
     "output_type": "display_data"
    },
    {
     "data": {
      "text/html": [
       "Syncing run <strong><a href='https://wandb.ai/jennyshin_gist_2024/cocktail_recipe_generation_v3_random_seed/runs/0l9a19ip' target=\"_blank\">gentle-sweep-2</a></strong> to <a href='https://wandb.ai/jennyshin_gist_2024/cocktail_recipe_generation_v3_random_seed' target=\"_blank\">Weights & Biases</a> (<a href='https://wandb.me/run' target=\"_blank\">docs</a>)<br/>Sweep page: <a href='https://wandb.ai/jennyshin_gist_2024/cocktail_recipe_generation_v3_random_seed/sweeps/eeqk6rdo' target=\"_blank\">https://wandb.ai/jennyshin_gist_2024/cocktail_recipe_generation_v3_random_seed/sweeps/eeqk6rdo</a>"
      ],
      "text/plain": [
       "<IPython.core.display.HTML object>"
      ]
     },
     "metadata": {},
     "output_type": "display_data"
    },
    {
     "data": {
      "text/html": [
       " View project at <a href='https://wandb.ai/jennyshin_gist_2024/cocktail_recipe_generation_v3_random_seed' target=\"_blank\">https://wandb.ai/jennyshin_gist_2024/cocktail_recipe_generation_v3_random_seed</a>"
      ],
      "text/plain": [
       "<IPython.core.display.HTML object>"
      ]
     },
     "metadata": {},
     "output_type": "display_data"
    },
    {
     "data": {
      "text/html": [
       " View sweep at <a href='https://wandb.ai/jennyshin_gist_2024/cocktail_recipe_generation_v3_random_seed/sweeps/eeqk6rdo' target=\"_blank\">https://wandb.ai/jennyshin_gist_2024/cocktail_recipe_generation_v3_random_seed/sweeps/eeqk6rdo</a>"
      ],
      "text/plain": [
       "<IPython.core.display.HTML object>"
      ]
     },
     "metadata": {},
     "output_type": "display_data"
    },
    {
     "data": {
      "text/html": [
       " View run at <a href='https://wandb.ai/jennyshin_gist_2024/cocktail_recipe_generation_v3_random_seed/runs/0l9a19ip' target=\"_blank\">https://wandb.ai/jennyshin_gist_2024/cocktail_recipe_generation_v3_random_seed/runs/0l9a19ip</a>"
      ],
      "text/plain": [
       "<IPython.core.display.HTML object>"
      ]
     },
     "metadata": {},
     "output_type": "display_data"
    },
    {
     "name": "stdout",
     "output_type": "stream",
     "text": [
      "user_seed : red wine\n",
      "red wine\n",
      "seed_ingredient : red wine\n",
      "\u001b[1m1/1\u001b[0m \u001b[32m━━━━━━━━━━━━━━━━━━━━\u001b[0m\u001b[37m\u001b[0m \u001b[1m1s\u001b[0m 675ms/step\n",
      "next_ingredient : orange juice, total_prob : 0 , normalized_prob[next_ingredient_id] : 0.27152032401765597\n",
      "\u001b[1m1/1\u001b[0m \u001b[32m━━━━━━━━━━━━━━━━━━━━\u001b[0m\u001b[37m\u001b[0m \u001b[1m0s\u001b[0m 16ms/step\n",
      "next_ingredient : sugar, total_prob : 0.27152032401765597 , normalized_prob[next_ingredient_id] : 0.17538044654798943\n",
      "\u001b[1m1/1\u001b[0m \u001b[32m━━━━━━━━━━━━━━━━━━━━\u001b[0m\u001b[37m\u001b[0m \u001b[1m0s\u001b[0m 17ms/step\n",
      "next_ingredient : lemon juice, total_prob : 0.44690077056564537 , normalized_prob[next_ingredient_id] : 0.43088944106058785\n",
      "\u001b[1m1/1\u001b[0m \u001b[32m━━━━━━━━━━━━━━━━━━━━\u001b[0m\u001b[37m\u001b[0m \u001b[1m0s\u001b[0m 15ms/step\n",
      "next_ingredient : water, total_prob : 0.8777902116262333 , normalized_prob[next_ingredient_id] : 0.2323790699507307\n",
      "(['red wine', 'orange juice', 'sugar', 'lemon juice', 'water'], [0.52215189873422, 0.11946202531644502, 0.11946202531644502, 0.11946202531644502, 0.11946202531644502])\n",
      "{\n",
      "    \"user_id\": 0,\n",
      "    \"ABV\": 7,\n",
      "    \"sweet\": 36,\n",
      "    \"sour\": 70,\n",
      "    \"bitter\": 6,\n",
      "    \"umami\": 38,\n",
      "    \"salty\": 50,\n",
      "    \"astringent\": 65,\n",
      "    \"Perceived_temperature\": 13,\n",
      "    \"spicy\": 22,\n",
      "    \"herbal\": 24,\n",
      "    \"floral\": 27,\n",
      "    \"fruity\": 35,\n",
      "    \"nutty\": 13,\n",
      "    \"creamy\": 70,\n",
      "    \"smoky\": 19\n",
      "}\n",
      "s : 0.9702522657697025, d : 0.8014542596835207, a : 0.9747058299161233, t : 0.7554362567811936\n",
      "user_seed : malibu rum\n",
      "malibu rum\n",
      "seed_ingredient : malibu rum\n",
      "\u001b[1m1/1\u001b[0m \u001b[32m━━━━━━━━━━━━━━━━━━━━\u001b[0m\u001b[37m\u001b[0m \u001b[1m0s\u001b[0m 17ms/step\n",
      "next_ingredient : kahlua, total_prob : 0 , normalized_prob[next_ingredient_id] : 0.1737911963790295\n",
      "\u001b[1m1/1\u001b[0m \u001b[32m━━━━━━━━━━━━━━━━━━━━\u001b[0m\u001b[37m\u001b[0m \u001b[1m0s\u001b[0m 16ms/step\n",
      "next_ingredient : baileys irish cream, total_prob : 0.1737911963790295 , normalized_prob[next_ingredient_id] : 0.6640384174147429\n",
      "\u001b[1m1/1\u001b[0m \u001b[32m━━━━━━━━━━━━━━━━━━━━\u001b[0m\u001b[37m\u001b[0m \u001b[1m0s\u001b[0m 16ms/step\n",
      "next_ingredient : frangelico, total_prob : 0.8378296137937724 , normalized_prob[next_ingredient_id] : 0.2774244997852506\n",
      "(['malibu rum', 'kahlua', 'baileys irish cream', 'frangelico'], [0.26923076923076916, 0.2564102564102564, 0.21794871794871795, 0.2564102564102564])\n",
      "{\n",
      "    \"user_id\": 1,\n",
      "    \"ABV\": 21,\n",
      "    \"sweet\": 18,\n",
      "    \"sour\": 46,\n",
      "    \"bitter\": 16,\n",
      "    \"umami\": 41,\n",
      "    \"salty\": 80,\n",
      "    \"astringent\": 5,\n",
      "    \"Perceived_temperature\": 6,\n",
      "    \"spicy\": 20,\n",
      "    \"herbal\": 6,\n",
      "    \"floral\": 46,\n",
      "    \"fruity\": 62,\n",
      "    \"nutty\": 2,\n",
      "    \"creamy\": 99,\n",
      "    \"smoky\": 42\n",
      "}\n",
      "s : 0.8413341412630906, d : 0.8011656949429639, a : 0.9343784177907402, t : 0.6785347985347985\n",
      "user_seed : cointreau\n",
      "cointreau\n",
      "seed_ingredient : cointreau\n",
      "\u001b[1m1/1\u001b[0m \u001b[32m━━━━━━━━━━━━━━━━━━━━\u001b[0m\u001b[37m\u001b[0m \u001b[1m0s\u001b[0m 15ms/step\n",
      "next_ingredient : lemon juice, total_prob : 0 , normalized_prob[next_ingredient_id] : 0.4282297322540082\n",
      "\u001b[1m1/1\u001b[0m \u001b[32m━━━━━━━━━━━━━━━━━━━━\u001b[0m\u001b[37m\u001b[0m \u001b[1m0s\u001b[0m 16ms/step\n",
      "next_ingredient : vodka, total_prob : 0.4282297322540082 , normalized_prob[next_ingredient_id] : 0.18969476427766005\n",
      "\u001b[1m1/1\u001b[0m \u001b[32m━━━━━━━━━━━━━━━━━━━━\u001b[0m\u001b[37m\u001b[0m \u001b[1m0s\u001b[0m 22ms/step\n",
      "next_ingredient : cranberry juice, total_prob : 0.6179244965316683 , normalized_prob[next_ingredient_id] : 0.07015985051604365\n",
      "\u001b[1m1/1\u001b[0m \u001b[32m━━━━━━━━━━━━━━━━━━━━\u001b[0m\u001b[37m\u001b[0m \u001b[1m0s\u001b[0m 18ms/step\n",
      "next_ingredient : ice, total_prob : 0.6880843470477119 , normalized_prob[next_ingredient_id] : 0.1566079831192616\n",
      "\u001b[1m1/1\u001b[0m \u001b[32m━━━━━━━━━━━━━━━━━━━━\u001b[0m\u001b[37m\u001b[0m \u001b[1m0s\u001b[0m 17ms/step\n",
      "next_ingredient : rum, total_prob : 0.8446923301669735 , normalized_prob[next_ingredient_id] : 0.173216176371347\n",
      "(['cointreau', 'lemon juice', 'vodka', 'cranberry juice', 'ice', 'rum'], [0.33222591362126247, 0.006644518272425249, 0.31561461794019935, 0.006644518272425249, 0.006644518272425249, 0.33222591362126247])\n",
      "{\n",
      "    \"user_id\": 2,\n",
      "    \"ABV\": 58,\n",
      "    \"sweet\": 54,\n",
      "    \"sour\": 62,\n",
      "    \"bitter\": 29,\n",
      "    \"umami\": 45,\n",
      "    \"salty\": 58,\n",
      "    \"astringent\": 94,\n",
      "    \"Perceived_temperature\": 65,\n",
      "    \"spicy\": 41,\n",
      "    \"herbal\": 94,\n",
      "    \"floral\": 60,\n",
      "    \"fruity\": 96,\n",
      "    \"nutty\": 75,\n",
      "    \"creamy\": 70,\n",
      "    \"smoky\": 74\n",
      "}\n",
      "s : 0.6859847402145398, d : 0.8017440564448212, a : 0.6764657109691733, t : 0.42703607024205037\n",
      "user_seed : beer\n",
      "beer\n",
      "seed_ingredient : beer\n",
      "\u001b[1m1/1\u001b[0m \u001b[32m━━━━━━━━━━━━━━━━━━━━\u001b[0m\u001b[37m\u001b[0m \u001b[1m0s\u001b[0m 16ms/step\n",
      "next_ingredient : orange juice, total_prob : 0 , normalized_prob[next_ingredient_id] : 0.18354677307690306\n",
      "\u001b[1m1/1\u001b[0m \u001b[32m━━━━━━━━━━━━━━━━━━━━\u001b[0m\u001b[37m\u001b[0m \u001b[1m0s\u001b[0m 15ms/step\n",
      "next_ingredient : ice, total_prob : 0.18354677307690306 , normalized_prob[next_ingredient_id] : 0.37179553644230634\n",
      "\u001b[1m1/1\u001b[0m \u001b[32m━━━━━━━━━━━━━━━━━━━━\u001b[0m\u001b[37m\u001b[0m \u001b[1m0s\u001b[0m 15ms/step\n",
      "next_ingredient : sugar, total_prob : 0.5553423095192094 , normalized_prob[next_ingredient_id] : 0.3447620921237415\n",
      "\u001b[1m1/1\u001b[0m \u001b[32m━━━━━━━━━━━━━━━━━━━━\u001b[0m\u001b[37m\u001b[0m \u001b[1m0s\u001b[0m 15ms/step\n",
      "next_ingredient : cloves, total_prob : 0.9001044016429509 , normalized_prob[next_ingredient_id] : 0.1879214621181669\n",
      "(['beer', 'orange juice', 'ice', 'sugar', 'cloves'], [0.3333333333333333, 0.16666666666666666, 0.16666666666666666, 0.16666666666666666, 0.16666666666666666])\n",
      "{\n",
      "    \"user_id\": 3,\n",
      "    \"ABV\": 2,\n",
      "    \"sweet\": 30,\n",
      "    \"sour\": 8,\n",
      "    \"bitter\": 71,\n",
      "    \"umami\": 78,\n",
      "    \"salty\": 5,\n",
      "    \"astringent\": 76,\n",
      "    \"Perceived_temperature\": 6,\n",
      "    \"spicy\": 89,\n",
      "    \"herbal\": 91,\n",
      "    \"floral\": 2,\n",
      "    \"fruity\": 25,\n",
      "    \"nutty\": 86,\n",
      "    \"creamy\": 60,\n",
      "    \"smoky\": 81\n",
      "}\n",
      "s : 0.7224930827015935, d : 0.8014542596835207, a : 1.0, t : 0.5821428571428571\n",
      "user_seed : brandy\n",
      "brandy\n",
      "seed_ingredient : brandy\n",
      "\u001b[1m1/1\u001b[0m \u001b[32m━━━━━━━━━━━━━━━━━━━━\u001b[0m\u001b[37m\u001b[0m \u001b[1m0s\u001b[0m 15ms/step\n",
      "next_ingredient : light rum, total_prob : 0 , normalized_prob[next_ingredient_id] : 0.2619161059670586\n",
      "\u001b[1m1/1\u001b[0m \u001b[32m━━━━━━━━━━━━━━━━━━━━\u001b[0m\u001b[37m\u001b[0m \u001b[1m0s\u001b[0m 16ms/step\n",
      "next_ingredient : triple sec, total_prob : 0.2619161059670586 , normalized_prob[next_ingredient_id] : 0.2027122152029036\n",
      "\u001b[1m1/1\u001b[0m \u001b[32m━━━━━━━━━━━━━━━━━━━━\u001b[0m\u001b[37m\u001b[0m \u001b[1m0s\u001b[0m 16ms/step\n",
      "next_ingredient : lemon juice, total_prob : 0.4646283211699622 , normalized_prob[next_ingredient_id] : 0.21820451258398227\n",
      "\u001b[1m1/1\u001b[0m \u001b[32m━━━━━━━━━━━━━━━━━━━━\u001b[0m\u001b[37m\u001b[0m \u001b[1m0s\u001b[0m 14ms/step\n",
      "next_ingredient : vodka, total_prob : 0.6828328337539444 , normalized_prob[next_ingredient_id] : 0.2980067191674867\n",
      "\u001b[1m1/1\u001b[0m \u001b[32m━━━━━━━━━━━━━━━━━━━━\u001b[0m\u001b[37m\u001b[0m \u001b[1m0s\u001b[0m 16ms/step\n",
      "next_ingredient : coca-cola, total_prob : 0.9808395529214311 , normalized_prob[next_ingredient_id] : 0.17460241037205354\n",
      "(['brandy', 'light rum', 'triple sec', 'lemon juice', 'vodka', 'coca-cola'], [0.2893656469341809, 0.2436763342603628, 0.21321679247781747, 0.005032446033637928, 0.2436763342603628, 0.005032446033637928])\n",
      "{\n",
      "    \"user_id\": 4,\n",
      "    \"ABV\": 45,\n",
      "    \"sweet\": 22,\n",
      "    \"sour\": 54,\n",
      "    \"bitter\": 99,\n",
      "    \"umami\": 21,\n",
      "    \"salty\": 10,\n",
      "    \"astringent\": 20,\n",
      "    \"Perceived_temperature\": 3,\n",
      "    \"spicy\": 31,\n",
      "    \"herbal\": 47,\n",
      "    \"floral\": 66,\n",
      "    \"fruity\": 82,\n",
      "    \"nutty\": 18,\n",
      "    \"creamy\": 91,\n",
      "    \"smoky\": 97\n",
      "}\n",
      "s : 0.8059179197708436, d : 0.8017445884613074, a : 0.9046909691114464, t : 0.5583522523033846\n",
      "Model does not meet the threshold criteria.\n"
     ]
    },
    {
     "data": {
      "application/vnd.jupyter.widget-view+json": {
       "model_id": "ec35f92f710044a598615aa4da125135",
       "version_major": 2,
       "version_minor": 0
      },
      "text/plain": [
       "VBox(children=(Label(value='0.001 MB of 0.001 MB uploaded\\r'), FloatProgress(value=1.0, max=1.0)))"
      ]
     },
     "metadata": {},
     "output_type": "display_data"
    },
    {
     "data": {
      "text/html": [
       "<style>\n",
       "    table.wandb td:nth-child(1) { padding: 0 10px; text-align: left ; width: auto;} td:nth-child(2) {text-align: left ; width: 100%}\n",
       "    .wandb-row { display: flex; flex-direction: row; flex-wrap: wrap; justify-content: flex-start; width: 100% }\n",
       "    .wandb-col { display: flex; flex-direction: column; flex-basis: 100%; flex: 1; padding: 10px; }\n",
       "    </style>\n",
       "<div class=\"wandb-row\"><div class=\"wandb-col\"><h3>Run history:</h3><br/><table class=\"wandb\"><tr><td>ABV</td><td>▂▄█▁█</td></tr><tr><td>Perceived_temperature</td><td>▄▃█▁█</td></tr><tr><td>abv_match</td><td>▁</td></tr><tr><td>accuracy</td><td>▁▂▂▂▂▃▃▄▄▄▅▅▅▆▆▆▇▇██</td></tr><tr><td>astringent</td><td>▄▁▁█▁</td></tr><tr><td>avg_ingredient_count</td><td>▁</td></tr><tr><td>bitter</td><td>██▁█▁</td></tr><tr><td>boozy</td><td>▄▅█▁█</td></tr><tr><td>creamy</td><td>▁█▁▂▁</td></tr><tr><td>diversity</td><td>▁</td></tr><tr><td>epoch</td><td>▁▁▁▁▁▁▁▁▁▁▁▁▁▁▁▁▁▁▁▁</td></tr><tr><td>floral</td><td>█▇▇▁▂</td></tr><tr><td>fruity</td><td>█▁▃▂▄</td></tr><tr><td>herbal</td><td>▁▆█▇▃</td></tr><tr><td>ingredient_count_0</td><td>▁</td></tr><tr><td>ingredient_count_1</td><td>▁</td></tr><tr><td>ingredient_count_2</td><td>▁</td></tr><tr><td>ingredient_count_3</td><td>▁</td></tr><tr><td>ingredient_count_4</td><td>▁</td></tr><tr><td>loss</td><td>█▆▆▆▅▅▅▄▄▄▃▃▃▃▂▂▂▂▁▁</td></tr><tr><td>nutty</td><td>▁█▁▁▁</td></tr><tr><td>performance</td><td>▁</td></tr><tr><td>salty</td><td>█▂▁▂▁</td></tr><tr><td>similarity</td><td>▁</td></tr><tr><td>smoky</td><td>█▁▂▅▁</td></tr><tr><td>sour</td><td>█▁▃▃▂</td></tr><tr><td>spicy</td><td>▁▁▁█▁</td></tr><tr><td>sweet</td><td>▂█▁▄▂</td></tr><tr><td>taste_match</td><td>▁</td></tr><tr><td>umami</td><td>▁▄▁█▃</td></tr></table><br/></div><div class=\"wandb-col\"><h3>Run summary:</h3><br/><table class=\"wandb\"><tr><td>ABV</td><td>40.70156</td></tr><tr><td>Perceived_temperature</td><td>29.89935</td></tr><tr><td>abv_match</td><td>0.89805</td></tr><tr><td>accuracy</td><td>0.22594</td></tr><tr><td>astringent</td><td>0.05032</td></tr><tr><td>avg_ingredient_count</td><td>5.2</td></tr><tr><td>bitter</td><td>2.94398</td></tr><tr><td>boozy</td><td>69.60005</td></tr><tr><td>creamy</td><td>0.0</td></tr><tr><td>diversity</td><td>0.80151</td></tr><tr><td>epoch</td><td>200</td></tr><tr><td>floral</td><td>4.26434</td></tr><tr><td>fruity</td><td>24.6709</td></tr><tr><td>herbal</td><td>4.26434</td></tr><tr><td>ingredient_count_0</td><td>5</td></tr><tr><td>ingredient_count_1</td><td>4</td></tr><tr><td>ingredient_count_2</td><td>6</td></tr><tr><td>ingredient_count_3</td><td>5</td></tr><tr><td>ingredient_count_4</td><td>6</td></tr><tr><td>loss</td><td>3.27208</td></tr><tr><td>nutty</td><td>0.0</td></tr><tr><td>performance</td><td>2.29986</td></tr><tr><td>salty</td><td>0.0</td></tr><tr><td>similarity</td><td>0.8052</td></tr><tr><td>smoky</td><td>2.89366</td></tr><tr><td>sour</td><td>3.49755</td></tr><tr><td>spicy</td><td>0.0</td></tr><tr><td>sweet</td><td>21.11376</td></tr><tr><td>taste_match</td><td>0.6003</td></tr><tr><td>umami</td><td>2.89366</td></tr></table><br/></div></div>"
      ],
      "text/plain": [
       "<IPython.core.display.HTML object>"
      ]
     },
     "metadata": {},
     "output_type": "display_data"
    },
    {
     "data": {
      "text/html": [
       " View run <strong style=\"color:#cdcd00\">gentle-sweep-2</strong> at: <a href='https://wandb.ai/jennyshin_gist_2024/cocktail_recipe_generation_v3_random_seed/runs/0l9a19ip' target=\"_blank\">https://wandb.ai/jennyshin_gist_2024/cocktail_recipe_generation_v3_random_seed/runs/0l9a19ip</a><br/> View project at: <a href='https://wandb.ai/jennyshin_gist_2024/cocktail_recipe_generation_v3_random_seed' target=\"_blank\">https://wandb.ai/jennyshin_gist_2024/cocktail_recipe_generation_v3_random_seed</a><br/>Synced 6 W&B file(s), 0 media file(s), 0 artifact file(s) and 0 other file(s)"
      ],
      "text/plain": [
       "<IPython.core.display.HTML object>"
      ]
     },
     "metadata": {},
     "output_type": "display_data"
    },
    {
     "data": {
      "text/html": [
       "Find logs at: <code>.\\wandb\\run-20240605_214032-0l9a19ip\\logs</code>"
      ],
      "text/plain": [
       "<IPython.core.display.HTML object>"
      ]
     },
     "metadata": {},
     "output_type": "display_data"
    },
    {
     "name": "stderr",
     "output_type": "stream",
     "text": [
      "\u001b[34m\u001b[1mwandb\u001b[0m: Agent Starting Run: 0sop1wk1 with config:\n",
      "\u001b[34m\u001b[1mwandb\u001b[0m: \tbatch_size: 16\n",
      "\u001b[34m\u001b[1mwandb\u001b[0m: \tepochs: 200\n",
      "\u001b[34m\u001b[1mwandb\u001b[0m: \thidden_units: 64\n",
      "\u001b[34m\u001b[1mwandb\u001b[0m: \tlr: 1.0023631505037394\n",
      "\u001b[34m\u001b[1mwandb\u001b[0m: \toptimizer: adam\n",
      "Failed to detect the name of this notebook, you can set it manually with the WANDB_NOTEBOOK_NAME environment variable to enable code saving.\n",
      "\u001b[34m\u001b[1mwandb\u001b[0m: \u001b[33mWARNING\u001b[0m Ignored wandb.init() arg project when running a sweep.\n"
     ]
    },
    {
     "data": {
      "application/vnd.jupyter.widget-view+json": {
       "model_id": "1bd2fdf0f3e14e7794f6c4b06dfbd081",
       "version_major": 2,
       "version_minor": 0
      },
      "text/plain": [
       "VBox(children=(Label(value='Waiting for wandb.init()...\\r'), FloatProgress(value=0.011277777776639495, max=1.0…"
      ]
     },
     "metadata": {},
     "output_type": "display_data"
    },
    {
     "data": {
      "text/html": [
       "Tracking run with wandb version 0.17.0"
      ],
      "text/plain": [
       "<IPython.core.display.HTML object>"
      ]
     },
     "metadata": {},
     "output_type": "display_data"
    },
    {
     "data": {
      "text/html": [
       "Run data is saved locally in <code>d:\\CODE\\feelflask_master\\backend\\data_works\\wandb\\run-20240605_214407-0sop1wk1</code>"
      ],
      "text/plain": [
       "<IPython.core.display.HTML object>"
      ]
     },
     "metadata": {},
     "output_type": "display_data"
    },
    {
     "data": {
      "text/html": [
       "Syncing run <strong><a href='https://wandb.ai/jennyshin_gist_2024/cocktail_recipe_generation_v3_random_seed/runs/0sop1wk1' target=\"_blank\">misty-sweep-3</a></strong> to <a href='https://wandb.ai/jennyshin_gist_2024/cocktail_recipe_generation_v3_random_seed' target=\"_blank\">Weights & Biases</a> (<a href='https://wandb.me/run' target=\"_blank\">docs</a>)<br/>Sweep page: <a href='https://wandb.ai/jennyshin_gist_2024/cocktail_recipe_generation_v3_random_seed/sweeps/eeqk6rdo' target=\"_blank\">https://wandb.ai/jennyshin_gist_2024/cocktail_recipe_generation_v3_random_seed/sweeps/eeqk6rdo</a>"
      ],
      "text/plain": [
       "<IPython.core.display.HTML object>"
      ]
     },
     "metadata": {},
     "output_type": "display_data"
    },
    {
     "data": {
      "text/html": [
       " View project at <a href='https://wandb.ai/jennyshin_gist_2024/cocktail_recipe_generation_v3_random_seed' target=\"_blank\">https://wandb.ai/jennyshin_gist_2024/cocktail_recipe_generation_v3_random_seed</a>"
      ],
      "text/plain": [
       "<IPython.core.display.HTML object>"
      ]
     },
     "metadata": {},
     "output_type": "display_data"
    },
    {
     "data": {
      "text/html": [
       " View sweep at <a href='https://wandb.ai/jennyshin_gist_2024/cocktail_recipe_generation_v3_random_seed/sweeps/eeqk6rdo' target=\"_blank\">https://wandb.ai/jennyshin_gist_2024/cocktail_recipe_generation_v3_random_seed/sweeps/eeqk6rdo</a>"
      ],
      "text/plain": [
       "<IPython.core.display.HTML object>"
      ]
     },
     "metadata": {},
     "output_type": "display_data"
    },
    {
     "data": {
      "text/html": [
       " View run at <a href='https://wandb.ai/jennyshin_gist_2024/cocktail_recipe_generation_v3_random_seed/runs/0sop1wk1' target=\"_blank\">https://wandb.ai/jennyshin_gist_2024/cocktail_recipe_generation_v3_random_seed/runs/0sop1wk1</a>"
      ],
      "text/plain": [
       "<IPython.core.display.HTML object>"
      ]
     },
     "metadata": {},
     "output_type": "display_data"
    },
    {
     "name": "stdout",
     "output_type": "stream",
     "text": [
      "user_seed : ale\n",
      "ale\n",
      "seed_ingredient : ale\n",
      "\u001b[1m1/1\u001b[0m \u001b[32m━━━━━━━━━━━━━━━━━━━━\u001b[0m\u001b[37m\u001b[0m \u001b[1m0s\u001b[0m 266ms/step\n",
      "next_ingredient : guinness stout, total_prob : 0 , normalized_prob[next_ingredient_id] : 0.9917809698185631\n",
      "\u001b[1m1/1\u001b[0m \u001b[32m━━━━━━━━━━━━━━━━━━━━\u001b[0m\u001b[37m\u001b[0m \u001b[1m0s\u001b[0m 15ms/step\n",
      "next_ingredient : root beer, total_prob : 0.9917809698185631 , normalized_prob[next_ingredient_id] : 0.7010116713755359\n",
      "(['ale', 'guinness stout', 'root beer'], [0.552441018453625, 0.42186405045550857, 0.02569493109086628])\n",
      "{\n",
      "    \"user_id\": 0,\n",
      "    \"ABV\": 7,\n",
      "    \"sweet\": 36,\n",
      "    \"sour\": 70,\n",
      "    \"bitter\": 6,\n",
      "    \"umami\": 38,\n",
      "    \"salty\": 50,\n",
      "    \"astringent\": 65,\n",
      "    \"Perceived_temperature\": 13,\n",
      "    \"spicy\": 22,\n",
      "    \"herbal\": 24,\n",
      "    \"floral\": 27,\n",
      "    \"fruity\": 35,\n",
      "    \"nutty\": 13,\n",
      "    \"creamy\": 70,\n",
      "    \"smoky\": 19\n",
      "}\n",
      "s : 0.9904619425017441, d : 0.8008754296193701, a : 0.6915851568180387, t : 0.7037324390162514\n",
      "user_seed : creme de banane\n",
      "creme de banane\n",
      "seed_ingredient : creme de banane\n",
      "\u001b[1m1/1\u001b[0m \u001b[32m━━━━━━━━━━━━━━━━━━━━\u001b[0m\u001b[37m\u001b[0m \u001b[1m0s\u001b[0m 15ms/step\n",
      "next_ingredient : white creme de menthe, total_prob : 0 , normalized_prob[next_ingredient_id] : 0.24406796182217042\n",
      "\u001b[1m1/1\u001b[0m \u001b[32m━━━━━━━━━━━━━━━━━━━━\u001b[0m\u001b[37m\u001b[0m \u001b[1m0s\u001b[0m 15ms/step\n",
      "next_ingredient : southern comfort, total_prob : 0.24406796182217042 , normalized_prob[next_ingredient_id] : 0.8878642870616456\n",
      "(['creme de banane', 'white creme de menthe', 'southern comfort'], [0.33333333333333337, 0.33333333333333337, 0.33333333333333337])\n",
      "{\n",
      "    \"user_id\": 1,\n",
      "    \"ABV\": 21,\n",
      "    \"sweet\": 18,\n",
      "    \"sour\": 46,\n",
      "    \"bitter\": 16,\n",
      "    \"umami\": 41,\n",
      "    \"salty\": 80,\n",
      "    \"astringent\": 5,\n",
      "    \"Perceived_temperature\": 6,\n",
      "    \"spicy\": 20,\n",
      "    \"herbal\": 6,\n",
      "    \"floral\": 46,\n",
      "    \"fruity\": 62,\n",
      "    \"nutty\": 2,\n",
      "    \"creamy\": 99,\n",
      "    \"smoky\": 42\n",
      "}\n",
      "s : 0.3913147458634724, d : 0.8008746280906945, a : 0.6761453396524484, t : 0.6626190476190477\n",
      "user_seed : anisette\n",
      "anisette\n",
      "seed_ingredient : anisette\n",
      "\u001b[1m1/1\u001b[0m \u001b[32m━━━━━━━━━━━━━━━━━━━━\u001b[0m\u001b[37m\u001b[0m \u001b[1m0s\u001b[0m 15ms/step\n",
      "next_ingredient : brandy, total_prob : 0 , normalized_prob[next_ingredient_id] : 0.9886310525637256\n",
      "\u001b[1m1/1\u001b[0m \u001b[32m━━━━━━━━━━━━━━━━━━━━\u001b[0m\u001b[37m\u001b[0m \u001b[1m0s\u001b[0m 15ms/step\n",
      "next_ingredient : gin, total_prob : 0.9886310525637256 , normalized_prob[next_ingredient_id] : 0.9153208108825477\n",
      "(['anisette', 'brandy', 'gin'], [0.2857142857142857, 0.3877551020408163, 0.32653061224489793])\n",
      "{\n",
      "    \"user_id\": 2,\n",
      "    \"ABV\": 58,\n",
      "    \"sweet\": 54,\n",
      "    \"sour\": 62,\n",
      "    \"bitter\": 29,\n",
      "    \"umami\": 45,\n",
      "    \"salty\": 58,\n",
      "    \"astringent\": 94,\n",
      "    \"Perceived_temperature\": 65,\n",
      "    \"spicy\": 41,\n",
      "    \"herbal\": 94,\n",
      "    \"floral\": 60,\n",
      "    \"fruity\": 96,\n",
      "    \"nutty\": 75,\n",
      "    \"creamy\": 70,\n",
      "    \"smoky\": 74\n",
      "}\n",
      "s : 0.8183774785616807, d : 0.8008754296193701, a : 0.7156556254171204, t : 0.44922740524781346\n",
      "user_seed : guinness stout\n",
      "guinness stout\n",
      "seed_ingredient : guinness stout\n",
      "\u001b[1m1/1\u001b[0m \u001b[32m━━━━━━━━━━━━━━━━━━━━\u001b[0m\u001b[37m\u001b[0m \u001b[1m0s\u001b[0m 15ms/step\n",
      "next_ingredient : root beer, total_prob : 0 , normalized_prob[next_ingredient_id] : 0.7793727160933943\n",
      "\u001b[1m1/1\u001b[0m \u001b[32m━━━━━━━━━━━━━━━━━━━━\u001b[0m\u001b[37m\u001b[0m \u001b[1m0s\u001b[0m 15ms/step\n",
      "next_ingredient : lemonade, total_prob : 0.7793727160933943 , normalized_prob[next_ingredient_id] : 0.3111369692361164\n",
      "(['guinness stout', 'root beer', 'lemonade'], [0.4739441595725041, 0.26302792021374793, 0.26302792021374793])\n",
      "{\n",
      "    \"user_id\": 3,\n",
      "    \"ABV\": 2,\n",
      "    \"sweet\": 30,\n",
      "    \"sour\": 8,\n",
      "    \"bitter\": 71,\n",
      "    \"umami\": 78,\n",
      "    \"salty\": 5,\n",
      "    \"astringent\": 76,\n",
      "    \"Perceived_temperature\": 6,\n",
      "    \"spicy\": 89,\n",
      "    \"herbal\": 91,\n",
      "    \"floral\": 2,\n",
      "    \"fruity\": 25,\n",
      "    \"nutty\": 86,\n",
      "    \"creamy\": 60,\n",
      "    \"smoky\": 81\n",
      "}\n",
      "s : 0.864944902303298, d : 0.8008751624431449, a : 0.9955073667640558, t : 0.5458878713904022\n",
      "user_seed : brandy\n",
      "brandy\n",
      "seed_ingredient : brandy\n",
      "\u001b[1m1/1\u001b[0m \u001b[32m━━━━━━━━━━━━━━━━━━━━\u001b[0m\u001b[37m\u001b[0m \u001b[1m0s\u001b[0m 15ms/step\n",
      "next_ingredient : triple sec, total_prob : 0 , normalized_prob[next_ingredient_id] : 0.16396508950187164\n",
      "\u001b[1m1/1\u001b[0m \u001b[32m━━━━━━━━━━━━━━━━━━━━\u001b[0m\u001b[37m\u001b[0m \u001b[1m0s\u001b[0m 15ms/step\n",
      "next_ingredient : lemon juice, total_prob : 0.16396508950187164 , normalized_prob[next_ingredient_id] : 0.7922244931937906\n",
      "\u001b[1m1/1\u001b[0m \u001b[32m━━━━━━━━━━━━━━━━━━━━\u001b[0m\u001b[37m\u001b[0m \u001b[1m0s\u001b[0m 16ms/step\n",
      "next_ingredient : light rum, total_prob : 0.9561895826956622 , normalized_prob[next_ingredient_id] : 0.9781137421737237\n",
      "(['brandy', 'triple sec', 'lemon juice', 'light rum'], [0.38532563891178895, 0.28392415498763396, 0.006265457543281121, 0.324484748557296])\n",
      "{\n",
      "    \"user_id\": 4,\n",
      "    \"ABV\": 45,\n",
      "    \"sweet\": 22,\n",
      "    \"sour\": 54,\n",
      "    \"bitter\": 99,\n",
      "    \"umami\": 21,\n",
      "    \"salty\": 10,\n",
      "    \"astringent\": 20,\n",
      "    \"Perceived_temperature\": 3,\n",
      "    \"spicy\": 31,\n",
      "    \"herbal\": 47,\n",
      "    \"floral\": 66,\n",
      "    \"fruity\": 82,\n",
      "    \"nutty\": 18,\n",
      "    \"creamy\": 91,\n",
      "    \"smoky\": 97\n",
      "}\n",
      "s : 0.9241729544866907, d : 0.8011659617290083, a : 0.9161796721766964, t : 0.5656571664114944\n",
      "Model does not meet the threshold criteria.\n"
     ]
    },
    {
     "data": {
      "application/vnd.jupyter.widget-view+json": {
       "model_id": "b64bc5c72edd4d9ab851952df55d2338",
       "version_major": 2,
       "version_minor": 0
      },
      "text/plain": [
       "VBox(children=(Label(value='0.001 MB of 0.032 MB uploaded\\r'), FloatProgress(value=0.03996823716251985, max=1.…"
      ]
     },
     "metadata": {},
     "output_type": "display_data"
    },
    {
     "data": {
      "text/html": [
       "<style>\n",
       "    table.wandb td:nth-child(1) { padding: 0 10px; text-align: left ; width: auto;} td:nth-child(2) {text-align: left ; width: 100%}\n",
       "    .wandb-row { display: flex; flex-direction: row; flex-wrap: wrap; justify-content: flex-start; width: 100% }\n",
       "    .wandb-col { display: flex; flex-direction: column; flex-basis: 100%; flex: 1; padding: 10px; }\n",
       "    </style>\n",
       "<div class=\"wandb-row\"><div class=\"wandb-col\"><h3>Run history:</h3><br/><table class=\"wandb\"><tr><td>ABV</td><td>▁▆█▁█</td></tr><tr><td>Perceived_temperature</td><td>▆▁█▂▆</td></tr><tr><td>abv_match</td><td>▁</td></tr><tr><td>accuracy</td><td>▁▂▄▅▆▇▇█████████████</td></tr><tr><td>astringent</td><td>█▁▁▄▁</td></tr><tr><td>avg_ingredient_count</td><td>▁</td></tr><tr><td>bitter</td><td>█▂▅▅▁</td></tr><tr><td>boozy</td><td>▂▆█▁█</td></tr><tr><td>creamy</td><td>█▆▂▇▁</td></tr><tr><td>diversity</td><td>▁</td></tr><tr><td>epoch</td><td>▁▁▁▁▁▁▁▁▁▁▁▁▁▁▁▁▁▁▁▁</td></tr><tr><td>floral</td><td>▁█▁▁▃</td></tr><tr><td>fruity</td><td>▁█▃▃█</td></tr><tr><td>herbal</td><td>▂▆█▂▁</td></tr><tr><td>ingredient_count_0</td><td>▁</td></tr><tr><td>ingredient_count_1</td><td>▁</td></tr><tr><td>ingredient_count_2</td><td>▁</td></tr><tr><td>ingredient_count_3</td><td>▁</td></tr><tr><td>ingredient_count_4</td><td>▁</td></tr><tr><td>loss</td><td>█▆▄▃▂▂▂▁▁▁▁▁▁▁▁▁▁▁▁▁</td></tr><tr><td>nutty</td><td>▁▁▁▁▁</td></tr><tr><td>performance</td><td>▁</td></tr><tr><td>salty</td><td>▁▁▁▁▁</td></tr><tr><td>similarity</td><td>▁</td></tr><tr><td>smoky</td><td>█▁▃▇▁</td></tr><tr><td>sour</td><td>▅▁▃█▂</td></tr><tr><td>spicy</td><td>▁▁▁▁▁</td></tr><tr><td>sweet</td><td>▁█▁▅▂</td></tr><tr><td>taste_match</td><td>▁</td></tr><tr><td>umami</td><td>█▄▁▅▁</td></tr></table><br/></div><div class=\"wandb-col\"><h3>Run summary:</h3><br/><table class=\"wandb\"><tr><td>ABV</td><td>41.2197</td></tr><tr><td>Perceived_temperature</td><td>29.93735</td></tr><tr><td>abv_match</td><td>0.79901</td></tr><tr><td>accuracy</td><td>0.65635</td></tr><tr><td>astringent</td><td>0.06265</td></tr><tr><td>avg_ingredient_count</td><td>3.2</td></tr><tr><td>bitter</td><td>3.91591</td></tr><tr><td>boozy</td><td>66.72218</td></tr><tr><td>creamy</td><td>0.0</td></tr><tr><td>diversity</td><td>0.80093</td></tr><tr><td>epoch</td><td>200</td></tr><tr><td>floral</td><td>5.67848</td></tr><tr><td>fruity</td><td>32.83924</td></tr><tr><td>herbal</td><td>5.67848</td></tr><tr><td>ingredient_count_0</td><td>3</td></tr><tr><td>ingredient_count_1</td><td>3</td></tr><tr><td>ingredient_count_2</td><td>3</td></tr><tr><td>ingredient_count_3</td><td>3</td></tr><tr><td>ingredient_count_4</td><td>4</td></tr><tr><td>loss</td><td>1.02863</td></tr><tr><td>nutty</td><td>0.0</td></tr><tr><td>performance</td><td>2.18537</td></tr><tr><td>salty</td><td>0.0</td></tr><tr><td>similarity</td><td>0.79785</td></tr><tr><td>smoky</td><td>3.85326</td></tr><tr><td>sour</td><td>4.41715</td></tr><tr><td>spicy</td><td>0.0</td></tr><tr><td>sweet</td><td>27.44106</td></tr><tr><td>taste_match</td><td>0.58542</td></tr><tr><td>umami</td><td>3.85326</td></tr></table><br/></div></div>"
      ],
      "text/plain": [
       "<IPython.core.display.HTML object>"
      ]
     },
     "metadata": {},
     "output_type": "display_data"
    },
    {
     "data": {
      "text/html": [
       " View run <strong style=\"color:#cdcd00\">misty-sweep-3</strong> at: <a href='https://wandb.ai/jennyshin_gist_2024/cocktail_recipe_generation_v3_random_seed/runs/0sop1wk1' target=\"_blank\">https://wandb.ai/jennyshin_gist_2024/cocktail_recipe_generation_v3_random_seed/runs/0sop1wk1</a><br/> View project at: <a href='https://wandb.ai/jennyshin_gist_2024/cocktail_recipe_generation_v3_random_seed' target=\"_blank\">https://wandb.ai/jennyshin_gist_2024/cocktail_recipe_generation_v3_random_seed</a><br/>Synced 6 W&B file(s), 0 media file(s), 0 artifact file(s) and 0 other file(s)"
      ],
      "text/plain": [
       "<IPython.core.display.HTML object>"
      ]
     },
     "metadata": {},
     "output_type": "display_data"
    },
    {
     "data": {
      "text/html": [
       "Find logs at: <code>.\\wandb\\run-20240605_214407-0sop1wk1\\logs</code>"
      ],
      "text/plain": [
       "<IPython.core.display.HTML object>"
      ]
     },
     "metadata": {},
     "output_type": "display_data"
    },
    {
     "name": "stderr",
     "output_type": "stream",
     "text": [
      "\u001b[34m\u001b[1mwandb\u001b[0m: Agent Starting Run: kclhdeuv with config:\n",
      "\u001b[34m\u001b[1mwandb\u001b[0m: \tbatch_size: 32\n",
      "\u001b[34m\u001b[1mwandb\u001b[0m: \tepochs: 100\n",
      "\u001b[34m\u001b[1mwandb\u001b[0m: \thidden_units: 128\n",
      "\u001b[34m\u001b[1mwandb\u001b[0m: \tlr: 1.0474118995998063\n",
      "\u001b[34m\u001b[1mwandb\u001b[0m: \toptimizer: adam\n",
      "Failed to detect the name of this notebook, you can set it manually with the WANDB_NOTEBOOK_NAME environment variable to enable code saving.\n",
      "\u001b[34m\u001b[1mwandb\u001b[0m: \u001b[33mWARNING\u001b[0m Ignored wandb.init() arg project when running a sweep.\n"
     ]
    },
    {
     "data": {
      "application/vnd.jupyter.widget-view+json": {
       "model_id": "73cd04772be646659f52dfa7edc75ef4",
       "version_major": 2,
       "version_minor": 0
      },
      "text/plain": [
       "VBox(children=(Label(value='Waiting for wandb.init()...\\r'), FloatProgress(value=0.011288888886984852, max=1.0…"
      ]
     },
     "metadata": {},
     "output_type": "display_data"
    },
    {
     "data": {
      "text/html": [
       "Tracking run with wandb version 0.17.0"
      ],
      "text/plain": [
       "<IPython.core.display.HTML object>"
      ]
     },
     "metadata": {},
     "output_type": "display_data"
    },
    {
     "data": {
      "text/html": [
       "Run data is saved locally in <code>d:\\CODE\\feelflask_master\\backend\\data_works\\wandb\\run-20240605_214814-kclhdeuv</code>"
      ],
      "text/plain": [
       "<IPython.core.display.HTML object>"
      ]
     },
     "metadata": {},
     "output_type": "display_data"
    },
    {
     "data": {
      "text/html": [
       "Syncing run <strong><a href='https://wandb.ai/jennyshin_gist_2024/cocktail_recipe_generation_v3_random_seed/runs/kclhdeuv' target=\"_blank\">solar-sweep-4</a></strong> to <a href='https://wandb.ai/jennyshin_gist_2024/cocktail_recipe_generation_v3_random_seed' target=\"_blank\">Weights & Biases</a> (<a href='https://wandb.me/run' target=\"_blank\">docs</a>)<br/>Sweep page: <a href='https://wandb.ai/jennyshin_gist_2024/cocktail_recipe_generation_v3_random_seed/sweeps/eeqk6rdo' target=\"_blank\">https://wandb.ai/jennyshin_gist_2024/cocktail_recipe_generation_v3_random_seed/sweeps/eeqk6rdo</a>"
      ],
      "text/plain": [
       "<IPython.core.display.HTML object>"
      ]
     },
     "metadata": {},
     "output_type": "display_data"
    },
    {
     "data": {
      "text/html": [
       " View project at <a href='https://wandb.ai/jennyshin_gist_2024/cocktail_recipe_generation_v3_random_seed' target=\"_blank\">https://wandb.ai/jennyshin_gist_2024/cocktail_recipe_generation_v3_random_seed</a>"
      ],
      "text/plain": [
       "<IPython.core.display.HTML object>"
      ]
     },
     "metadata": {},
     "output_type": "display_data"
    },
    {
     "data": {
      "text/html": [
       " View sweep at <a href='https://wandb.ai/jennyshin_gist_2024/cocktail_recipe_generation_v3_random_seed/sweeps/eeqk6rdo' target=\"_blank\">https://wandb.ai/jennyshin_gist_2024/cocktail_recipe_generation_v3_random_seed/sweeps/eeqk6rdo</a>"
      ],
      "text/plain": [
       "<IPython.core.display.HTML object>"
      ]
     },
     "metadata": {},
     "output_type": "display_data"
    },
    {
     "data": {
      "text/html": [
       " View run at <a href='https://wandb.ai/jennyshin_gist_2024/cocktail_recipe_generation_v3_random_seed/runs/kclhdeuv' target=\"_blank\">https://wandb.ai/jennyshin_gist_2024/cocktail_recipe_generation_v3_random_seed/runs/kclhdeuv</a>"
      ],
      "text/plain": [
       "<IPython.core.display.HTML object>"
      ]
     },
     "metadata": {},
     "output_type": "display_data"
    },
    {
     "name": "stdout",
     "output_type": "stream",
     "text": [
      "user_seed : beer\n",
      "beer\n",
      "seed_ingredient : beer\n",
      "\u001b[1m1/1\u001b[0m \u001b[32m━━━━━━━━━━━━━━━━━━━━\u001b[0m\u001b[37m\u001b[0m \u001b[1m0s\u001b[0m 271ms/step\n",
      "next_ingredient : 7-up, total_prob : 0 , normalized_prob[next_ingredient_id] : 0.7535395952516043\n",
      "\u001b[1m1/1\u001b[0m \u001b[32m━━━━━━━━━━━━━━━━━━━━\u001b[0m\u001b[37m\u001b[0m \u001b[1m0s\u001b[0m 15ms/step\n",
      "next_ingredient : root beer, total_prob : 0.7535395952516043 , normalized_prob[next_ingredient_id] : 0.5375552167344735\n",
      "(['beer', '7-up', 'root beer'], [0.9166666666666666, 0.041666666666666664, 0.041666666666666664])\n",
      "{\n",
      "    \"user_id\": 0,\n",
      "    \"ABV\": 7,\n",
      "    \"sweet\": 36,\n",
      "    \"sour\": 70,\n",
      "    \"bitter\": 6,\n",
      "    \"umami\": 38,\n",
      "    \"salty\": 50,\n",
      "    \"astringent\": 65,\n",
      "    \"Perceived_temperature\": 13,\n",
      "    \"spicy\": 22,\n",
      "    \"herbal\": 24,\n",
      "    \"floral\": 27,\n",
      "    \"fruity\": 35,\n",
      "    \"nutty\": 13,\n",
      "    \"creamy\": 70,\n",
      "    \"smoky\": 19\n",
      "}\n",
      "s : 0.9935372961616309, d : 0.8008751624431449, a : 0.7887323943661971, t : 0.7178571428571427\n",
      "user_seed : coconut liqueur\n",
      "coconut liqueur\n",
      "seed_ingredient : coconut liqueur\n",
      "\u001b[1m1/1\u001b[0m \u001b[32m━━━━━━━━━━━━━━━━━━━━\u001b[0m\u001b[37m\u001b[0m \u001b[1m0s\u001b[0m 14ms/step\n",
      "next_ingredient : sprite, total_prob : 0 , normalized_prob[next_ingredient_id] : 0.7508240660941767\n",
      "\u001b[1m1/1\u001b[0m \u001b[32m━━━━━━━━━━━━━━━━━━━━\u001b[0m\u001b[37m\u001b[0m \u001b[1m0s\u001b[0m 15ms/step\n",
      "next_ingredient : vodka, total_prob : 0.7508240660941767 , normalized_prob[next_ingredient_id] : 0.992724300906516\n",
      "(['coconut liqueur', 'sprite', 'vodka'], [0.277778660763067, 0.22839646600468452, 0.49382487323224844])\n",
      "{\n",
      "    \"user_id\": 1,\n",
      "    \"ABV\": 21,\n",
      "    \"sweet\": 18,\n",
      "    \"sour\": 46,\n",
      "    \"bitter\": 16,\n",
      "    \"umami\": 41,\n",
      "    \"salty\": 80,\n",
      "    \"astringent\": 5,\n",
      "    \"Perceived_temperature\": 6,\n",
      "    \"spicy\": 20,\n",
      "    \"herbal\": 6,\n",
      "    \"floral\": 46,\n",
      "    \"fruity\": 62,\n",
      "    \"nutty\": 2,\n",
      "    \"creamy\": 99,\n",
      "    \"smoky\": 42\n",
      "}\n",
      "s : 0.8046258337942257, d : 0.8008754296193701, a : 0.7628902940066851, t : 0.6722134216612073\n",
      "user_seed : peach brandy\n",
      "peach brandy\n",
      "seed_ingredient : peach brandy\n",
      "\u001b[1m1/1\u001b[0m \u001b[32m━━━━━━━━━━━━━━━━━━━━\u001b[0m\u001b[37m\u001b[0m \u001b[1m0s\u001b[0m 42ms/step\n",
      "next_ingredient : irish whiskey, total_prob : 0 , normalized_prob[next_ingredient_id] : 0.9610764968745821\n",
      "\u001b[1m1/1\u001b[0m \u001b[32m━━━━━━━━━━━━━━━━━━━━\u001b[0m\u001b[37m\u001b[0m \u001b[1m0s\u001b[0m 18ms/step\n",
      "next_ingredient : cherry, total_prob : 0.9610764968745821 , normalized_prob[next_ingredient_id] : 0.9403713968825237\n",
      "(['peach brandy', 'irish whiskey', 'cherry'], [0.4955752212389381, 0.4955752212389381, 0.008849557522123894])\n",
      "{\n",
      "    \"user_id\": 2,\n",
      "    \"ABV\": 58,\n",
      "    \"sweet\": 54,\n",
      "    \"sour\": 62,\n",
      "    \"bitter\": 29,\n",
      "    \"umami\": 45,\n",
      "    \"salty\": 58,\n",
      "    \"astringent\": 94,\n",
      "    \"Perceived_temperature\": 65,\n",
      "    \"spicy\": 41,\n",
      "    \"herbal\": 94,\n",
      "    \"floral\": 60,\n",
      "    \"fruity\": 96,\n",
      "    \"nutty\": 75,\n",
      "    \"creamy\": 70,\n",
      "    \"smoky\": 74\n",
      "}\n",
      "s : 0.5100140657395239, d : 0.8008751624431449, a : 0.6840966901740972, t : 0.4276169405815423\n",
      "user_seed : ale\n",
      "ale\n",
      "seed_ingredient : ale\n",
      "\u001b[1m1/1\u001b[0m \u001b[32m━━━━━━━━━━━━━━━━━━━━\u001b[0m\u001b[37m\u001b[0m \u001b[1m0s\u001b[0m 15ms/step\n",
      "next_ingredient : guinness stout, total_prob : 0 , normalized_prob[next_ingredient_id] : 0.9960860053845326\n",
      "\u001b[1m1/1\u001b[0m \u001b[32m━━━━━━━━━━━━━━━━━━━━\u001b[0m\u001b[37m\u001b[0m \u001b[1m0s\u001b[0m 15ms/step\n",
      "next_ingredient : root beer, total_prob : 0.9960860053845326 , normalized_prob[next_ingredient_id] : 0.7713250531012692\n",
      "(['ale', 'guinness stout', 'root beer'], [0.20682904847386194, 0.20682904847386194, 0.5863419030522761])\n",
      "{\n",
      "    \"user_id\": 3,\n",
      "    \"ABV\": 2,\n",
      "    \"sweet\": 30,\n",
      "    \"sour\": 8,\n",
      "    \"bitter\": 71,\n",
      "    \"umami\": 78,\n",
      "    \"salty\": 5,\n",
      "    \"astringent\": 76,\n",
      "    \"Perceived_temperature\": 6,\n",
      "    \"spicy\": 89,\n",
      "    \"herbal\": 91,\n",
      "    \"floral\": 2,\n",
      "    \"fruity\": 25,\n",
      "    \"nutty\": 86,\n",
      "    \"creamy\": 60,\n",
      "    \"smoky\": 81\n",
      "}\n",
      "s : 0.8844416114581376, d : 0.8008751624431449, a : 0.9970277284778757, t : 0.533979057963563\n",
      "user_seed : yellow chartreuse\n",
      "yellow chartreuse\n",
      "seed_ingredient : yellow chartreuse\n",
      "\u001b[1m1/1\u001b[0m \u001b[32m━━━━━━━━━━━━━━━━━━━━\u001b[0m\u001b[37m\u001b[0m \u001b[1m0s\u001b[0m 16ms/step\n",
      "next_ingredient : gin, total_prob : 0 , normalized_prob[next_ingredient_id] : 0.9572700127112539\n",
      "\u001b[1m1/1\u001b[0m \u001b[32m━━━━━━━━━━━━━━━━━━━━\u001b[0m\u001b[37m\u001b[0m \u001b[1m0s\u001b[0m 14ms/step\n",
      "next_ingredient : green chartreuse, total_prob : 0.9572700127112539 , normalized_prob[next_ingredient_id] : 0.96033286027392\n",
      "(['yellow chartreuse', 'gin', 'green chartreuse'], [0.33333333333333337, 0.33333333333333337, 0.33333333333333337])\n",
      "{\n",
      "    \"user_id\": 4,\n",
      "    \"ABV\": 45,\n",
      "    \"sweet\": 22,\n",
      "    \"sour\": 54,\n",
      "    \"bitter\": 99,\n",
      "    \"umami\": 21,\n",
      "    \"salty\": 10,\n",
      "    \"astringent\": 20,\n",
      "    \"Perceived_temperature\": 3,\n",
      "    \"spicy\": 31,\n",
      "    \"herbal\": 47,\n",
      "    \"floral\": 66,\n",
      "    \"fruity\": 82,\n",
      "    \"nutty\": 18,\n",
      "    \"creamy\": 91,\n",
      "    \"smoky\": 97\n",
      "}\n",
      "s : 0.8703882797784891, d : 0.8008746280906945, a : 0.9778270509977826, t : 0.5854761904761905\n",
      "Model does not meet the threshold criteria.\n"
     ]
    },
    {
     "data": {
      "application/vnd.jupyter.widget-view+json": {
       "model_id": "e5fd490fc85d445fa254c6a8c543e613",
       "version_major": 2,
       "version_minor": 0
      },
      "text/plain": [
       "VBox(children=(Label(value='0.001 MB of 0.032 MB uploaded\\r'), FloatProgress(value=0.0403096636412173, max=1.0…"
      ]
     },
     "metadata": {},
     "output_type": "display_data"
    },
    {
     "data": {
      "text/html": [
       "<style>\n",
       "    table.wandb td:nth-child(1) { padding: 0 10px; text-align: left ; width: auto;} td:nth-child(2) {text-align: left ; width: 100%}\n",
       "    .wandb-row { display: flex; flex-direction: row; flex-wrap: wrap; justify-content: flex-start; width: 100% }\n",
       "    .wandb-col { display: flex; flex-direction: column; flex-basis: 100%; flex: 1; padding: 10px; }\n",
       "    </style>\n",
       "<div class=\"wandb-row\"><div class=\"wandb-col\"><h3>Run history:</h3><br/><table class=\"wandb\"><tr><td>ABV</td><td>▂▅▇▁█</td></tr><tr><td>Perceived_temperature</td><td>▁▄▆▃█</td></tr><tr><td>abv_match</td><td>▁</td></tr><tr><td>accuracy</td><td>▁▃▆▇██████</td></tr><tr><td>astringent</td><td>▆▁▁▃█</td></tr><tr><td>avg_ingredient_count</td><td>▁</td></tr><tr><td>bitter</td><td>▄▁▃▃█</td></tr><tr><td>boozy</td><td>▂▆█▁█</td></tr><tr><td>creamy</td><td>█▅▁▃▁</td></tr><tr><td>diversity</td><td>▁</td></tr><tr><td>epoch</td><td>▁▁▁▁▁▁▁▁▁▁</td></tr><tr><td>floral</td><td>▁█▁▁▁</td></tr><tr><td>fruity</td><td>▁▄█▁▁</td></tr><tr><td>herbal</td><td>▂▁▁▃█</td></tr><tr><td>ingredient_count_0</td><td>▁</td></tr><tr><td>ingredient_count_1</td><td>▁</td></tr><tr><td>ingredient_count_2</td><td>▁</td></tr><tr><td>ingredient_count_3</td><td>▁</td></tr><tr><td>ingredient_count_4</td><td>▁</td></tr><tr><td>loss</td><td>█▅▃▂▁▁▁▁▁▁</td></tr><tr><td>nutty</td><td>▁▁▁▁▁</td></tr><tr><td>performance</td><td>▁</td></tr><tr><td>salty</td><td>█▃▁▁▁</td></tr><tr><td>similarity</td><td>▁</td></tr><tr><td>smoky</td><td>▆▁▃█▃</td></tr><tr><td>sour</td><td>▅▄▁█▂</td></tr><tr><td>spicy</td><td>▁▁▁▁▁</td></tr><tr><td>sweet</td><td>▂▅▁█▄</td></tr><tr><td>taste_match</td><td>▁</td></tr><tr><td>umami</td><td>▆▁█▆▁</td></tr></table><br/></div><div class=\"wandb-col\"><h3>Run summary:</h3><br/><table class=\"wandb\"><tr><td>ABV</td><td>46.0</td></tr><tr><td>Perceived_temperature</td><td>33.33333</td></tr><tr><td>abv_match</td><td>0.84211</td></tr><tr><td>accuracy</td><td>0.65403</td></tr><tr><td>astringent</td><td>13.33333</td></tr><tr><td>avg_ingredient_count</td><td>3.0</td></tr><tr><td>bitter</td><td>50.0</td></tr><tr><td>boozy</td><td>73.33333</td></tr><tr><td>creamy</td><td>0.0</td></tr><tr><td>diversity</td><td>0.80088</td></tr><tr><td>epoch</td><td>100</td></tr><tr><td>floral</td><td>0.0</td></tr><tr><td>fruity</td><td>0.0</td></tr><tr><td>herbal</td><td>73.33333</td></tr><tr><td>ingredient_count_0</td><td>3</td></tr><tr><td>ingredient_count_1</td><td>3</td></tr><tr><td>ingredient_count_2</td><td>3</td></tr><tr><td>ingredient_count_3</td><td>3</td></tr><tr><td>ingredient_count_4</td><td>3</td></tr><tr><td>loss</td><td>1.04429</td></tr><tr><td>nutty</td><td>0.0</td></tr><tr><td>performance</td><td>2.23042</td></tr><tr><td>salty</td><td>0.0</td></tr><tr><td>similarity</td><td>0.8126</td></tr><tr><td>smoky</td><td>3.33333</td></tr><tr><td>sour</td><td>3.33333</td></tr><tr><td>spicy</td><td>0.0</td></tr><tr><td>sweet</td><td>26.66667</td></tr><tr><td>taste_match</td><td>0.58743</td></tr><tr><td>umami</td><td>0.0</td></tr></table><br/></div></div>"
      ],
      "text/plain": [
       "<IPython.core.display.HTML object>"
      ]
     },
     "metadata": {},
     "output_type": "display_data"
    },
    {
     "data": {
      "text/html": [
       " View run <strong style=\"color:#cdcd00\">solar-sweep-4</strong> at: <a href='https://wandb.ai/jennyshin_gist_2024/cocktail_recipe_generation_v3_random_seed/runs/kclhdeuv' target=\"_blank\">https://wandb.ai/jennyshin_gist_2024/cocktail_recipe_generation_v3_random_seed/runs/kclhdeuv</a><br/> View project at: <a href='https://wandb.ai/jennyshin_gist_2024/cocktail_recipe_generation_v3_random_seed' target=\"_blank\">https://wandb.ai/jennyshin_gist_2024/cocktail_recipe_generation_v3_random_seed</a><br/>Synced 6 W&B file(s), 0 media file(s), 0 artifact file(s) and 0 other file(s)"
      ],
      "text/plain": [
       "<IPython.core.display.HTML object>"
      ]
     },
     "metadata": {},
     "output_type": "display_data"
    },
    {
     "data": {
      "text/html": [
       "Find logs at: <code>.\\wandb\\run-20240605_214814-kclhdeuv\\logs</code>"
      ],
      "text/plain": [
       "<IPython.core.display.HTML object>"
      ]
     },
     "metadata": {},
     "output_type": "display_data"
    },
    {
     "name": "stderr",
     "output_type": "stream",
     "text": [
      "\u001b[34m\u001b[1mwandb\u001b[0m: Agent Starting Run: g7d1ur3a with config:\n",
      "\u001b[34m\u001b[1mwandb\u001b[0m: \tbatch_size: 16\n",
      "\u001b[34m\u001b[1mwandb\u001b[0m: \tepochs: 200\n",
      "\u001b[34m\u001b[1mwandb\u001b[0m: \thidden_units: 64\n",
      "\u001b[34m\u001b[1mwandb\u001b[0m: \tlr: 1.0055364173171644\n",
      "\u001b[34m\u001b[1mwandb\u001b[0m: \toptimizer: sgd\n",
      "Failed to detect the name of this notebook, you can set it manually with the WANDB_NOTEBOOK_NAME environment variable to enable code saving.\n",
      "\u001b[34m\u001b[1mwandb\u001b[0m: \u001b[33mWARNING\u001b[0m Ignored wandb.init() arg project when running a sweep.\n"
     ]
    },
    {
     "data": {
      "application/vnd.jupyter.widget-view+json": {
       "model_id": "ab43a485cae54d6fa7994b00918be0c7",
       "version_major": 2,
       "version_minor": 0
      },
      "text/plain": [
       "VBox(children=(Label(value='Waiting for wandb.init()...\\r'), FloatProgress(value=0.011111111111111112, max=1.0…"
      ]
     },
     "metadata": {},
     "output_type": "display_data"
    },
    {
     "data": {
      "text/html": [
       "Tracking run with wandb version 0.17.0"
      ],
      "text/plain": [
       "<IPython.core.display.HTML object>"
      ]
     },
     "metadata": {},
     "output_type": "display_data"
    },
    {
     "data": {
      "text/html": [
       "Run data is saved locally in <code>d:\\CODE\\feelflask_master\\backend\\data_works\\wandb\\run-20240605_215016-g7d1ur3a</code>"
      ],
      "text/plain": [
       "<IPython.core.display.HTML object>"
      ]
     },
     "metadata": {},
     "output_type": "display_data"
    },
    {
     "data": {
      "text/html": [
       "Syncing run <strong><a href='https://wandb.ai/jennyshin_gist_2024/cocktail_recipe_generation_v3_random_seed/runs/g7d1ur3a' target=\"_blank\">fragrant-sweep-5</a></strong> to <a href='https://wandb.ai/jennyshin_gist_2024/cocktail_recipe_generation_v3_random_seed' target=\"_blank\">Weights & Biases</a> (<a href='https://wandb.me/run' target=\"_blank\">docs</a>)<br/>Sweep page: <a href='https://wandb.ai/jennyshin_gist_2024/cocktail_recipe_generation_v3_random_seed/sweeps/eeqk6rdo' target=\"_blank\">https://wandb.ai/jennyshin_gist_2024/cocktail_recipe_generation_v3_random_seed/sweeps/eeqk6rdo</a>"
      ],
      "text/plain": [
       "<IPython.core.display.HTML object>"
      ]
     },
     "metadata": {},
     "output_type": "display_data"
    },
    {
     "data": {
      "text/html": [
       " View project at <a href='https://wandb.ai/jennyshin_gist_2024/cocktail_recipe_generation_v3_random_seed' target=\"_blank\">https://wandb.ai/jennyshin_gist_2024/cocktail_recipe_generation_v3_random_seed</a>"
      ],
      "text/plain": [
       "<IPython.core.display.HTML object>"
      ]
     },
     "metadata": {},
     "output_type": "display_data"
    },
    {
     "data": {
      "text/html": [
       " View sweep at <a href='https://wandb.ai/jennyshin_gist_2024/cocktail_recipe_generation_v3_random_seed/sweeps/eeqk6rdo' target=\"_blank\">https://wandb.ai/jennyshin_gist_2024/cocktail_recipe_generation_v3_random_seed/sweeps/eeqk6rdo</a>"
      ],
      "text/plain": [
       "<IPython.core.display.HTML object>"
      ]
     },
     "metadata": {},
     "output_type": "display_data"
    },
    {
     "data": {
      "text/html": [
       " View run at <a href='https://wandb.ai/jennyshin_gist_2024/cocktail_recipe_generation_v3_random_seed/runs/g7d1ur3a' target=\"_blank\">https://wandb.ai/jennyshin_gist_2024/cocktail_recipe_generation_v3_random_seed/runs/g7d1ur3a</a>"
      ],
      "text/plain": [
       "<IPython.core.display.HTML object>"
      ]
     },
     "metadata": {},
     "output_type": "display_data"
    },
    {
     "name": "stdout",
     "output_type": "stream",
     "text": [
      "user_seed : lager\n",
      "lager\n",
      "seed_ingredient : lager\n",
      "\u001b[1m1/1\u001b[0m \u001b[32m━━━━━━━━━━━━━━━━━━━━\u001b[0m\u001b[37m\u001b[0m \u001b[1m0s\u001b[0m 269ms/step\n",
      "next_ingredient : cider, total_prob : 0 , normalized_prob[next_ingredient_id] : 0.25966061111653255\n",
      "\u001b[1m1/1\u001b[0m \u001b[32m━━━━━━━━━━━━━━━━━━━━\u001b[0m\u001b[37m\u001b[0m \u001b[1m0s\u001b[0m 18ms/step\n",
      "next_ingredient : sugar syrup, total_prob : 0.25966061111653255 , normalized_prob[next_ingredient_id] : 0.16252377633936047\n",
      "\u001b[1m1/1\u001b[0m \u001b[32m━━━━━━━━━━━━━━━━━━━━\u001b[0m\u001b[37m\u001b[0m \u001b[1m0s\u001b[0m 15ms/step\n",
      "next_ingredient : baileys irish cream, total_prob : 0.42218438745589304 , normalized_prob[next_ingredient_id] : 0.16789847547722989\n",
      "\u001b[1m1/1\u001b[0m \u001b[32m━━━━━━━━━━━━━━━━━━━━\u001b[0m\u001b[37m\u001b[0m \u001b[1m0s\u001b[0m 15ms/step\n",
      "next_ingredient : vanilla ice-cream, total_prob : 0.590082862933123 , normalized_prob[next_ingredient_id] : 0.18063650403912698\n",
      "\u001b[1m1/1\u001b[0m \u001b[32m━━━━━━━━━━━━━━━━━━━━\u001b[0m\u001b[37m\u001b[0m \u001b[1m0s\u001b[0m 15ms/step\n",
      "next_ingredient : whipped cream, total_prob : 0.77071936697225 , normalized_prob[next_ingredient_id] : 0.16294950763537036\n",
      "\u001b[1m1/1\u001b[0m \u001b[32m━━━━━━━━━━━━━━━━━━━━\u001b[0m\u001b[37m\u001b[0m \u001b[1m0s\u001b[0m 20ms/step\n",
      "next_ingredient : chocolate syrup, total_prob : 0.9336688746076203 , normalized_prob[next_ingredient_id] : 0.12822664394101405\n",
      "(['lager', 'cider', 'sugar syrup', 'baileys irish cream', 'vanilla ice-cream', 'whipped cream', 'chocolate syrup'], [0.1388888888888889, 0.16666666666666669, 0.05555555555555556, 0.4722222222222222, 0.05555555555555556, 0.05555555555555556, 0.05555555555555556])\n",
      "{\n",
      "    \"user_id\": 0,\n",
      "    \"ABV\": 7,\n",
      "    \"sweet\": 36,\n",
      "    \"sour\": 70,\n",
      "    \"bitter\": 6,\n",
      "    \"umami\": 38,\n",
      "    \"salty\": 50,\n",
      "    \"astringent\": 65,\n",
      "    \"Perceived_temperature\": 13,\n",
      "    \"spicy\": 22,\n",
      "    \"herbal\": 24,\n",
      "    \"floral\": 27,\n",
      "    \"fruity\": 35,\n",
      "    \"nutty\": 13,\n",
      "    \"creamy\": 70,\n",
      "    \"smoky\": 19\n",
      "}\n",
      "s : 0.8883821671450565, d : 0.802032157094408, a : 0.6165884194053208, t : 0.7122619047619048\n",
      "user_seed : cherry heering\n",
      "cherry heering\n",
      "seed_ingredient : cherry heering\n",
      "\u001b[1m1/1\u001b[0m \u001b[32m━━━━━━━━━━━━━━━━━━━━\u001b[0m\u001b[37m\u001b[0m \u001b[1m0s\u001b[0m 15ms/step\n",
      "next_ingredient : blackberry brandy, total_prob : 0 , normalized_prob[next_ingredient_id] : 0.10894251893078354\n",
      "\u001b[1m1/1\u001b[0m \u001b[32m━━━━━━━━━━━━━━━━━━━━\u001b[0m\u001b[37m\u001b[0m \u001b[1m0s\u001b[0m 18ms/step\n",
      "next_ingredient : malibu rum, total_prob : 0.10894251893078354 , normalized_prob[next_ingredient_id] : 0.1897650499493111\n",
      "\u001b[1m1/1\u001b[0m \u001b[32m━━━━━━━━━━━━━━━━━━━━\u001b[0m\u001b[37m\u001b[0m \u001b[1m0s\u001b[0m 16ms/step\n",
      "next_ingredient : orange juice, total_prob : 0.29870756888009464 , normalized_prob[next_ingredient_id] : 0.18845845987678278\n",
      "\u001b[1m1/1\u001b[0m \u001b[32m━━━━━━━━━━━━━━━━━━━━\u001b[0m\u001b[37m\u001b[0m \u001b[1m0s\u001b[0m 16ms/step\n",
      "next_ingredient : sloe gin, total_prob : 0.4871660287568774 , normalized_prob[next_ingredient_id] : 0.1462849062150246\n",
      "\u001b[1m1/1\u001b[0m \u001b[32m━━━━━━━━━━━━━━━━━━━━\u001b[0m\u001b[37m\u001b[0m \u001b[1m0s\u001b[0m 17ms/step\n",
      "next_ingredient : gin, total_prob : 0.633450934971902 , normalized_prob[next_ingredient_id] : 0.21825093579151414\n",
      "\u001b[1m1/1\u001b[0m \u001b[32m━━━━━━━━━━━━━━━━━━━━\u001b[0m\u001b[37m\u001b[0m \u001b[1m0s\u001b[0m 16ms/step\n",
      "next_ingredient : carbonated water, total_prob : 0.8517018707634161 , normalized_prob[next_ingredient_id] : 0.2497466592977146\n",
      "(['cherry heering', 'blackberry brandy', 'malibu rum', 'orange juice', 'sloe gin', 'gin', 'carbonated water'], [0.13445378151260504, 0.13445378151260504, 0.11764705882352941, 0.13445378151260504, 0.12044817927170869, 0.22408963585434175, 0.13445378151260504])\n",
      "{\n",
      "    \"user_id\": 1,\n",
      "    \"ABV\": 21,\n",
      "    \"sweet\": 18,\n",
      "    \"sour\": 46,\n",
      "    \"bitter\": 16,\n",
      "    \"umami\": 41,\n",
      "    \"salty\": 80,\n",
      "    \"astringent\": 5,\n",
      "    \"Perceived_temperature\": 6,\n",
      "    \"spicy\": 20,\n",
      "    \"herbal\": 6,\n",
      "    \"floral\": 46,\n",
      "    \"fruity\": 62,\n",
      "    \"nutty\": 2,\n",
      "    \"creamy\": 99,\n",
      "    \"smoky\": 42\n",
      "}\n",
      "s : 0.6394769144917335, d : 0.802032157094408, a : 0.9752412813466619, t : 0.7022148859543818\n",
      "user_seed : benedictine\n",
      "benedictine\n",
      "seed_ingredient : benedictine\n",
      "\u001b[1m1/1\u001b[0m \u001b[32m━━━━━━━━━━━━━━━━━━━━\u001b[0m\u001b[37m\u001b[0m \u001b[1m0s\u001b[0m 15ms/step\n",
      "next_ingredient : gin, total_prob : 0 , normalized_prob[next_ingredient_id] : 0.4331381664638439\n",
      "\u001b[1m1/1\u001b[0m \u001b[32m━━━━━━━━━━━━━━━━━━━━\u001b[0m\u001b[37m\u001b[0m \u001b[1m0s\u001b[0m 15ms/step\n",
      "next_ingredient : lemon juice, total_prob : 0.4331381664638439 , normalized_prob[next_ingredient_id] : 0.10791575989542311\n",
      "\u001b[1m1/1\u001b[0m \u001b[32m━━━━━━━━━━━━━━━━━━━━\u001b[0m\u001b[37m\u001b[0m \u001b[1m0s\u001b[0m 15ms/step\n",
      "next_ingredient : brandy, total_prob : 0.541053926359267 , normalized_prob[next_ingredient_id] : 0.39343244207014555\n",
      "\u001b[1m1/1\u001b[0m \u001b[32m━━━━━━━━━━━━━━━━━━━━\u001b[0m\u001b[37m\u001b[0m \u001b[1m0s\u001b[0m 15ms/step\n",
      "next_ingredient : maraschino cherry, total_prob : 0.9344863684294125 , normalized_prob[next_ingredient_id] : 0.30339570905902724\n",
      "(['benedictine', 'gin', 'lemon juice', 'brandy', 'maraschino cherry'], [0.2892298344219961, 0.2892298344219961, 0.005772444174388577, 0.34346042837612034, 0.07230745860549903])\n",
      "{\n",
      "    \"user_id\": 2,\n",
      "    \"ABV\": 58,\n",
      "    \"sweet\": 54,\n",
      "    \"sour\": 62,\n",
      "    \"bitter\": 29,\n",
      "    \"umami\": 45,\n",
      "    \"salty\": 58,\n",
      "    \"astringent\": 94,\n",
      "    \"Perceived_temperature\": 65,\n",
      "    \"spicy\": 41,\n",
      "    \"herbal\": 94,\n",
      "    \"floral\": 60,\n",
      "    \"fruity\": 96,\n",
      "    \"nutty\": 75,\n",
      "    \"creamy\": 70,\n",
      "    \"smoky\": 74\n",
      "}\n",
      "s : 0.6774896639243991, d : 0.8014555916671107, a : 0.6957047608415041, t : 0.46800557713591284\n",
      "user_seed : guinness stout\n",
      "guinness stout\n",
      "seed_ingredient : guinness stout\n",
      "\u001b[1m1/1\u001b[0m \u001b[32m━━━━━━━━━━━━━━━━━━━━\u001b[0m\u001b[37m\u001b[0m \u001b[1m0s\u001b[0m 26ms/step\n",
      "next_ingredient : root beer, total_prob : 0 , normalized_prob[next_ingredient_id] : 0.24020065633625173\n",
      "\u001b[1m1/1\u001b[0m \u001b[32m━━━━━━━━━━━━━━━━━━━━\u001b[0m\u001b[37m\u001b[0m \u001b[1m0s\u001b[0m 15ms/step\n",
      "next_ingredient : whipped cream, total_prob : 0.24020065633625173 , normalized_prob[next_ingredient_id] : 0.12363348381921721\n",
      "\u001b[1m1/1\u001b[0m \u001b[32m━━━━━━━━━━━━━━━━━━━━\u001b[0m\u001b[37m\u001b[0m \u001b[1m0s\u001b[0m 15ms/step\n",
      "next_ingredient : vanilla ice-cream, total_prob : 0.36383414015546894 , normalized_prob[next_ingredient_id] : 0.16367249636862277\n",
      "\u001b[1m1/1\u001b[0m \u001b[32m━━━━━━━━━━━━━━━━━━━━\u001b[0m\u001b[37m\u001b[0m \u001b[1m0s\u001b[0m 17ms/step\n",
      "next_ingredient : half-and-half, total_prob : 0.5275066365240917 , normalized_prob[next_ingredient_id] : 0.12407094999407002\n",
      "\u001b[1m1/1\u001b[0m \u001b[32m━━━━━━━━━━━━━━━━━━━━\u001b[0m\u001b[37m\u001b[0m \u001b[1m0s\u001b[0m 17ms/step\n",
      "next_ingredient : vanilla, total_prob : 0.6515775865181617 , normalized_prob[next_ingredient_id] : 0.15106390523506152\n",
      "\u001b[1m1/1\u001b[0m \u001b[32m━━━━━━━━━━━━━━━━━━━━\u001b[0m\u001b[37m\u001b[0m \u001b[1m0s\u001b[0m 15ms/step\n",
      "next_ingredient : chocolate sauce, total_prob : 0.8026414917532232 , normalized_prob[next_ingredient_id] : 0.2050379611976888\n",
      "(['guinness stout', 'root beer', 'whipped cream', 'vanilla ice-cream', 'half-and-half', 'vanilla', 'chocolate sauce'], [0.47526741145587015, 0.08745543142402164, 0.08745543142402164, 0.08745543142402164, 0.08745543142402164, 0.08745543142402164, 0.08745543142402164])\n",
      "{\n",
      "    \"user_id\": 3,\n",
      "    \"ABV\": 2,\n",
      "    \"sweet\": 30,\n",
      "    \"sour\": 8,\n",
      "    \"bitter\": 71,\n",
      "    \"umami\": 78,\n",
      "    \"salty\": 5,\n",
      "    \"astringent\": 76,\n",
      "    \"Perceived_temperature\": 6,\n",
      "    \"spicy\": 89,\n",
      "    \"herbal\": 91,\n",
      "    \"floral\": 2,\n",
      "    \"fruity\": 25,\n",
      "    \"nutty\": 86,\n",
      "    \"creamy\": 60,\n",
      "    \"smoky\": 81\n",
      "}\n",
      "s : 0.8776174440799666, d : 0.8020297665088525, a : 0.9981538705307877, t : 0.5816128731026258\n",
      "user_seed : yellow chartreuse\n",
      "yellow chartreuse\n",
      "seed_ingredient : yellow chartreuse\n",
      "\u001b[1m1/1\u001b[0m \u001b[32m━━━━━━━━━━━━━━━━━━━━\u001b[0m\u001b[37m\u001b[0m \u001b[1m0s\u001b[0m 16ms/step\n",
      "next_ingredient : ouzo, total_prob : 0 , normalized_prob[next_ingredient_id] : 0.14801352599374507\n",
      "\u001b[1m1/1\u001b[0m \u001b[32m━━━━━━━━━━━━━━━━━━━━\u001b[0m\u001b[37m\u001b[0m \u001b[1m0s\u001b[0m 16ms/step\n",
      "next_ingredient : grand marnier, total_prob : 0.14801352599374507 , normalized_prob[next_ingredient_id] : 0.19283380514726062\n",
      "\u001b[1m1/1\u001b[0m \u001b[32m━━━━━━━━━━━━━━━━━━━━\u001b[0m\u001b[37m\u001b[0m \u001b[1m0s\u001b[0m 15ms/step\n",
      "next_ingredient : gin, total_prob : 0.3408473311410057 , normalized_prob[next_ingredient_id] : 0.18988888825977596\n",
      "\u001b[1m1/1\u001b[0m \u001b[32m━━━━━━━━━━━━━━━━━━━━\u001b[0m\u001b[37m\u001b[0m \u001b[1m0s\u001b[0m 14ms/step\n",
      "next_ingredient : baileys irish cream, total_prob : 0.5307362194007816 , normalized_prob[next_ingredient_id] : 0.21617902138479397\n",
      "\u001b[1m1/1\u001b[0m \u001b[32m━━━━━━━━━━━━━━━━━━━━\u001b[0m\u001b[37m\u001b[0m \u001b[1m0s\u001b[0m 15ms/step\n",
      "next_ingredient : sloe gin, total_prob : 0.7469152407855756 , normalized_prob[next_ingredient_id] : 0.17698287662533405\n",
      "\u001b[1m1/1\u001b[0m \u001b[32m━━━━━━━━━━━━━━━━━━━━\u001b[0m\u001b[37m\u001b[0m \u001b[1m0s\u001b[0m 17ms/step\n",
      "next_ingredient : cognac, total_prob : 0.9238981174109097 , normalized_prob[next_ingredient_id] : 0.32187130121216645\n",
      "(['yellow chartreuse', 'ouzo', 'grand marnier', 'gin', 'baileys irish cream', 'sloe gin', 'cognac'], [0.1744421906693712, 0.1825557809330629, 0.16227180527383364, 0.16227180527383364, 0.06896551724137932, 0.0872210953346856, 0.16227180527383364])\n",
      "{\n",
      "    \"user_id\": 4,\n",
      "    \"ABV\": 45,\n",
      "    \"sweet\": 22,\n",
      "    \"sour\": 54,\n",
      "    \"bitter\": 99,\n",
      "    \"umami\": 21,\n",
      "    \"salty\": 10,\n",
      "    \"astringent\": 20,\n",
      "    \"Perceived_temperature\": 3,\n",
      "    \"spicy\": 31,\n",
      "    \"herbal\": 47,\n",
      "    \"floral\": 66,\n",
      "    \"fruity\": 82,\n",
      "    \"nutty\": 18,\n",
      "    \"creamy\": 91,\n",
      "    \"smoky\": 97\n",
      "}\n",
      "s : 0.6674651063378243, d : 0.8020329539562597, a : 0.8500290092334816, t : 0.6085728774268329\n",
      "Model does not meet the threshold criteria.\n"
     ]
    },
    {
     "data": {
      "application/vnd.jupyter.widget-view+json": {
       "model_id": "1f587a9f70704da49f88495878e00452",
       "version_major": 2,
       "version_minor": 0
      },
      "text/plain": [
       "VBox(children=(Label(value='0.001 MB of 0.001 MB uploaded\\r'), FloatProgress(value=1.0, max=1.0)))"
      ]
     },
     "metadata": {},
     "output_type": "display_data"
    },
    {
     "data": {
      "text/html": [
       "<style>\n",
       "    table.wandb td:nth-child(1) { padding: 0 10px; text-align: left ; width: auto;} td:nth-child(2) {text-align: left ; width: 100%}\n",
       "    .wandb-row { display: flex; flex-direction: row; flex-wrap: wrap; justify-content: flex-start; width: 100% }\n",
       "    .wandb-col { display: flex; flex-direction: column; flex-basis: 100%; flex: 1; padding: 10px; }\n",
       "    </style>\n",
       "<div class=\"wandb-row\"><div class=\"wandb-col\"><h3>Run history:</h3><br/><table class=\"wandb\"><tr><td>ABV</td><td>▂▄█▁█</td></tr><tr><td>Perceived_temperature</td><td>▁▅█▄█</td></tr><tr><td>abv_match</td><td>▁</td></tr><tr><td>accuracy</td><td>▁▂▂▂▃▃▃▄▄▄▄▅▅▅▆▆▇▇▇█</td></tr><tr><td>astringent</td><td>▃▅▁█▆</td></tr><tr><td>avg_ingredient_count</td><td>▁</td></tr><tr><td>bitter</td><td>▁▃█▅█</td></tr><tr><td>boozy</td><td>▂▅█▁█</td></tr><tr><td>creamy</td><td>█▂▁█▂</td></tr><tr><td>diversity</td><td>▁</td></tr><tr><td>epoch</td><td>▁▁▁▁▁▁▁▁▁▁▁▁▁▁▁▁▁▁▁▁</td></tr><tr><td>floral</td><td>▁▆▃▂█</td></tr><tr><td>fruity</td><td>▃█▄▁▄</td></tr><tr><td>herbal</td><td>▁▄█▂█</td></tr><tr><td>ingredient_count_0</td><td>▁</td></tr><tr><td>ingredient_count_1</td><td>▁</td></tr><tr><td>ingredient_count_2</td><td>▁</td></tr><tr><td>ingredient_count_3</td><td>▁</td></tr><tr><td>ingredient_count_4</td><td>▁</td></tr><tr><td>loss</td><td>█▆▆▅▅▄▄▄▄▃▃▃▃▂▂▂▂▁▁▁</td></tr><tr><td>nutty</td><td>█▁▁▁▂</td></tr><tr><td>performance</td><td>▁</td></tr><tr><td>salty</td><td>█▅▁▇▁</td></tr><tr><td>similarity</td><td>▁</td></tr><tr><td>smoky</td><td>▁▂▃█▂</td></tr><tr><td>sour</td><td>▁█▃▇▂</td></tr><tr><td>spicy</td><td>▁▁▁▁▁</td></tr><tr><td>sweet</td><td>█▃▂▄▁</td></tr><tr><td>taste_match</td><td>▁</td></tr><tr><td>umami</td><td>▂▁██▄</td></tr></table><br/></div><div class=\"wandb-col\"><h3>Run summary:</h3><br/><table class=\"wandb\"><tr><td>ABV</td><td>38.23631</td></tr><tr><td>Perceived_temperature</td><td>32.55578</td></tr><tr><td>abv_match</td><td>0.82714</td></tr><tr><td>accuracy</td><td>0.2331</td></tr><tr><td>astringent</td><td>3.48884</td></tr><tr><td>avg_ingredient_count</td><td>6.6</td></tr><tr><td>bitter</td><td>30.06085</td></tr><tr><td>boozy</td><td>64.62475</td></tr><tr><td>creamy</td><td>4.13793</td></tr><tr><td>diversity</td><td>0.80192</td></tr><tr><td>epoch</td><td>200</td></tr><tr><td>floral</td><td>8.43813</td></tr><tr><td>fruity</td><td>16.59229</td></tr><tr><td>herbal</td><td>39.63489</td></tr><tr><td>ingredient_count_0</td><td>7</td></tr><tr><td>ingredient_count_1</td><td>7</td></tr><tr><td>ingredient_count_2</td><td>5</td></tr><tr><td>ingredient_count_3</td><td>7</td></tr><tr><td>ingredient_count_4</td><td>7</td></tr><tr><td>loss</td><td>3.1895</td></tr><tr><td>nutty</td><td>5.51724</td></tr><tr><td>performance</td><td>2.24359</td></tr><tr><td>salty</td><td>0.0</td></tr><tr><td>similarity</td><td>0.75009</td></tr><tr><td>smoky</td><td>3.24544</td></tr><tr><td>sour</td><td>6.61258</td></tr><tr><td>spicy</td><td>0.0</td></tr><tr><td>sweet</td><td>27.24138</td></tr><tr><td>taste_match</td><td>0.61453</td></tr><tr><td>umami</td><td>5.07099</td></tr></table><br/></div></div>"
      ],
      "text/plain": [
       "<IPython.core.display.HTML object>"
      ]
     },
     "metadata": {},
     "output_type": "display_data"
    },
    {
     "data": {
      "text/html": [
       " View run <strong style=\"color:#cdcd00\">fragrant-sweep-5</strong> at: <a href='https://wandb.ai/jennyshin_gist_2024/cocktail_recipe_generation_v3_random_seed/runs/g7d1ur3a' target=\"_blank\">https://wandb.ai/jennyshin_gist_2024/cocktail_recipe_generation_v3_random_seed/runs/g7d1ur3a</a><br/> View project at: <a href='https://wandb.ai/jennyshin_gist_2024/cocktail_recipe_generation_v3_random_seed' target=\"_blank\">https://wandb.ai/jennyshin_gist_2024/cocktail_recipe_generation_v3_random_seed</a><br/>Synced 6 W&B file(s), 0 media file(s), 0 artifact file(s) and 0 other file(s)"
      ],
      "text/plain": [
       "<IPython.core.display.HTML object>"
      ]
     },
     "metadata": {},
     "output_type": "display_data"
    },
    {
     "data": {
      "text/html": [
       "Find logs at: <code>.\\wandb\\run-20240605_215016-g7d1ur3a\\logs</code>"
      ],
      "text/plain": [
       "<IPython.core.display.HTML object>"
      ]
     },
     "metadata": {},
     "output_type": "display_data"
    },
    {
     "name": "stderr",
     "output_type": "stream",
     "text": [
      "\u001b[34m\u001b[1mwandb\u001b[0m: Agent Starting Run: cfsfr1kn with config:\n",
      "\u001b[34m\u001b[1mwandb\u001b[0m: \tbatch_size: 64\n",
      "\u001b[34m\u001b[1mwandb\u001b[0m: \tepochs: 200\n",
      "\u001b[34m\u001b[1mwandb\u001b[0m: \thidden_units: 128\n",
      "\u001b[34m\u001b[1mwandb\u001b[0m: \tlr: 1.054435766856575\n",
      "\u001b[34m\u001b[1mwandb\u001b[0m: \toptimizer: sgd\n",
      "Failed to detect the name of this notebook, you can set it manually with the WANDB_NOTEBOOK_NAME environment variable to enable code saving.\n",
      "\u001b[34m\u001b[1mwandb\u001b[0m: \u001b[33mWARNING\u001b[0m Ignored wandb.init() arg project when running a sweep.\n"
     ]
    },
    {
     "data": {
      "application/vnd.jupyter.widget-view+json": {
       "model_id": "9c6f12f24a9c44d4b8e3e388b57f8e07",
       "version_major": 2,
       "version_minor": 0
      },
      "text/plain": [
       "VBox(children=(Label(value='Waiting for wandb.init()...\\r'), FloatProgress(value=0.011111111111111112, max=1.0…"
      ]
     },
     "metadata": {},
     "output_type": "display_data"
    },
    {
     "data": {
      "text/html": [
       "Tracking run with wandb version 0.17.0"
      ],
      "text/plain": [
       "<IPython.core.display.HTML object>"
      ]
     },
     "metadata": {},
     "output_type": "display_data"
    },
    {
     "data": {
      "text/html": [
       "Run data is saved locally in <code>d:\\CODE\\feelflask_master\\backend\\data_works\\wandb\\run-20240605_215428-cfsfr1kn</code>"
      ],
      "text/plain": [
       "<IPython.core.display.HTML object>"
      ]
     },
     "metadata": {},
     "output_type": "display_data"
    },
    {
     "data": {
      "text/html": [
       "Syncing run <strong><a href='https://wandb.ai/jennyshin_gist_2024/cocktail_recipe_generation_v3_random_seed/runs/cfsfr1kn' target=\"_blank\">denim-sweep-6</a></strong> to <a href='https://wandb.ai/jennyshin_gist_2024/cocktail_recipe_generation_v3_random_seed' target=\"_blank\">Weights & Biases</a> (<a href='https://wandb.me/run' target=\"_blank\">docs</a>)<br/>Sweep page: <a href='https://wandb.ai/jennyshin_gist_2024/cocktail_recipe_generation_v3_random_seed/sweeps/eeqk6rdo' target=\"_blank\">https://wandb.ai/jennyshin_gist_2024/cocktail_recipe_generation_v3_random_seed/sweeps/eeqk6rdo</a>"
      ],
      "text/plain": [
       "<IPython.core.display.HTML object>"
      ]
     },
     "metadata": {},
     "output_type": "display_data"
    },
    {
     "data": {
      "text/html": [
       " View project at <a href='https://wandb.ai/jennyshin_gist_2024/cocktail_recipe_generation_v3_random_seed' target=\"_blank\">https://wandb.ai/jennyshin_gist_2024/cocktail_recipe_generation_v3_random_seed</a>"
      ],
      "text/plain": [
       "<IPython.core.display.HTML object>"
      ]
     },
     "metadata": {},
     "output_type": "display_data"
    },
    {
     "data": {
      "text/html": [
       " View sweep at <a href='https://wandb.ai/jennyshin_gist_2024/cocktail_recipe_generation_v3_random_seed/sweeps/eeqk6rdo' target=\"_blank\">https://wandb.ai/jennyshin_gist_2024/cocktail_recipe_generation_v3_random_seed/sweeps/eeqk6rdo</a>"
      ],
      "text/plain": [
       "<IPython.core.display.HTML object>"
      ]
     },
     "metadata": {},
     "output_type": "display_data"
    },
    {
     "data": {
      "text/html": [
       " View run at <a href='https://wandb.ai/jennyshin_gist_2024/cocktail_recipe_generation_v3_random_seed/runs/cfsfr1kn' target=\"_blank\">https://wandb.ai/jennyshin_gist_2024/cocktail_recipe_generation_v3_random_seed/runs/cfsfr1kn</a>"
      ],
      "text/plain": [
       "<IPython.core.display.HTML object>"
      ]
     },
     "metadata": {},
     "output_type": "display_data"
    },
    {
     "name": "stdout",
     "output_type": "stream",
     "text": [
      "user_seed : red wine\n",
      "red wine\n",
      "seed_ingredient : red wine\n",
      "\u001b[1m1/1\u001b[0m \u001b[32m━━━━━━━━━━━━━━━━━━━━\u001b[0m\u001b[37m\u001b[0m \u001b[1m0s\u001b[0m 287ms/step\n",
      "next_ingredient : powdered sugar, total_prob : 0 , normalized_prob[next_ingredient_id] : 0.1475738308652481\n",
      "\u001b[1m1/1\u001b[0m \u001b[32m━━━━━━━━━━━━━━━━━━━━\u001b[0m\u001b[37m\u001b[0m \u001b[1m0s\u001b[0m 15ms/step\n",
      "next_ingredient : water, total_prob : 0.1475738308652481 , normalized_prob[next_ingredient_id] : 0.13989538628435993\n",
      "\u001b[1m1/1\u001b[0m \u001b[32m━━━━━━━━━━━━━━━━━━━━\u001b[0m\u001b[37m\u001b[0m \u001b[1m0s\u001b[0m 16ms/step\n",
      "next_ingredient : orange juice, total_prob : 0.28746921714960805 , normalized_prob[next_ingredient_id] : 0.06668716646850778\n",
      "\u001b[1m1/1\u001b[0m \u001b[32m━━━━━━━━━━━━━━━━━━━━\u001b[0m\u001b[37m\u001b[0m \u001b[1m0s\u001b[0m 15ms/step\n",
      "next_ingredient : lemon juice, total_prob : 0.35415638361811586 , normalized_prob[next_ingredient_id] : 0.09716358392870145\n",
      "\u001b[1m1/1\u001b[0m \u001b[32m━━━━━━━━━━━━━━━━━━━━\u001b[0m\u001b[37m\u001b[0m \u001b[1m0s\u001b[0m 17ms/step\n",
      "next_ingredient : sugar, total_prob : 0.4513199675468173 , normalized_prob[next_ingredient_id] : 0.15242309663756923\n",
      "\u001b[1m1/1\u001b[0m \u001b[32m━━━━━━━━━━━━━━━━━━━━\u001b[0m\u001b[37m\u001b[0m \u001b[1m0s\u001b[0m 16ms/step\n",
      "next_ingredient : lemon, total_prob : 0.6037430641843865 , normalized_prob[next_ingredient_id] : 0.06517795875711746\n",
      "\u001b[1m1/1\u001b[0m \u001b[32m━━━━━━━━━━━━━━━━━━━━\u001b[0m\u001b[37m\u001b[0m \u001b[1m0s\u001b[0m 17ms/step\n",
      "next_ingredient : orange, total_prob : 0.6689210229415039 , normalized_prob[next_ingredient_id] : 0.062041723993142374\n",
      "\u001b[1m1/1\u001b[0m \u001b[32m━━━━━━━━━━━━━━━━━━━━\u001b[0m\u001b[37m\u001b[0m \u001b[1m0s\u001b[0m 16ms/step\n",
      "next_ingredient : maraschino cherry, total_prob : 0.7309627469346462 , normalized_prob[next_ingredient_id] : 0.1063697675104919\n",
      "\u001b[1m1/1\u001b[0m \u001b[32m━━━━━━━━━━━━━━━━━━━━\u001b[0m\u001b[37m\u001b[0m \u001b[1m0s\u001b[0m 18ms/step\n",
      "next_ingredient : soda water, total_prob : 0.8373325144451381 , normalized_prob[next_ingredient_id] : 0.06364120083006432\n",
      "(['red wine', 'powdered sugar', 'water', 'orange juice', 'lemon juice', 'sugar', 'lemon', 'orange', 'maraschino cherry', 'soda water'], [0.15492957746478872, 0.08873239436619719, 0.08873239436619719, 0.08873239436619719, 0.08873239436619719, 0.08873239436619719, 0.08873239436619719, 0.08873239436619719, 0.13521126760563376, 0.08873239436619719])\n",
      "{\n",
      "    \"user_id\": 0,\n",
      "    \"ABV\": 7,\n",
      "    \"sweet\": 36,\n",
      "    \"sour\": 70,\n",
      "    \"bitter\": 6,\n",
      "    \"umami\": 38,\n",
      "    \"salty\": 50,\n",
      "    \"astringent\": 65,\n",
      "    \"Perceived_temperature\": 13,\n",
      "    \"spicy\": 22,\n",
      "    \"herbal\": 24,\n",
      "    \"floral\": 27,\n",
      "    \"fruity\": 35,\n",
      "    \"nutty\": 13,\n",
      "    \"creamy\": 70,\n",
      "    \"smoky\": 19\n",
      "}\n",
      "s : 0.6265695802046123, d : 0.8028884628099173, a : 0.5426502678040072, t : 0.7442555331991951\n",
      "user_seed : erin cream\n",
      "erin cream\n",
      "seed_ingredient : erin cream\n",
      "\u001b[1m1/1\u001b[0m \u001b[32m━━━━━━━━━━━━━━━━━━━━\u001b[0m\u001b[37m\u001b[0m \u001b[1m0s\u001b[0m 17ms/step\n",
      "next_ingredient : kahlua, total_prob : 0 , normalized_prob[next_ingredient_id] : 0.3099235387365686\n",
      "\u001b[1m1/1\u001b[0m \u001b[32m━━━━━━━━━━━━━━━━━━━━\u001b[0m\u001b[37m\u001b[0m \u001b[1m0s\u001b[0m 15ms/step\n",
      "next_ingredient : baileys irish cream, total_prob : 0.3099235387365686 , normalized_prob[next_ingredient_id] : 0.4007497088581668\n",
      "\u001b[1m1/1\u001b[0m \u001b[32m━━━━━━━━━━━━━━━━━━━━\u001b[0m\u001b[37m\u001b[0m \u001b[1m0s\u001b[0m 15ms/step\n",
      "next_ingredient : frangelico, total_prob : 0.7106732475947354 , normalized_prob[next_ingredient_id] : 0.4132240928834943\n",
      "(['erin cream', 'kahlua', 'baileys irish cream', 'frangelico'], [0.22972972972972974, 0.2702702702702703, 0.22972972972972974, 0.2702702702702703])\n",
      "{\n",
      "    \"user_id\": 1,\n",
      "    \"ABV\": 21,\n",
      "    \"sweet\": 18,\n",
      "    \"sour\": 46,\n",
      "    \"bitter\": 16,\n",
      "    \"umami\": 41,\n",
      "    \"salty\": 80,\n",
      "    \"astringent\": 5,\n",
      "    \"Perceived_temperature\": 6,\n",
      "    \"spicy\": 20,\n",
      "    \"herbal\": 6,\n",
      "    \"floral\": 46,\n",
      "    \"fruity\": 62,\n",
      "    \"nutty\": 2,\n",
      "    \"creamy\": 99,\n",
      "    \"smoky\": 42\n",
      "}\n",
      "s : 0.8865222081506291, d : 0.8011654281569193, a : 0.8872806455744844, t : 0.6722779922779922\n",
      "user_seed : green chartreuse\n",
      "green chartreuse\n",
      "seed_ingredient : green chartreuse\n",
      "\u001b[1m1/1\u001b[0m \u001b[32m━━━━━━━━━━━━━━━━━━━━\u001b[0m\u001b[37m\u001b[0m \u001b[1m0s\u001b[0m 13ms/step\n",
      "next_ingredient : gin, total_prob : 0 , normalized_prob[next_ingredient_id] : 0.2113819933807374\n",
      "\u001b[1m1/1\u001b[0m \u001b[32m━━━━━━━━━━━━━━━━━━━━\u001b[0m\u001b[37m\u001b[0m \u001b[1m0s\u001b[0m 44ms/step\n",
      "next_ingredient : orange bitters, total_prob : 0.2113819933807374 , normalized_prob[next_ingredient_id] : 0.1404081814504109\n",
      "\u001b[1m1/1\u001b[0m \u001b[32m━━━━━━━━━━━━━━━━━━━━\u001b[0m\u001b[37m\u001b[0m \u001b[1m0s\u001b[0m 28ms/step\n",
      "next_ingredient : bitters, total_prob : 0.3517901748311483 , normalized_prob[next_ingredient_id] : 0.13548502502151186\n",
      "\u001b[1m1/1\u001b[0m \u001b[32m━━━━━━━━━━━━━━━━━━━━\u001b[0m\u001b[37m\u001b[0m \u001b[1m0s\u001b[0m 15ms/step\n",
      "next_ingredient : lemon peel, total_prob : 0.4872751998526601 , normalized_prob[next_ingredient_id] : 0.21764193457310033\n",
      "\u001b[1m1/1\u001b[0m \u001b[32m━━━━━━━━━━━━━━━━━━━━\u001b[0m\u001b[37m\u001b[0m \u001b[1m0s\u001b[0m 15ms/step\n",
      "next_ingredient : sweet vermouth, total_prob : 0.7049171344257604 , normalized_prob[next_ingredient_id] : 0.11522336635592402\n",
      "\u001b[1m1/1\u001b[0m \u001b[32m━━━━━━━━━━━━━━━━━━━━\u001b[0m\u001b[37m\u001b[0m \u001b[1m0s\u001b[0m 16ms/step\n",
      "next_ingredient : dry vermouth, total_prob : 0.8201405007816844 , normalized_prob[next_ingredient_id] : 0.10305851784317978\n",
      "\u001b[1m1/1\u001b[0m \u001b[32m━━━━━━━━━━━━━━━━━━━━\u001b[0m\u001b[37m\u001b[0m \u001b[1m0s\u001b[0m 14ms/step\n",
      "next_ingredient : brandy, total_prob : 0.9231990186248642 , normalized_prob[next_ingredient_id] : 0.10819925914064339\n",
      "(['green chartreuse', 'gin', 'orange bitters', 'bitters', 'lemon peel', 'sweet vermouth', 'dry vermouth', 'brandy'], [0.21704674106420827, 0.1578521753194242, 0.1578521753194242, 0.1578521753194242, 0.0035581432961345623, 0.05919456574478408, 0.05919456574478408, 0.18744945819181624])\n",
      "{\n",
      "    \"user_id\": 2,\n",
      "    \"ABV\": 58,\n",
      "    \"sweet\": 54,\n",
      "    \"sour\": 62,\n",
      "    \"bitter\": 29,\n",
      "    \"umami\": 45,\n",
      "    \"salty\": 58,\n",
      "    \"astringent\": 94,\n",
      "    \"Perceived_temperature\": 65,\n",
      "    \"spicy\": 41,\n",
      "    \"herbal\": 94,\n",
      "    \"floral\": 60,\n",
      "    \"fruity\": 96,\n",
      "    \"nutty\": 75,\n",
      "    \"creamy\": 70,\n",
      "    \"smoky\": 74\n",
      "}\n",
      "s : 0.5361790032624235, d : 0.8023206899899158, a : 0.7211066488174921, t : 0.4680359742150134\n",
      "user_seed : zima\n",
      "zima\n",
      "seed_ingredient : zima\n",
      "\u001b[1m1/1\u001b[0m \u001b[32m━━━━━━━━━━━━━━━━━━━━\u001b[0m\u001b[37m\u001b[0m \u001b[1m0s\u001b[0m 15ms/step\n",
      "next_ingredient : ice, total_prob : 0 , normalized_prob[next_ingredient_id] : 0.12734836236895958\n",
      "\u001b[1m1/1\u001b[0m \u001b[32m━━━━━━━━━━━━━━━━━━━━\u001b[0m\u001b[37m\u001b[0m \u001b[1m0s\u001b[0m 15ms/step\n",
      "next_ingredient : water, total_prob : 0.12734836236895958 , normalized_prob[next_ingredient_id] : 0.06779568507199865\n",
      "\u001b[1m1/1\u001b[0m \u001b[32m━━━━━━━━━━━━━━━━━━━━\u001b[0m\u001b[37m\u001b[0m \u001b[1m0s\u001b[0m 15ms/step\n",
      "next_ingredient : lemonade, total_prob : 0.19514404744095823 , normalized_prob[next_ingredient_id] : 0.08564802525415913\n",
      "\u001b[1m1/1\u001b[0m \u001b[32m━━━━━━━━━━━━━━━━━━━━\u001b[0m\u001b[37m\u001b[0m \u001b[1m0s\u001b[0m 15ms/step\n",
      "next_ingredient : orange juice, total_prob : 0.28079207269511736 , normalized_prob[next_ingredient_id] : 0.07241455362439636\n",
      "\u001b[1m1/1\u001b[0m \u001b[32m━━━━━━━━━━━━━━━━━━━━\u001b[0m\u001b[37m\u001b[0m \u001b[1m0s\u001b[0m 16ms/step\n",
      "next_ingredient : lime juice, total_prob : 0.3532066263195137 , normalized_prob[next_ingredient_id] : 0.08391024321938854\n",
      "\u001b[1m1/1\u001b[0m \u001b[32m━━━━━━━━━━━━━━━━━━━━\u001b[0m\u001b[37m\u001b[0m \u001b[1m0s\u001b[0m 17ms/step\n",
      "next_ingredient : sugar, total_prob : 0.4371168695389023 , normalized_prob[next_ingredient_id] : 0.07990762977953286\n",
      "\u001b[1m1/1\u001b[0m \u001b[32m━━━━━━━━━━━━━━━━━━━━\u001b[0m\u001b[37m\u001b[0m \u001b[1m0s\u001b[0m 16ms/step\n",
      "next_ingredient : salt, total_prob : 0.5170244993184352 , normalized_prob[next_ingredient_id] : 0.0767387065687861\n",
      "\u001b[1m1/1\u001b[0m \u001b[32m━━━━━━━━━━━━━━━━━━━━\u001b[0m\u001b[37m\u001b[0m \u001b[1m0s\u001b[0m 16ms/step\n",
      "next_ingredient : lemon juice, total_prob : 0.5937632058872213 , normalized_prob[next_ingredient_id] : 0.10550097627849724\n",
      "\u001b[1m1/1\u001b[0m \u001b[32m━━━━━━━━━━━━━━━━━━━━\u001b[0m\u001b[37m\u001b[0m \u001b[1m0s\u001b[0m 16ms/step\n",
      "next_ingredient : soda water, total_prob : 0.6992641821657185 , normalized_prob[next_ingredient_id] : 0.061049777434630075\n",
      "(['zima', 'ice', 'water', 'lemonade', 'orange juice', 'lime juice', 'sugar', 'salt', 'lemon juice', 'soda water'], [0.43925233644859807, 0.062305295950155756, 0.062305295950155756, 0.062305295950155756, 0.062305295950155756, 0.062305295950155756, 0.062305295950155756, 0.062305295950155756, 0.062305295950155756, 0.062305295950155756])\n",
      "{\n",
      "    \"user_id\": 3,\n",
      "    \"ABV\": 2,\n",
      "    \"sweet\": 30,\n",
      "    \"sour\": 8,\n",
      "    \"bitter\": 71,\n",
      "    \"umami\": 78,\n",
      "    \"salty\": 5,\n",
      "    \"astringent\": 76,\n",
      "    \"Perceived_temperature\": 6,\n",
      "    \"spicy\": 89,\n",
      "    \"herbal\": 91,\n",
      "    \"floral\": 2,\n",
      "    \"fruity\": 25,\n",
      "    \"nutty\": 86,\n",
      "    \"creamy\": 60,\n",
      "    \"smoky\": 81\n",
      "}\n",
      "s : 0.9130490880897643, d : 0.802886347107438, a : 0.8960836671117047, t : 0.5173342234089898\n",
      "user_seed : whiskey\n",
      "whiskey\n",
      "seed_ingredient : whiskey\n",
      "\u001b[1m1/1\u001b[0m \u001b[32m━━━━━━━━━━━━━━━━━━━━\u001b[0m\u001b[37m\u001b[0m \u001b[1m0s\u001b[0m 17ms/step\n",
      "next_ingredient : gin, total_prob : 0 , normalized_prob[next_ingredient_id] : 0.1078195930220956\n",
      "\u001b[1m1/1\u001b[0m \u001b[32m━━━━━━━━━━━━━━━━━━━━\u001b[0m\u001b[37m\u001b[0m \u001b[1m0s\u001b[0m 15ms/step\n",
      "next_ingredient : triple sec, total_prob : 0.1078195930220956 , normalized_prob[next_ingredient_id] : 0.11829262638321401\n",
      "\u001b[1m1/1\u001b[0m \u001b[32m━━━━━━━━━━━━━━━━━━━━\u001b[0m\u001b[37m\u001b[0m \u001b[1m0s\u001b[0m 16ms/step\n",
      "next_ingredient : angostura bitters, total_prob : 0.22611221940530962 , normalized_prob[next_ingredient_id] : 0.08529004053311276\n",
      "\u001b[1m1/1\u001b[0m \u001b[32m━━━━━━━━━━━━━━━━━━━━\u001b[0m\u001b[37m\u001b[0m \u001b[1m0s\u001b[0m 16ms/step\n",
      "next_ingredient : bitters, total_prob : 0.3114022599384224 , normalized_prob[next_ingredient_id] : 0.11352518861093827\n",
      "\u001b[1m1/1\u001b[0m \u001b[32m━━━━━━━━━━━━━━━━━━━━\u001b[0m\u001b[37m\u001b[0m \u001b[1m0s\u001b[0m 15ms/step\n",
      "next_ingredient : lemon peel, total_prob : 0.4249274485493607 , normalized_prob[next_ingredient_id] : 0.06759922283539448\n",
      "\u001b[1m1/1\u001b[0m \u001b[32m━━━━━━━━━━━━━━━━━━━━\u001b[0m\u001b[37m\u001b[0m \u001b[1m0s\u001b[0m 17ms/step\n",
      "next_ingredient : brandy, total_prob : 0.4925266713847552 , normalized_prob[next_ingredient_id] : 0.07054612158847948\n",
      "\u001b[1m1/1\u001b[0m \u001b[32m━━━━━━━━━━━━━━━━━━━━\u001b[0m\u001b[37m\u001b[0m \u001b[1m0s\u001b[0m 15ms/step\n",
      "next_ingredient : vodka, total_prob : 0.5630727929732346 , normalized_prob[next_ingredient_id] : 0.07919959795367336\n",
      "\u001b[1m1/1\u001b[0m \u001b[32m━━━━━━━━━━━━━━━━━━━━\u001b[0m\u001b[37m\u001b[0m \u001b[1m0s\u001b[0m 15ms/step\n",
      "next_ingredient : water, total_prob : 0.642272390926908 , normalized_prob[next_ingredient_id] : 0.0528738899668228\n",
      "\u001b[1m1/1\u001b[0m \u001b[32m━━━━━━━━━━━━━━━━━━━━\u001b[0m\u001b[37m\u001b[0m \u001b[1m0s\u001b[0m 16ms/step\n",
      "next_ingredient : pisco, total_prob : 0.6951462808937309 , normalized_prob[next_ingredient_id] : 0.07362642311663171\n",
      "(['whiskey', 'gin', 'triple sec', 'angostura bitters', 'bitters', 'lemon peel', 'brandy', 'vodka', 'water', 'pisco'], [0.11953886975394916, 0.11953886975394916, 0.10459651103470553, 0.1335846869500382, 0.11953886975394916, 0.0028677254107639318, 0.14195240783281465, 0.11953886975394916, 0.0028677254107639318, 0.13597546434511718])\n",
      "{\n",
      "    \"user_id\": 4,\n",
      "    \"ABV\": 45,\n",
      "    \"sweet\": 22,\n",
      "    \"sour\": 54,\n",
      "    \"bitter\": 99,\n",
      "    \"umami\": 21,\n",
      "    \"salty\": 10,\n",
      "    \"astringent\": 20,\n",
      "    \"Perceived_temperature\": 3,\n",
      "    \"spicy\": 31,\n",
      "    \"herbal\": 47,\n",
      "    \"floral\": 66,\n",
      "    \"fruity\": 82,\n",
      "    \"nutty\": 18,\n",
      "    \"creamy\": 91,\n",
      "    \"smoky\": 97\n",
      "}\n",
      "s : 0.4711322300802692, d : 0.8028940165289256, a : 0.9265622073896851, t : 0.5922656475388663\n",
      "Model does not meet the threshold criteria.\n"
     ]
    },
    {
     "data": {
      "application/vnd.jupyter.widget-view+json": {
       "model_id": "d77dc193b76544e48ec9f5f0a1f28d4c",
       "version_major": 2,
       "version_minor": 0
      },
      "text/plain": [
       "VBox(children=(Label(value='0.001 MB of 0.001 MB uploaded\\r'), FloatProgress(value=1.0, max=1.0)))"
      ]
     },
     "metadata": {},
     "output_type": "display_data"
    },
    {
     "data": {
      "text/html": [
       "<style>\n",
       "    table.wandb td:nth-child(1) { padding: 0 10px; text-align: left ; width: auto;} td:nth-child(2) {text-align: left ; width: 100%}\n",
       "    .wandb-row { display: flex; flex-direction: row; flex-wrap: wrap; justify-content: flex-start; width: 100% }\n",
       "    .wandb-col { display: flex; flex-direction: column; flex-basis: 100%; flex: 1; padding: 10px; }\n",
       "    </style>\n",
       "<div class=\"wandb-row\"><div class=\"wandb-col\"><h3>Run history:</h3><br/><table class=\"wandb\"><tr><td>ABV</td><td>▁▄█▁█</td></tr><tr><td>Perceived_temperature</td><td>▁▃▇▁█</td></tr><tr><td>abv_match</td><td>▁</td></tr><tr><td>accuracy</td><td>▁▃▃▃▃▃▄▄▄▅▅▅▆▆▇▇▇▇▇█</td></tr><tr><td>astringent</td><td>▅▁█▄▁</td></tr><tr><td>avg_ingredient_count</td><td>▁</td></tr><tr><td>bitter</td><td>▂▄█▁▅</td></tr><tr><td>boozy</td><td>▂▄█▁█</td></tr><tr><td>creamy</td><td>▁█▁▁▁</td></tr><tr><td>diversity</td><td>▁</td></tr><tr><td>epoch</td><td>▁▁▁▁▁▁▁▁▁▁▁▁▁▁▁▁▁▁▁▁</td></tr><tr><td>floral</td><td>▆██▁▂</td></tr><tr><td>fruity</td><td>█▁▃▄▃</td></tr><tr><td>herbal</td><td>▁▃█▁▅</td></tr><tr><td>ingredient_count_0</td><td>▁</td></tr><tr><td>ingredient_count_1</td><td>▁</td></tr><tr><td>ingredient_count_2</td><td>▁</td></tr><tr><td>ingredient_count_3</td><td>▁</td></tr><tr><td>ingredient_count_4</td><td>▁</td></tr><tr><td>loss</td><td>█▅▅▅▅▄▄▄▄▃▃▃▃▂▂▂▂▁▁▁</td></tr><tr><td>nutty</td><td>▁█▁▁▁</td></tr><tr><td>performance</td><td>▁</td></tr><tr><td>salty</td><td>█▁▄▆▁</td></tr><tr><td>similarity</td><td>▁</td></tr><tr><td>smoky</td><td>▅▅▆▁█</td></tr><tr><td>sour</td><td>█▁▅▆▃</td></tr><tr><td>spicy</td><td>▁▁▁▁▁</td></tr><tr><td>sweet</td><td>▅█▂▇▁</td></tr><tr><td>taste_match</td><td>▁</td></tr><tr><td>umami</td><td>▁▃▆▂█</td></tr></table><br/></div><div class=\"wandb-col\"><h3>Run summary:</h3><br/><table class=\"wandb\"><tr><td>ABV</td><td>41.68796</td></tr><tr><td>Perceived_temperature</td><td>32.41653</td></tr><tr><td>abv_match</td><td>0.79474</td></tr><tr><td>accuracy</td><td>0.1455</td></tr><tr><td>astringent</td><td>0.02868</td></tr><tr><td>avg_ingredient_count</td><td>8.4</td></tr><tr><td>bitter</td><td>27.73238</td></tr><tr><td>boozy</td><td>67.21671</td></tr><tr><td>creamy</td><td>0.0</td></tr><tr><td>diversity</td><td>0.80243</td></tr><tr><td>epoch</td><td>200</td></tr><tr><td>floral</td><td>2.20664</td></tr><tr><td>fruity</td><td>16.33435</td></tr><tr><td>herbal</td><td>21.94912</td></tr><tr><td>ingredient_count_0</td><td>10</td></tr><tr><td>ingredient_count_1</td><td>4</td></tr><tr><td>ingredient_count_2</td><td>8</td></tr><tr><td>ingredient_count_3</td><td>10</td></tr><tr><td>ingredient_count_4</td><td>10</td></tr><tr><td>loss</td><td>3.96237</td></tr><tr><td>nutty</td><td>0.0</td></tr><tr><td>performance</td><td>2.196</td></tr><tr><td>salty</td><td>0.0</td></tr><tr><td>similarity</td><td>0.68669</td></tr><tr><td>smoky</td><td>5.00569</td></tr><tr><td>sour</td><td>10.35201</td></tr><tr><td>spicy</td><td>0.0</td></tr><tr><td>sweet</td><td>16.51309</td></tr><tr><td>taste_match</td><td>0.59883</td></tr><tr><td>umami</td><td>16.46648</td></tr></table><br/></div></div>"
      ],
      "text/plain": [
       "<IPython.core.display.HTML object>"
      ]
     },
     "metadata": {},
     "output_type": "display_data"
    },
    {
     "data": {
      "text/html": [
       " View run <strong style=\"color:#cdcd00\">denim-sweep-6</strong> at: <a href='https://wandb.ai/jennyshin_gist_2024/cocktail_recipe_generation_v3_random_seed/runs/cfsfr1kn' target=\"_blank\">https://wandb.ai/jennyshin_gist_2024/cocktail_recipe_generation_v3_random_seed/runs/cfsfr1kn</a><br/> View project at: <a href='https://wandb.ai/jennyshin_gist_2024/cocktail_recipe_generation_v3_random_seed' target=\"_blank\">https://wandb.ai/jennyshin_gist_2024/cocktail_recipe_generation_v3_random_seed</a><br/>Synced 6 W&B file(s), 0 media file(s), 0 artifact file(s) and 0 other file(s)"
      ],
      "text/plain": [
       "<IPython.core.display.HTML object>"
      ]
     },
     "metadata": {},
     "output_type": "display_data"
    },
    {
     "data": {
      "text/html": [
       "Find logs at: <code>.\\wandb\\run-20240605_215428-cfsfr1kn\\logs</code>"
      ],
      "text/plain": [
       "<IPython.core.display.HTML object>"
      ]
     },
     "metadata": {},
     "output_type": "display_data"
    },
    {
     "name": "stderr",
     "output_type": "stream",
     "text": [
      "\u001b[34m\u001b[1mwandb\u001b[0m: Agent Starting Run: vh6skxcn with config:\n",
      "\u001b[34m\u001b[1mwandb\u001b[0m: \tbatch_size: 32\n",
      "\u001b[34m\u001b[1mwandb\u001b[0m: \tepochs: 200\n",
      "\u001b[34m\u001b[1mwandb\u001b[0m: \thidden_units: 64\n",
      "\u001b[34m\u001b[1mwandb\u001b[0m: \tlr: 1.0496623055387293\n",
      "\u001b[34m\u001b[1mwandb\u001b[0m: \toptimizer: sgd\n",
      "Failed to detect the name of this notebook, you can set it manually with the WANDB_NOTEBOOK_NAME environment variable to enable code saving.\n",
      "\u001b[34m\u001b[1mwandb\u001b[0m: \u001b[33mWARNING\u001b[0m Ignored wandb.init() arg project when running a sweep.\n"
     ]
    },
    {
     "data": {
      "application/vnd.jupyter.widget-view+json": {
       "model_id": "903ed4d507ab4e90b269603c0dc36a47",
       "version_major": 2,
       "version_minor": 0
      },
      "text/plain": [
       "VBox(children=(Label(value='Waiting for wandb.init()...\\r'), FloatProgress(value=0.011111111111111112, max=1.0…"
      ]
     },
     "metadata": {},
     "output_type": "display_data"
    },
    {
     "data": {
      "text/html": [
       "Tracking run with wandb version 0.17.0"
      ],
      "text/plain": [
       "<IPython.core.display.HTML object>"
      ]
     },
     "metadata": {},
     "output_type": "display_data"
    },
    {
     "data": {
      "text/html": [
       "Run data is saved locally in <code>d:\\CODE\\feelflask_master\\backend\\data_works\\wandb\\run-20240605_215722-vh6skxcn</code>"
      ],
      "text/plain": [
       "<IPython.core.display.HTML object>"
      ]
     },
     "metadata": {},
     "output_type": "display_data"
    },
    {
     "data": {
      "text/html": [
       "Syncing run <strong><a href='https://wandb.ai/jennyshin_gist_2024/cocktail_recipe_generation_v3_random_seed/runs/vh6skxcn' target=\"_blank\">stellar-sweep-7</a></strong> to <a href='https://wandb.ai/jennyshin_gist_2024/cocktail_recipe_generation_v3_random_seed' target=\"_blank\">Weights & Biases</a> (<a href='https://wandb.me/run' target=\"_blank\">docs</a>)<br/>Sweep page: <a href='https://wandb.ai/jennyshin_gist_2024/cocktail_recipe_generation_v3_random_seed/sweeps/eeqk6rdo' target=\"_blank\">https://wandb.ai/jennyshin_gist_2024/cocktail_recipe_generation_v3_random_seed/sweeps/eeqk6rdo</a>"
      ],
      "text/plain": [
       "<IPython.core.display.HTML object>"
      ]
     },
     "metadata": {},
     "output_type": "display_data"
    },
    {
     "data": {
      "text/html": [
       " View project at <a href='https://wandb.ai/jennyshin_gist_2024/cocktail_recipe_generation_v3_random_seed' target=\"_blank\">https://wandb.ai/jennyshin_gist_2024/cocktail_recipe_generation_v3_random_seed</a>"
      ],
      "text/plain": [
       "<IPython.core.display.HTML object>"
      ]
     },
     "metadata": {},
     "output_type": "display_data"
    },
    {
     "data": {
      "text/html": [
       " View sweep at <a href='https://wandb.ai/jennyshin_gist_2024/cocktail_recipe_generation_v3_random_seed/sweeps/eeqk6rdo' target=\"_blank\">https://wandb.ai/jennyshin_gist_2024/cocktail_recipe_generation_v3_random_seed/sweeps/eeqk6rdo</a>"
      ],
      "text/plain": [
       "<IPython.core.display.HTML object>"
      ]
     },
     "metadata": {},
     "output_type": "display_data"
    },
    {
     "data": {
      "text/html": [
       " View run at <a href='https://wandb.ai/jennyshin_gist_2024/cocktail_recipe_generation_v3_random_seed/runs/vh6skxcn' target=\"_blank\">https://wandb.ai/jennyshin_gist_2024/cocktail_recipe_generation_v3_random_seed/runs/vh6skxcn</a>"
      ],
      "text/plain": [
       "<IPython.core.display.HTML object>"
      ]
     },
     "metadata": {},
     "output_type": "display_data"
    },
    {
     "name": "stdout",
     "output_type": "stream",
     "text": [
      "user_seed : red wine\n",
      "red wine\n",
      "seed_ingredient : red wine\n",
      "\u001b[1m1/1\u001b[0m \u001b[32m━━━━━━━━━━━━━━━━━━━━\u001b[0m\u001b[37m\u001b[0m \u001b[1m0s\u001b[0m 271ms/step\n",
      "next_ingredient : sugar, total_prob : 0 , normalized_prob[next_ingredient_id] : 0.13690639467368607\n",
      "\u001b[1m1/1\u001b[0m \u001b[32m━━━━━━━━━━━━━━━━━━━━\u001b[0m\u001b[37m\u001b[0m \u001b[1m0s\u001b[0m 16ms/step\n",
      "next_ingredient : water, total_prob : 0.13690639467368607 , normalized_prob[next_ingredient_id] : 0.11615199016383498\n",
      "\u001b[1m1/1\u001b[0m \u001b[32m━━━━━━━━━━━━━━━━━━━━\u001b[0m\u001b[37m\u001b[0m \u001b[1m0s\u001b[0m 16ms/step\n",
      "next_ingredient : orange, total_prob : 0.2530583848375211 , normalized_prob[next_ingredient_id] : 0.06877323700349273\n",
      "\u001b[1m1/1\u001b[0m \u001b[32m━━━━━━━━━━━━━━━━━━━━\u001b[0m\u001b[37m\u001b[0m \u001b[1m0s\u001b[0m 15ms/step\n",
      "next_ingredient : maraschino cherry, total_prob : 0.3218316218410138 , normalized_prob[next_ingredient_id] : 0.17382495585419422\n",
      "\u001b[1m1/1\u001b[0m \u001b[32m━━━━━━━━━━━━━━━━━━━━\u001b[0m\u001b[37m\u001b[0m \u001b[1m0s\u001b[0m 16ms/step\n",
      "next_ingredient : lemon juice, total_prob : 0.49565657769520804 , normalized_prob[next_ingredient_id] : 0.14409096786640493\n",
      "\u001b[1m1/1\u001b[0m \u001b[32m━━━━━━━━━━━━━━━━━━━━\u001b[0m\u001b[37m\u001b[0m \u001b[1m0s\u001b[0m 17ms/step\n",
      "next_ingredient : ginger ale, total_prob : 0.639747545561613 , normalized_prob[next_ingredient_id] : 0.08535125281498013\n",
      "\u001b[1m1/1\u001b[0m \u001b[32m━━━━━━━━━━━━━━━━━━━━\u001b[0m\u001b[37m\u001b[0m \u001b[1m0s\u001b[0m 15ms/step\n",
      "next_ingredient : ice, total_prob : 0.7250987983765931 , normalized_prob[next_ingredient_id] : 0.13915533536890073\n",
      "\u001b[1m1/1\u001b[0m \u001b[32m━━━━━━━━━━━━━━━━━━━━\u001b[0m\u001b[37m\u001b[0m \u001b[1m0s\u001b[0m 15ms/step\n",
      "next_ingredient : orange juice, total_prob : 0.8642541337454939 , normalized_prob[next_ingredient_id] : 0.06315528734610926\n",
      "\u001b[1m1/1\u001b[0m \u001b[32m━━━━━━━━━━━━━━━━━━━━\u001b[0m\u001b[37m\u001b[0m \u001b[1m0s\u001b[0m 16ms/step\n",
      "next_ingredient : sweet and sour, total_prob : 0.9274094210916031 , normalized_prob[next_ingredient_id] : 0.16602879097522122\n",
      "(['red wine', 'sugar', 'water', 'orange', 'maraschino cherry', 'lemon juice', 'ginger ale', 'ice', 'orange juice', 'sweet and sour'], [0.15492957746478872, 0.08873239436619719, 0.08873239436619719, 0.08873239436619719, 0.13521126760563376, 0.08873239436619719, 0.08873239436619719, 0.08873239436619719, 0.08873239436619719, 0.08873239436619719])\n",
      "{\n",
      "    \"user_id\": 0,\n",
      "    \"ABV\": 7,\n",
      "    \"sweet\": 36,\n",
      "    \"sour\": 70,\n",
      "    \"bitter\": 6,\n",
      "    \"umami\": 38,\n",
      "    \"salty\": 50,\n",
      "    \"astringent\": 65,\n",
      "    \"Perceived_temperature\": 13,\n",
      "    \"spicy\": 22,\n",
      "    \"herbal\": 24,\n",
      "    \"floral\": 27,\n",
      "    \"fruity\": 35,\n",
      "    \"nutty\": 13,\n",
      "    \"creamy\": 70,\n",
      "    \"smoky\": 19\n",
      "}\n",
      "s : 0.6265695802046123, d : 0.8028884628099173, a : 0.5426502678040072, t : 0.7404527162977868\n",
      "user_seed : erin cream\n",
      "erin cream\n",
      "seed_ingredient : erin cream\n",
      "\u001b[1m1/1\u001b[0m \u001b[32m━━━━━━━━━━━━━━━━━━━━\u001b[0m\u001b[37m\u001b[0m \u001b[1m0s\u001b[0m 15ms/step\n",
      "next_ingredient : kahlua, total_prob : 0 , normalized_prob[next_ingredient_id] : 0.23905027293108688\n",
      "\u001b[1m1/1\u001b[0m \u001b[32m━━━━━━━━━━━━━━━━━━━━\u001b[0m\u001b[37m\u001b[0m \u001b[1m0s\u001b[0m 15ms/step\n",
      "next_ingredient : baileys irish cream, total_prob : 0.23905027293108688 , normalized_prob[next_ingredient_id] : 0.23266110061895806\n",
      "\u001b[1m1/1\u001b[0m \u001b[32m━━━━━━━━━━━━━━━━━━━━\u001b[0m\u001b[37m\u001b[0m \u001b[1m0s\u001b[0m 14ms/step\n",
      "next_ingredient : frangelico, total_prob : 0.47171137355004494 , normalized_prob[next_ingredient_id] : 0.20188666808221012\n",
      "\u001b[1m1/1\u001b[0m \u001b[32m━━━━━━━━━━━━━━━━━━━━\u001b[0m\u001b[37m\u001b[0m \u001b[1m0s\u001b[0m 15ms/step\n",
      "next_ingredient : midori melon liqueur, total_prob : 0.6735980416322551 , normalized_prob[next_ingredient_id] : 0.11200932773481911\n",
      "\u001b[1m1/1\u001b[0m \u001b[32m━━━━━━━━━━━━━━━━━━━━\u001b[0m\u001b[37m\u001b[0m \u001b[1m0s\u001b[0m 16ms/step\n",
      "next_ingredient : malibu rum, total_prob : 0.7856073693670742 , normalized_prob[next_ingredient_id] : 0.22536346144486227\n",
      "(['erin cream', 'kahlua', 'baileys irish cream', 'frangelico', 'midori melon liqueur', 'malibu rum'], [0.14782608695652172, 0.17391304347826084, 0.14782608695652172, 0.17391304347826084, 0.17391304347826084, 0.18260869565217389])\n",
      "{\n",
      "    \"user_id\": 1,\n",
      "    \"ABV\": 21,\n",
      "    \"sweet\": 18,\n",
      "    \"sour\": 46,\n",
      "    \"bitter\": 16,\n",
      "    \"umami\": 41,\n",
      "    \"salty\": 80,\n",
      "    \"astringent\": 5,\n",
      "    \"Perceived_temperature\": 6,\n",
      "    \"spicy\": 20,\n",
      "    \"herbal\": 6,\n",
      "    \"floral\": 46,\n",
      "    \"fruity\": 62,\n",
      "    \"nutty\": 2,\n",
      "    \"creamy\": 99,\n",
      "    \"smoky\": 42\n",
      "}\n",
      "s : 0.6986112535890615, d : 0.8017440564448212, a : 0.9192252215124664, t : 0.6879192546583851\n",
      "user_seed : maraschino liqueur\n",
      "maraschino liqueur\n",
      "seed_ingredient : maraschino liqueur\n",
      "\u001b[1m1/1\u001b[0m \u001b[32m━━━━━━━━━━━━━━━━━━━━\u001b[0m\u001b[37m\u001b[0m \u001b[1m0s\u001b[0m 16ms/step\n",
      "next_ingredient : gin, total_prob : 0 , normalized_prob[next_ingredient_id] : 0.216988207581695\n",
      "\u001b[1m1/1\u001b[0m \u001b[32m━━━━━━━━━━━━━━━━━━━━\u001b[0m\u001b[37m\u001b[0m \u001b[1m0s\u001b[0m 16ms/step\n",
      "next_ingredient : orange bitters, total_prob : 0.216988207581695 , normalized_prob[next_ingredient_id] : 0.14945733372211195\n",
      "\u001b[1m1/1\u001b[0m \u001b[32m━━━━━━━━━━━━━━━━━━━━\u001b[0m\u001b[37m\u001b[0m \u001b[1m0s\u001b[0m 14ms/step\n",
      "next_ingredient : bitters, total_prob : 0.3664455413038069 , normalized_prob[next_ingredient_id] : 0.14962856205037753\n",
      "\u001b[1m1/1\u001b[0m \u001b[32m━━━━━━━━━━━━━━━━━━━━\u001b[0m\u001b[37m\u001b[0m \u001b[1m0s\u001b[0m 15ms/step\n",
      "next_ingredient : lemon peel, total_prob : 0.5160741033541845 , normalized_prob[next_ingredient_id] : 0.15490440622393933\n",
      "\u001b[1m1/1\u001b[0m \u001b[32m━━━━━━━━━━━━━━━━━━━━\u001b[0m\u001b[37m\u001b[0m \u001b[1m0s\u001b[0m 15ms/step\n",
      "next_ingredient : light rum, total_prob : 0.6709785095781238 , normalized_prob[next_ingredient_id] : 0.12420713582442071\n",
      "\u001b[1m1/1\u001b[0m \u001b[32m━━━━━━━━━━━━━━━━━━━━\u001b[0m\u001b[37m\u001b[0m \u001b[1m0s\u001b[0m 16ms/step\n",
      "next_ingredient : brandy, total_prob : 0.7951856454025444 , normalized_prob[next_ingredient_id] : 0.1502500034150254\n",
      "\u001b[1m1/1\u001b[0m \u001b[32m━━━━━━━━━━━━━━━━━━━━\u001b[0m\u001b[37m\u001b[0m \u001b[1m0s\u001b[0m 15ms/step\n",
      "next_ingredient : carbonated water, total_prob : 0.9454356488175698 , normalized_prob[next_ingredient_id] : 0.097416805583929\n",
      "(['maraschino liqueur', 'gin', 'orange bitters', 'bitters', 'lemon peel', 'light rum', 'brandy', 'carbonated water'], [0.1326283578331687, 0.16578544729146086, 0.16578544729146086, 0.16578544729146086, 0.003679817171188968, 0.16578544729146086, 0.1968702186586098, 0.003679817171188968])\n",
      "{\n",
      "    \"user_id\": 2,\n",
      "    \"ABV\": 58,\n",
      "    \"sweet\": 54,\n",
      "    \"sour\": 62,\n",
      "    \"bitter\": 29,\n",
      "    \"umami\": 45,\n",
      "    \"salty\": 58,\n",
      "    \"astringent\": 94,\n",
      "    \"Perceived_temperature\": 65,\n",
      "    \"spicy\": 41,\n",
      "    \"herbal\": 94,\n",
      "    \"floral\": 60,\n",
      "    \"fruity\": 96,\n",
      "    \"nutty\": 75,\n",
      "    \"creamy\": 70,\n",
      "    \"smoky\": 74\n",
      "}\n",
      "s : 0.5739200060715567, d : 0.8023198942884014, a : 0.6922739140030829, t : 0.46747709797997394\n",
      "user_seed : lager\n",
      "lager\n",
      "seed_ingredient : lager\n",
      "\u001b[1m1/1\u001b[0m \u001b[32m━━━━━━━━━━━━━━━━━━━━\u001b[0m\u001b[37m\u001b[0m \u001b[1m0s\u001b[0m 15ms/step\n",
      "next_ingredient : orange juice, total_prob : 0 , normalized_prob[next_ingredient_id] : 0.06544863706292198\n",
      "\u001b[1m1/1\u001b[0m \u001b[32m━━━━━━━━━━━━━━━━━━━━\u001b[0m\u001b[37m\u001b[0m \u001b[1m0s\u001b[0m 15ms/step\n",
      "next_ingredient : ice, total_prob : 0.06544863706292198 , normalized_prob[next_ingredient_id] : 0.07373997408251676\n",
      "\u001b[1m1/1\u001b[0m \u001b[32m━━━━━━━━━━━━━━━━━━━━\u001b[0m\u001b[37m\u001b[0m \u001b[1m0s\u001b[0m 15ms/step\n",
      "next_ingredient : sugar, total_prob : 0.13918861114543873 , normalized_prob[next_ingredient_id] : 0.16331045760589172\n",
      "\u001b[1m1/1\u001b[0m \u001b[32m━━━━━━━━━━━━━━━━━━━━\u001b[0m\u001b[37m\u001b[0m \u001b[1m0s\u001b[0m 15ms/step\n",
      "next_ingredient : salt, total_prob : 0.3024990687513305 , normalized_prob[next_ingredient_id] : 0.10347887132193173\n",
      "\u001b[1m1/1\u001b[0m \u001b[32m━━━━━━━━━━━━━━━━━━━━\u001b[0m\u001b[37m\u001b[0m \u001b[1m0s\u001b[0m 15ms/step\n",
      "next_ingredient : ginger ale, total_prob : 0.4059779400732622 , normalized_prob[next_ingredient_id] : 0.07557959731695486\n",
      "\u001b[1m1/1\u001b[0m \u001b[32m━━━━━━━━━━━━━━━━━━━━\u001b[0m\u001b[37m\u001b[0m \u001b[1m0s\u001b[0m 15ms/step\n",
      "next_ingredient : lemon juice, total_prob : 0.48155753739021706 , normalized_prob[next_ingredient_id] : 0.08010611559913443\n",
      "\u001b[1m1/1\u001b[0m \u001b[32m━━━━━━━━━━━━━━━━━━━━\u001b[0m\u001b[37m\u001b[0m \u001b[1m0s\u001b[0m 16ms/step\n",
      "next_ingredient : soda water, total_prob : 0.5616636529893515 , normalized_prob[next_ingredient_id] : 0.0537509239706925\n",
      "\u001b[1m1/1\u001b[0m \u001b[32m━━━━━━━━━━━━━━━━━━━━\u001b[0m\u001b[37m\u001b[0m \u001b[1m0s\u001b[0m 15ms/step\n",
      "next_ingredient : lime juice, total_prob : 0.615414576960044 , normalized_prob[next_ingredient_id] : 0.06086571371699656\n",
      "\u001b[1m1/1\u001b[0m \u001b[32m━━━━━━━━━━━━━━━━━━━━\u001b[0m\u001b[37m\u001b[0m \u001b[1m0s\u001b[0m 14ms/step\n",
      "next_ingredient : lemon peel, total_prob : 0.6762802906770405 , normalized_prob[next_ingredient_id] : 0.09791824008233914\n",
      "(['lager', 'orange juice', 'ice', 'sugar', 'salt', 'ginger ale', 'lemon juice', 'soda water', 'lime juice', 'lemon peel'], [0.3769230769230771, 0.06923076923076925, 0.06923076923076925, 0.06923076923076925, 0.06923076923076925, 0.06923076923076925, 0.06923076923076925, 0.06923076923076925, 0.06923076923076925, 0.06923076923076925])\n",
      "{\n",
      "    \"user_id\": 3,\n",
      "    \"ABV\": 2,\n",
      "    \"sweet\": 30,\n",
      "    \"sour\": 8,\n",
      "    \"bitter\": 71,\n",
      "    \"umami\": 78,\n",
      "    \"salty\": 5,\n",
      "    \"astringent\": 76,\n",
      "    \"Perceived_temperature\": 6,\n",
      "    \"spicy\": 89,\n",
      "    \"herbal\": 91,\n",
      "    \"floral\": 2,\n",
      "    \"fruity\": 25,\n",
      "    \"nutty\": 86,\n",
      "    \"creamy\": 60,\n",
      "    \"smoky\": 81\n",
      "}\n",
      "s : 0.8756631415003349, d : 0.802886347107438, a : 0.9450549450549455, t : 0.5346153846153846\n",
      "user_seed : drambuie\n",
      "drambuie\n",
      "seed_ingredient : drambuie\n",
      "\u001b[1m1/1\u001b[0m \u001b[32m━━━━━━━━━━━━━━━━━━━━\u001b[0m\u001b[37m\u001b[0m \u001b[1m0s\u001b[0m 15ms/step\n",
      "next_ingredient : gin, total_prob : 0 , normalized_prob[next_ingredient_id] : 0.18298256574769278\n",
      "\u001b[1m1/1\u001b[0m \u001b[32m━━━━━━━━━━━━━━━━━━━━\u001b[0m\u001b[37m\u001b[0m \u001b[1m0s\u001b[0m 22ms/step\n",
      "next_ingredient : brandy, total_prob : 0.18298256574769278 , normalized_prob[next_ingredient_id] : 0.09707863900258865\n",
      "\u001b[1m1/1\u001b[0m \u001b[32m━━━━━━━━━━━━━━━━━━━━\u001b[0m\u001b[37m\u001b[0m \u001b[1m0s\u001b[0m 16ms/step\n",
      "next_ingredient : triple sec, total_prob : 0.2800612047502814 , normalized_prob[next_ingredient_id] : 0.10443509778690122\n",
      "\u001b[1m1/1\u001b[0m \u001b[32m━━━━━━━━━━━━━━━━━━━━\u001b[0m\u001b[37m\u001b[0m \u001b[1m0s\u001b[0m 15ms/step\n",
      "next_ingredient : lemon peel, total_prob : 0.3844963025371826 , normalized_prob[next_ingredient_id] : 0.1005729547100675\n",
      "\u001b[1m1/1\u001b[0m \u001b[32m━━━━━━━━━━━━━━━━━━━━\u001b[0m\u001b[37m\u001b[0m \u001b[1m0s\u001b[0m 15ms/step\n",
      "next_ingredient : angostura bitters, total_prob : 0.4850692572472501 , normalized_prob[next_ingredient_id] : 0.17467021064458796\n",
      "\u001b[1m1/1\u001b[0m \u001b[32m━━━━━━━━━━━━━━━━━━━━\u001b[0m\u001b[37m\u001b[0m \u001b[1m0s\u001b[0m 15ms/step\n",
      "next_ingredient : light rum, total_prob : 0.659739467891838 , normalized_prob[next_ingredient_id] : 0.23383876025048697\n",
      "\u001b[1m1/1\u001b[0m \u001b[32m━━━━━━━━━━━━━━━━━━━━\u001b[0m\u001b[37m\u001b[0m \u001b[1m0s\u001b[0m 14ms/step\n",
      "next_ingredient : benedictine, total_prob : 0.893578228142325 , normalized_prob[next_ingredient_id] : 0.12273722333525044\n",
      "(['drambuie', 'gin', 'brandy', 'triple sec', 'lemon peel', 'angostura bitters', 'light rum', 'benedictine'], [0.13884653564917246, 0.13884653564917246, 0.16488026108339232, 0.12149071869302591, 0.0030818740389419123, 0.15516100358795024, 0.13884653564917246, 0.13884653564917246])\n",
      "{\n",
      "    \"user_id\": 4,\n",
      "    \"ABV\": 45,\n",
      "    \"sweet\": 22,\n",
      "    \"sour\": 54,\n",
      "    \"bitter\": 99,\n",
      "    \"umami\": 21,\n",
      "    \"salty\": 10,\n",
      "    \"astringent\": 20,\n",
      "    \"Perceived_temperature\": 3,\n",
      "    \"spicy\": 31,\n",
      "    \"herbal\": 47,\n",
      "    \"floral\": 66,\n",
      "    \"fruity\": 82,\n",
      "    \"nutty\": 18,\n",
      "    \"creamy\": 91,\n",
      "    \"smoky\": 97\n",
      "}\n",
      "s : 0.6044403701490325, d : 0.8023201595222396, a : 0.9165217321500222, t : 0.5970540203857857\n",
      "Model does not meet the threshold criteria.\n"
     ]
    },
    {
     "data": {
      "application/vnd.jupyter.widget-view+json": {
       "model_id": "ed2b473d806542a181f742a62c4d6c06",
       "version_major": 2,
       "version_minor": 0
      },
      "text/plain": [
       "VBox(children=(Label(value='0.001 MB of 0.001 MB uploaded\\r'), FloatProgress(value=1.0, max=1.0)))"
      ]
     },
     "metadata": {},
     "output_type": "display_data"
    },
    {
     "data": {
      "text/html": [
       "<style>\n",
       "    table.wandb td:nth-child(1) { padding: 0 10px; text-align: left ; width: auto;} td:nth-child(2) {text-align: left ; width: 100%}\n",
       "    .wandb-row { display: flex; flex-direction: row; flex-wrap: wrap; justify-content: flex-start; width: 100% }\n",
       "    .wandb-col { display: flex; flex-direction: column; flex-basis: 100%; flex: 1; padding: 10px; }\n",
       "    </style>\n",
       "<div class=\"wandb-row\"><div class=\"wandb-col\"><h3>Run history:</h3><br/><table class=\"wandb\"><tr><td>ABV</td><td>▁▄█▁█</td></tr><tr><td>Perceived_temperature</td><td>▁▃▇▁█</td></tr><tr><td>abv_match</td><td>▁</td></tr><tr><td>accuracy</td><td>▁▃▃▃▃▄▄▄▅▅▆▆▆▆▇▇▇███</td></tr><tr><td>astringent</td><td>▆▁▄█▁</td></tr><tr><td>avg_ingredient_count</td><td>▁</td></tr><tr><td>bitter</td><td>▁▃█▂▇</td></tr><tr><td>boozy</td><td>▂▅█▁█</td></tr><tr><td>creamy</td><td>▁█▁▂▁</td></tr><tr><td>diversity</td><td>▁</td></tr><tr><td>epoch</td><td>▁▁▁▁▁▁▁▁▁▁▁▁▁▁▁▁▁▁▁▁</td></tr><tr><td>floral</td><td>▃▄█▁▂</td></tr><tr><td>fruity</td><td>█▄▄▁▂</td></tr><tr><td>herbal</td><td>▁▃▅▂█</td></tr><tr><td>ingredient_count_0</td><td>▁</td></tr><tr><td>ingredient_count_1</td><td>▁</td></tr><tr><td>ingredient_count_2</td><td>▁</td></tr><tr><td>ingredient_count_3</td><td>▁</td></tr><tr><td>ingredient_count_4</td><td>▁</td></tr><tr><td>loss</td><td>█▅▅▅▅▅▄▄▃▃▃▃▂▂▂▂▂▁▁▁</td></tr><tr><td>nutty</td><td>▁█▁▁▁</td></tr><tr><td>performance</td><td>▁</td></tr><tr><td>salty</td><td>▇▂▁█▁</td></tr><tr><td>similarity</td><td>▁</td></tr><tr><td>smoky</td><td>▆▄▇▁█</td></tr><tr><td>sour</td><td>█▁▅▇▃</td></tr><tr><td>spicy</td><td>█▁▁▆▁</td></tr><tr><td>sweet</td><td>▅█▂▁▃</td></tr><tr><td>taste_match</td><td>▁</td></tr><tr><td>umami</td><td>▁▃▆▄█</td></tr></table><br/></div><div class=\"wandb-col\"><h3>Run summary:</h3><br/><table class=\"wandb\"><tr><td>ABV</td><td>41.23513</td></tr><tr><td>Perceived_temperature</td><td>32.90926</td></tr><tr><td>abv_match</td><td>0.80315</td></tr><tr><td>accuracy</td><td>0.1375</td></tr><tr><td>astringent</td><td>0.03082</td></tr><tr><td>avg_ingredient_count</td><td>8.4</td></tr><tr><td>bitter</td><td>30.81572</td></tr><tr><td>boozy</td><td>65.62929</td></tr><tr><td>creamy</td><td>1.38847</td></tr><tr><td>diversity</td><td>0.80243</td></tr><tr><td>epoch</td><td>200</td></tr><tr><td>floral</td><td>5.33002</td></tr><tr><td>fruity</td><td>15.6155</td></tr><tr><td>herbal</td><td>33.82259</td></tr><tr><td>ingredient_count_0</td><td>10</td></tr><tr><td>ingredient_count_1</td><td>6</td></tr><tr><td>ingredient_count_2</td><td>8</td></tr><tr><td>ingredient_count_3</td><td>10</td></tr><tr><td>ingredient_count_4</td><td>8</td></tr><tr><td>loss</td><td>3.89292</td></tr><tr><td>nutty</td><td>0.0</td></tr><tr><td>performance</td><td>2.21108</td></tr><tr><td>salty</td><td>0.0</td></tr><tr><td>similarity</td><td>0.67584</td></tr><tr><td>smoky</td><td>4.42573</td></tr><tr><td>sour</td><td>7.84619</td></tr><tr><td>spicy</td><td>0.0</td></tr><tr><td>sweet</td><td>34.45087</td></tr><tr><td>taste_match</td><td>0.6055</td></tr><tr><td>umami</td><td>14.96071</td></tr></table><br/></div></div>"
      ],
      "text/plain": [
       "<IPython.core.display.HTML object>"
      ]
     },
     "metadata": {},
     "output_type": "display_data"
    },
    {
     "data": {
      "text/html": [
       " View run <strong style=\"color:#cdcd00\">stellar-sweep-7</strong> at: <a href='https://wandb.ai/jennyshin_gist_2024/cocktail_recipe_generation_v3_random_seed/runs/vh6skxcn' target=\"_blank\">https://wandb.ai/jennyshin_gist_2024/cocktail_recipe_generation_v3_random_seed/runs/vh6skxcn</a><br/> View project at: <a href='https://wandb.ai/jennyshin_gist_2024/cocktail_recipe_generation_v3_random_seed' target=\"_blank\">https://wandb.ai/jennyshin_gist_2024/cocktail_recipe_generation_v3_random_seed</a><br/>Synced 6 W&B file(s), 0 media file(s), 0 artifact file(s) and 0 other file(s)"
      ],
      "text/plain": [
       "<IPython.core.display.HTML object>"
      ]
     },
     "metadata": {},
     "output_type": "display_data"
    },
    {
     "data": {
      "text/html": [
       "Find logs at: <code>.\\wandb\\run-20240605_215722-vh6skxcn\\logs</code>"
      ],
      "text/plain": [
       "<IPython.core.display.HTML object>"
      ]
     },
     "metadata": {},
     "output_type": "display_data"
    },
    {
     "name": "stderr",
     "output_type": "stream",
     "text": [
      "\u001b[34m\u001b[1mwandb\u001b[0m: Agent Starting Run: yz9b6t80 with config:\n",
      "\u001b[34m\u001b[1mwandb\u001b[0m: \tbatch_size: 16\n",
      "\u001b[34m\u001b[1mwandb\u001b[0m: \tepochs: 100\n",
      "\u001b[34m\u001b[1mwandb\u001b[0m: \thidden_units: 128\n",
      "\u001b[34m\u001b[1mwandb\u001b[0m: \tlr: 1.104126691765578\n",
      "\u001b[34m\u001b[1mwandb\u001b[0m: \toptimizer: sgd\n",
      "Failed to detect the name of this notebook, you can set it manually with the WANDB_NOTEBOOK_NAME environment variable to enable code saving.\n",
      "\u001b[34m\u001b[1mwandb\u001b[0m: \u001b[33mWARNING\u001b[0m Ignored wandb.init() arg project when running a sweep.\n"
     ]
    },
    {
     "data": {
      "text/html": [
       "Tracking run with wandb version 0.17.0"
      ],
      "text/plain": [
       "<IPython.core.display.HTML object>"
      ]
     },
     "metadata": {},
     "output_type": "display_data"
    },
    {
     "data": {
      "text/html": [
       "Run data is saved locally in <code>d:\\CODE\\feelflask_master\\backend\\data_works\\wandb\\run-20240605_220009-yz9b6t80</code>"
      ],
      "text/plain": [
       "<IPython.core.display.HTML object>"
      ]
     },
     "metadata": {},
     "output_type": "display_data"
    },
    {
     "data": {
      "text/html": [
       "Syncing run <strong><a href='https://wandb.ai/jennyshin_gist_2024/cocktail_recipe_generation_v3_random_seed/runs/yz9b6t80' target=\"_blank\">splendid-sweep-8</a></strong> to <a href='https://wandb.ai/jennyshin_gist_2024/cocktail_recipe_generation_v3_random_seed' target=\"_blank\">Weights & Biases</a> (<a href='https://wandb.me/run' target=\"_blank\">docs</a>)<br/>Sweep page: <a href='https://wandb.ai/jennyshin_gist_2024/cocktail_recipe_generation_v3_random_seed/sweeps/eeqk6rdo' target=\"_blank\">https://wandb.ai/jennyshin_gist_2024/cocktail_recipe_generation_v3_random_seed/sweeps/eeqk6rdo</a>"
      ],
      "text/plain": [
       "<IPython.core.display.HTML object>"
      ]
     },
     "metadata": {},
     "output_type": "display_data"
    },
    {
     "data": {
      "text/html": [
       " View project at <a href='https://wandb.ai/jennyshin_gist_2024/cocktail_recipe_generation_v3_random_seed' target=\"_blank\">https://wandb.ai/jennyshin_gist_2024/cocktail_recipe_generation_v3_random_seed</a>"
      ],
      "text/plain": [
       "<IPython.core.display.HTML object>"
      ]
     },
     "metadata": {},
     "output_type": "display_data"
    },
    {
     "data": {
      "text/html": [
       " View sweep at <a href='https://wandb.ai/jennyshin_gist_2024/cocktail_recipe_generation_v3_random_seed/sweeps/eeqk6rdo' target=\"_blank\">https://wandb.ai/jennyshin_gist_2024/cocktail_recipe_generation_v3_random_seed/sweeps/eeqk6rdo</a>"
      ],
      "text/plain": [
       "<IPython.core.display.HTML object>"
      ]
     },
     "metadata": {},
     "output_type": "display_data"
    },
    {
     "data": {
      "text/html": [
       " View run at <a href='https://wandb.ai/jennyshin_gist_2024/cocktail_recipe_generation_v3_random_seed/runs/yz9b6t80' target=\"_blank\">https://wandb.ai/jennyshin_gist_2024/cocktail_recipe_generation_v3_random_seed/runs/yz9b6t80</a>"
      ],
      "text/plain": [
       "<IPython.core.display.HTML object>"
      ]
     },
     "metadata": {},
     "output_type": "display_data"
    }
   ],
   "source": [
    "import numpy as np\n",
    "import tensorflow as tf\n",
    "import json\n",
    "from tensorflow.keras.models import Sequential\n",
    "from tensorflow.keras.layers import LSTM, Dense, Embedding\n",
    "from CocktailEmbeddingMaker import CocktailEmbeddingMaker\n",
    "from CocktailEmbeddingMaker import Eval\n",
    "from RecipeGenerationModel import RecipeGenerationModel\n",
    "import wandb\n",
    "# 데이터 로드\n",
    "with open('./train_data.json', 'r') as f:\n",
    "    json_data = json.load(f)\n",
    "with open('../flavor.json', 'r') as f:\n",
    "    flavor_data = json.load(f)\n",
    "with open('../category.json', 'r') as f:\n",
    "    category_data = json.load(f)\n",
    "\n",
    "# # 모델 학습\n",
    "# recipe_generation_model.train(train_recipes, epochs=50, batch_size=32)\n",
    "def train_with_sweep():\n",
    "    # CocktailEmbeddingMaker 인스턴스 생성\n",
    "    cocktail_embedding_maker = CocktailEmbeddingMaker(json_data, flavor_data,category_data)\n",
    "    \n",
    "    eval_obj = Eval(json_data,flavor_data,category_data)\n",
    "    # test_user_list =eval_obj.generate_random_user_list(5)\n",
    "    with open('user_list_v1_5.json', 'r') as f:\n",
    "        test_user_list = json.load(f)\n",
    "    # RecipeGenerationModel 인스턴스 생성\n",
    "    recipe_generation_model = RecipeGenerationModel(cocktail_embedding_maker,eval_obj,json_data,flavor_data,category_data\n",
    "                                                    , True, max_recipe_length=10)\n",
    "\n",
    "\n",
    "    # 학습 데이터 준비\n",
    "    train_recipes = [recipe['recipe'].keys() for recipe in json_data['cocktail_info']]\n",
    "\n",
    "    # 모델 학습\n",
    "    loss, accuracy, performance = recipe_generation_model.train(train_recipes,test_user_list)\n",
    "\n",
    "\n",
    "    return loss, accuracy, performance\n",
    "\n",
    "\n",
    "loss, accuracy, performance=train_with_sweep()\n",
    "sweep_configuration = {\n",
    "    'method': 'random',\n",
    "    'name': 'sweep',\n",
    "    'metric': {'goal': 'maximize', 'name': 'performance'},\n",
    "    'parameters': \n",
    "    {\n",
    "        'batch_size': {'values': [16,32,64]},\n",
    "        'epochs': {'values': [100,200]},\n",
    "        'lr': {'max': 0.1, 'min': 0.00001,'distribution': 'log_uniform'},\n",
    "        'optimizer': {'values': ['adam', 'sgd']},\n",
    "        'hidden_units': {'values': [64,128]},\n",
    "        'augmentation': {'values': [True, False]},\n",
    "     }\n",
    "}\n",
    "\n",
    "\n",
    "sweep_id = wandb.sweep(sweep_configuration, project='cocktail_recipe_generation_v3_random_seed')\n",
    "wandb.agent(sweep_id, function=train_with_sweep)\n",
    "\n"
   ]
  },
  {
   "cell_type": "code",
   "execution_count": null,
   "metadata": {},
   "outputs": [],
   "source": []
  },
  {
   "cell_type": "code",
   "execution_count": 3,
   "metadata": {},
   "outputs": [],
   "source": [
    "import numpy as np\n",
    "import tensorflow as tf\n",
    "import json\n",
    "from tensorflow.keras.models import Sequential\n",
    "from tensorflow.keras.layers import LSTM, Dense, Embedding\n",
    "from CocktailEmbeddingMaker import CocktailEmbeddingMaker\n",
    "from CocktailEmbeddingMaker import Eval\n",
    "from RecipeGenerationModel import RecipeGenerationModel\n",
    "import wandb\n",
    "# 데이터 로드\n",
    "with open('./train_data.json', 'r') as f:\n",
    "    json_data = json.load(f)\n",
    "with open('../flavor.json', 'r') as f:\n",
    "    flavor_data = json.load(f)\n",
    "with open('../category.json', 'r') as f:\n",
    "    category_data = json.load(f)\n",
    "with open('user_list_v1_5.json', 'r') as f:\n",
    "    test_user_list = json.load(f)\n",
    "cocktail_embedding_maker = CocktailEmbeddingMaker(json_data, flavor_data,category_data)\n",
    "eval_obj = Eval(json_data,flavor_data,category_data)"
   ]
  },
  {
   "cell_type": "code",
   "execution_count": 7,
   "metadata": {},
   "outputs": [
    {
     "name": "stdout",
     "output_type": "stream",
     "text": [
      "there is no ingredient!:None\n"
     ]
    },
    {
     "ename": "TypeError",
     "evalue": "unhashable type: 'list'",
     "output_type": "error",
     "traceback": [
      "\u001b[1;31m---------------------------------------------------------------------------\u001b[0m",
      "\u001b[1;31mTypeError\u001b[0m                                 Traceback (most recent call last)",
      "Cell \u001b[1;32mIn[7], line 19\u001b[0m\n\u001b[0;32m     17\u001b[0m judge \u001b[38;5;241m=\u001b[39m {}                \n\u001b[0;32m     18\u001b[0m \u001b[38;5;28;01mfor\u001b[39;00m item \u001b[38;5;129;01min\u001b[39;00m \u001b[38;5;28menumerate\u001b[39m(user_seed_list):\n\u001b[1;32m---> 19\u001b[0m     judge[item] \u001b[38;5;241m=\u001b[39m eval_obj\u001b[38;5;241m.\u001b[39mget_ingredient_taste_score(item, user_preference)\n\u001b[0;32m     20\u001b[0m user_seed \u001b[38;5;241m=\u001b[39m \u001b[38;5;28mmax\u001b[39m(judge, key\u001b[38;5;241m=\u001b[39mjudge\u001b[38;5;241m.\u001b[39mget)\n\u001b[0;32m     21\u001b[0m \u001b[38;5;66;03m# user_seed = random.choice(user_seed_list)\u001b[39;00m\n",
      "\u001b[1;31mTypeError\u001b[0m: unhashable type: 'list'"
     ]
    }
   ],
   "source": [
    "import random\n",
    "user_seed_list=[]\n",
    "user_preference =test_user_list[0]\n",
    "\n",
    "if user_preference['ABV']<=10:\n",
    "    user_seed_list.append(random.choices(cocktail_embedding_maker.low_ing, k=3))\n",
    "    user_seed_list.append(random.choices(cocktail_embedding_maker.middle_ing, k=6))\n",
    "    user_seed_list.append(random.choices(cocktail_embedding_maker.high_ing, k=3))    \n",
    "elif user_preference['ABV']>10 and user_preference['ABV']<=30:\n",
    "    user_seed_list.append(random.choice(cocktail_embedding_maker.low_ing, k=1))\n",
    "    user_seed_list.append(random.choices(cocktail_embedding_maker.middle_ing, k=6))\n",
    "    user_seed_list.append(random.choices(cocktail_embedding_maker.high_ing, k=3))\n",
    "else:\n",
    "    user_seed_list.append(random.choice(cocktail_embedding_maker.low_ing, k=2))\n",
    "    user_seed_list.append(random.choices(cocktail_embedding_maker.middle_ing, k=6))\n",
    "    user_seed_list.append(random.choices(cocktail_embedding_maker.high_ing, k=3))\n",
    "judge = {}                \n",
    "for item in enumerate(user_seed_list):\n",
    "    judge[item] = eval_obj.get_ingredient_taste_score(item, user_preference)\n",
    "user_seed = max(judge, key=judge.get)\n",
    "# user_seed = random.choice(user_seed_list)\n",
    "print(f\"user_seed : {user_seed[1]}\")"
   ]
  },
  {
   "cell_type": "code",
   "execution_count": 8,
   "metadata": {},
   "outputs": [
    {
     "data": {
      "text/plain": [
       "[['champagne', 'zima', 'zima'],\n",
       " ['tia maria',\n",
       "  'vermouth',\n",
       "  'kahlua',\n",
       "  'strawberry liqueur',\n",
       "  'dry vermouth',\n",
       "  'sweet vermouth'],\n",
       " ['tequila', 'cachaca', 'southern comfort']]"
      ]
     },
     "execution_count": 8,
     "metadata": {},
     "output_type": "execute_result"
    }
   ],
   "source": [
    "user_seed_list"
   ]
  },
  {
   "cell_type": "code",
   "execution_count": null,
   "metadata": {},
   "outputs": [],
   "source": []
  }
 ],
 "metadata": {
  "kernelspec": {
   "display_name": "base",
   "language": "python",
   "name": "python3"
  },
  "language_info": {
   "codemirror_mode": {
    "name": "ipython",
    "version": 3
   },
   "file_extension": ".py",
   "mimetype": "text/x-python",
   "name": "python",
   "nbconvert_exporter": "python",
   "pygments_lexer": "ipython3",
   "version": "3.11.7"
  }
 },
 "nbformat": 4,
 "nbformat_minor": 2
}
